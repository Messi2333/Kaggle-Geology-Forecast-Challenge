{
 "cells": [
  {
   "cell_type": "markdown",
   "id": "f9b735e2",
   "metadata": {},
   "source": [
    "# Introduction\n",
    "\n",
    "In this project, we participate in the Geology Forecast Challenge on Kaggle, where the objective is to predict the underground geological layer boundaries based on partial drilling data. Each sample represents a drilling trajectory, with known geological Z-values from positions -299 to 0, and the task is to forecast the geological formations in positions 1 to 300 and their probabilistic realizations.\n",
    "\n",
    "The training dataset contains both the reliable observed geological columns (-49 to 0) and full target columns (1 to 300 and r_1_pos_1 to r_9_pos_300). Meanwhile, the test dataset only contains input columns (-49 to 0), requiring us to predict and submit the rest.\n",
    "\n",
    "The challenge involves multiple difficulties including:\n",
    "\n",
    "1. The presence of outliers in training data,\n",
    "2. High-dimensional multi-output regression,\n",
    "3. Handling missing values in the test set,\n",
    "4. Avoiding overfitting while maintaining prediction accuracy across 300+ targets.\n",
    "\n",
    "To address this, we performed thorough exploratory data analysis (EDA), implemented a variety of regression models (including k-Nearest Neighbors, Ridge Regression, Support Vector Regression, and Decision Trees), conducted cross-validation and hyperparameter tuning, and submitted multiple models to Kaggle for evaluation.\n",
    "\n",
    "Our final goal was to develop a robust, generalizable pipeline that ensures high performance across test samples and avoids data leakage.\n",
    "\n",
    "## List the key steps you took to perform EDA\n",
    "\n",
    "1. Load the dataset using pandas, check the dataset's size and feature types, and select the appropriate columns based on the description on the official Kaggle webpage.\n",
    "2. Check for missing values, extreme values, and outliers, and remove the extreme values and outliers. Then, fill in the missing values.\n",
    "3. Calculate the maximum, minimum, mean, and variance of each column of valid data, and create a line graph heat map visualisation.\n",
    "4. Cluster analysis\n",
    "\n",
    "## List and describe your kNN methodological design you used for experimental testing, benchmarking against a baseline, tuning, ensuring data leakage was not ocurring and how you effectively summarised and communicated all your results\n",
    "\n",
    "1. The first step is to determine that the input features are reliable drilling data from -49 to -1, and the output is geological layer prediction from 1 to 300.\n",
    "2. Hyperparameter tuning, n_neighbor of knn from 1 to 50, change weights, p-values, and algorithm to get RMSE and R² to evaluate model performance (where the weights and algorithm does not affect the model itself)\n",
    "3. Use Plotly to visualize the RMSE and R² curves after changing the variables to show the effect of k and p values on the model's performance.\n",
    "4. Ensure data security by using SimpleImputer and StandardScaler on both the training and test sets to prevent data leakage.\n",
    "\n",
    "### Best Kaggle score submission based on kNN\n",
    "\n",
    "- STATE HERE YOUR BEST SCORE AND WHERE YOU RANKED IN THE CLASS AT THE TIME OF SUBMISSION\n",
    "- Best score for KNN: -47.84056\n",
    "- EMBED THE SCREENSHOT OF YOUR BEST SUBMISSION SCORE FROM KAGGLE HERE\n",
    "\n",
    "## List all the predictive algorithms you used for the classification modelling component where you had the freedom to explore alternative methods. List here also your best Kaggle score and your position on the Kaggle leaderboard\n",
    "\n",
    "1. Support Vector Regression\n",
    "2. Ridge Regression\n",
    "3. Decision tree\n",
    "\n",
    "The best Kaggle score is -47.02687, and the position is 21st.\n",
    "\n",
    "## Analysis: list here all the remaining test design strategies you used, like k-fold CV, hyperparameter tuning, feature selection and feature engineering, discussion of your submission score results over time with resepct to model refinements and their effects\n",
    "\n",
    "1. For all three algorithms, we used GridSearchCV for triple cross-validation.\n",
    "2. GridSearchCV was used to search for optimal parameters in various algorithms, such as n_neighbors in KNN, the p-value in KNN, the maximum depth of decision trees, and the alpha parameter in ridge regression.\n",
    "3. The most complete data mentioned in the Kaggle from -49 to -1 are selected as the main features, two outliers in the train are removed, and six incomplete rows in the test are interpolated.\n",
    "4. The scores, as shown in the above figure, indicate that Super Vector Regression generalizes better to high-dimensional data due to the huge dimensionality of the training set.\n",
    "\n",
    "## Bonus material\n",
    "\n",
    "### If you performed cluster analysis, decribe below what you did, how you did and what was the meaning and output:\n",
    "\n",
    "1. To explore the geological profile of the subsurface, we selected reliable data columns, performed data processing, and then conducted unsupervised cluster analysis of the dataset using the K-Means algorithm.\n",
    "2. Data preprocessing, dimensionality reduction, and data visualisation\n",
    "3. Different classes of data may correspond to different geological regions, different drilling conditions, or different drilling paths.\n",
    "\n",
    "### If you conducted extensive extraction of additional features, list them below and explain how you extracted them and if each one was useful and how you determined this:\n",
    "\n",
    "These additional features (e.g. KMean, max_jump, etc.) provide valuable statistical information, some of which can be used directly in modelling, while others (e.g. std, Z-values) are more suitable to assist in analysing the data. We evaluated the feature effects through cross-validated R² scores, and ultimately retained those key features that both improved model performance and were easy to interpret.\n",
    "\n",
    "## Did you submit your initial kaggle solution by May 1 and enter it into the Google Spreadsheet\n",
    "\n",
    "- YES\n",
    "\n",
    "### Executive Summary\n",
    "\n",
    "The project developed a modelling process for predicting the boundaries of rock formations 1-300 below ground by analyzing geological Z-values from drilling data spanning depths from -49 to 0. Our team first carried out rigorous cleaning and exploratory analysis of the data, including outlier detection, missing value filling and feature screening, followed by comparison and optimisation of various algorithms, including SVR, ridge regression and decision tree, using kNN as the baseline model, with SVR performing best with a Kaggle score of -47.02687. The whole process pays special attention to preventing data leakage, and all preprocessing steps are embedded with cross-validation links, while the model interpretability is enhanced by cluster analysis and statistical feature extraction (e.g., Z-value mean, mutation standard deviation, etc.), which ultimately results in a set of solutions combining both prediction accuracy and engineering rigour, and the methodology is validated in both competition rankings and experimental metrics (RMSE, R²)."
   ]
  },
  {
   "cell_type": "code",
   "execution_count": 4,
   "id": "7ad73f7b-6c9a-4f6e-a57f-77ecedd25ba6",
   "metadata": {},
   "outputs": [],
   "source": [
    "import pandas as pd\n",
    "import numpy as np\n",
    "import time\n",
    "import matplotlib.pyplot as plt\n",
    "import seaborn as sns\n",
    "import plotly.express as px\n",
    "import plotly.graph_objects as go\n",
    "\n",
    "from sklearn.model_selection import train_test_split, GridSearchCV, cross_val_score\n",
    "from sklearn.impute import SimpleImputer\n",
    "from sklearn.preprocessing import StandardScaler\n",
    "from sklearn.metrics import mean_squared_error, r2_score, make_scorer\n",
    "\n",
    "from sklearn.neighbors import KNeighborsRegressor\n",
    "from sklearn.linear_model import Ridge\n",
    "from sklearn.svm import SVR\n",
    "from sklearn.tree import DecisionTreeRegressor\n",
    "from sklearn.ensemble import RandomForestRegressor\n",
    "from sklearn.multioutput import MultiOutputRegressor\n",
    "\n",
    "from sklearn.cluster import KMeans\n",
    "from sklearn.decomposition import PCA"
   ]
  },
  {
   "cell_type": "code",
   "execution_count": 5,
   "id": "b92b08be-0462-45d4-8f0c-f185555ba3d1",
   "metadata": {},
   "outputs": [],
   "source": [
    "# Load the train and test datasets\n",
    "train = pd.read_csv('/Users/danielyang/Downloads/data/train.csv')\n",
    "test = pd.read_csv('/Users/danielyang/Downloads/data//test.csv')\n",
    "submission = pd.read_csv('/Users/danielyang/Downloads/data/sample_submission.csv')"
   ]
  },
  {
   "cell_type": "markdown",
   "id": "037049cf",
   "metadata": {},
   "source": [
    "# EDA"
   ]
  },
  {
   "cell_type": "code",
   "execution_count": 6,
   "id": "37942ed0-854c-4ef7-aa82-75de8bff5f91",
   "metadata": {},
   "outputs": [
    {
     "name": "stdout",
     "output_type": "stream",
     "text": [
      "<class 'pandas.core.frame.DataFrame'>\n",
      "RangeIndex: 1510 entries, 0 to 1509\n",
      "Columns: 3301 entries, geology_id to r_9_pos_300\n",
      "dtypes: float64(3300), object(1)\n",
      "memory usage: 38.0+ MB\n",
      "Train shape: (1510, 3301)\n"
     ]
    }
   ],
   "source": [
    "# Show the dimension for both datasets\n",
    "train.info()\n",
    "print(\"Train shape:\", train.shape)"
   ]
  },
  {
   "cell_type": "markdown",
   "id": "4df1cfb2-feec-4ba9-9542-afdb55182fde",
   "metadata": {},
   "source": [
    "### Abstraction of the training dataset\n",
    "\n",
    "The shape of the train.csv is (1510, 3301). The first column is the hash-based geology_id, and the remaining columns are position numbers ranging from -299 to r_9_pos_300. The actual results in columns 1-300 are the same as the results in the subsequent columns and are written in 9 copies as r_1...r_9 columns."
   ]
  },
  {
   "cell_type": "code",
   "execution_count": 7,
   "id": "d785333e-d594-47bc-aab5-3abdc095fb53",
   "metadata": {},
   "outputs": [
    {
     "name": "stdout",
     "output_type": "stream",
     "text": [
      "<class 'pandas.core.frame.DataFrame'>\n",
      "RangeIndex: 524 entries, 0 to 523\n",
      "Columns: 301 entries, geology_id to 0\n",
      "dtypes: float64(300), object(1)\n",
      "memory usage: 1.2+ MB\n",
      "Test shape: (524, 301)\n"
     ]
    }
   ],
   "source": [
    "# Show the dimension for both datasets\n",
    "test.info()\n",
    "print(\"Test shape:\", test.shape)"
   ]
  },
  {
   "cell_type": "markdown",
   "id": "4ab263da-4ca7-4a3e-8bff-16c7b649d189",
   "metadata": {},
   "source": [
    "### Abstraction of the testing dataset\n",
    "\n",
    "The shape of the test.csv is (524, 301). The first column is the hash-based geology_id, and the remaining columns are position numbers ranging from -299 to 0."
   ]
  },
  {
   "cell_type": "code",
   "execution_count": 8,
   "id": "380f46b5-81be-4399-beb9-38410869a5ea",
   "metadata": {},
   "outputs": [
    {
     "name": "stdout",
     "output_type": "stream",
     "text": [
      "<class 'pandas.core.frame.DataFrame'>\n",
      "RangeIndex: 524 entries, 0 to 523\n",
      "Columns: 3001 entries, geology_id to r_9_pos_300\n",
      "dtypes: float64(3000), object(1)\n",
      "memory usage: 12.0+ MB\n",
      "Submission shape: (524, 3001)\n"
     ]
    }
   ],
   "source": [
    "# Show the dimension for both datasets\n",
    "submission.info()\n",
    "print(\"Submission shape:\", submission.shape)"
   ]
  },
  {
   "cell_type": "markdown",
   "id": "1825940e-a8e7-43aa-9fe4-adca8eb0e9ad",
   "metadata": {},
   "source": [
    "### Abstraction of the sample_submission dataset\n",
    "\n",
    "The shape of the sample_submission.csv is (524, 3001). The first column is the hash-based geology_id, and the remaining columns are position numbers ranging from 0 to r_9_pos_300."
   ]
  },
  {
   "cell_type": "markdown",
   "id": "b051ee68-d119-43b5-859e-a0d631f3b692",
   "metadata": {},
   "source": [
    "### Dataset Description\n",
    "\n",
    "According to the given Dataset Description, not all columns are present in all the rows and values for columns -49 ~ 0 are present in all rows; therefore, values for columns -49..0 can be relied on as a priority during analysis. Missing-value checking is necessary, despite the official description stating that there are no missing values in these columns.\n",
    "\n",
    "The Z-value at the zero drilling location is normalised to 0, so that column 0 is always 0 in every row. According to Scikit-learn's Variance Threshold, Columns with zero variance are uninformative, as they reduce the dimensionality and lose information from the dataset. Hence, remove column 0 before the overall work starts.\n",
    "\n",
    "https://farshadabdulazeez.medium.com/variance-threshold-for-feature-selection-c2ff014f4e9b"
   ]
  },
  {
   "cell_type": "markdown",
   "id": "cc5990a5-199f-4a1b-b46b-5f371a2653ea",
   "metadata": {},
   "source": [
    "### Training dataset"
   ]
  },
  {
   "cell_type": "code",
   "execution_count": 40,
   "id": "cbf97ece-9f9f-4445-8c00-f2c74a0ba781",
   "metadata": {},
   "outputs": [],
   "source": [
    "# define Columns -49..0 for further training \n",
    "priority_cols = [str(i) for i in range(-49, 1)]"
   ]
  },
  {
   "cell_type": "code",
   "execution_count": 10,
   "id": "9fe01200-76d6-4a4e-9d5c-172e349baa9c",
   "metadata": {},
   "outputs": [],
   "source": [
    "main = train[priority_cols].copy()\n",
    "# Calculate the percentage of the NaN value in the selected columns range\n",
    "missing_counts = main.isnull().sum()\n",
    "missing_percentages = (missing_counts / len(main)) * 100"
   ]
  },
  {
   "cell_type": "code",
   "execution_count": 11,
   "id": "dae2a891-920a-455c-8137-31679f1c548c",
   "metadata": {},
   "outputs": [],
   "source": [
    "# Missing percentage dataframe for columns -49..0\n",
    "missing = pd.DataFrame({\n",
    "    'Columns': missing_counts.index,\n",
    "    'Missing Count': missing_counts.values,\n",
    "    'Missing Percentage': missing_percentages.values\n",
    "}).sort_values(by='Missing Count', ascending=False).reset_index(drop=True)"
   ]
  },
  {
   "cell_type": "code",
   "execution_count": 12,
   "id": "ec743054-6050-4ad3-bb4c-6ddd50646b2c",
   "metadata": {},
   "outputs": [
    {
     "data": {
      "application/vnd.plotly.v1+json": {
       "config": {
        "plotlyServerURL": "https://plot.ly"
       },
       "data": [
        {
         "customdata": [
          [
           1.9867549668874174
          ],
          [
           1.9867549668874174
          ],
          [
           1.7880794701986755
          ],
          [
           1.6556291390728477
          ],
          [
           1.5231788079470199
          ],
          [
           1.390728476821192
          ],
          [
           1.390728476821192
          ],
          [
           1.390728476821192
          ],
          [
           1.3245033112582782
          ],
          [
           1.1920529801324504
          ],
          [
           1.1258278145695364
          ],
          [
           0.9933774834437087
          ],
          [
           0.9933774834437087
          ],
          [
           0.728476821192053
          ],
          [
           0.728476821192053
          ],
          [
           0.5960264900662252
          ],
          [
           0.5960264900662252
          ],
          [
           0.5960264900662252
          ],
          [
           0.5960264900662252
          ],
          [
           0.5960264900662252
          ],
          [
           0.5960264900662252
          ],
          [
           0.5960264900662252
          ],
          [
           0.5960264900662252
          ],
          [
           0.5960264900662252
          ],
          [
           0.5960264900662252
          ],
          [
           0.5960264900662252
          ],
          [
           0.5298013245033113
          ],
          [
           0.3973509933774834
          ],
          [
           0.3973509933774834
          ],
          [
           0.33112582781456956
          ],
          [
           0.33112582781456956
          ],
          [
           0.1986754966887417
          ],
          [
           0.1986754966887417
          ],
          [
           0.1986754966887417
          ],
          [
           0.1986754966887417
          ],
          [
           0.1986754966887417
          ],
          [
           0.1986754966887417
          ],
          [
           0.1986754966887417
          ],
          [
           0.1986754966887417
          ],
          [
           0.1986754966887417
          ],
          [
           0.1986754966887417
          ],
          [
           0.13245033112582782
          ],
          [
           0
          ],
          [
           0
          ],
          [
           0
          ],
          [
           0
          ],
          [
           0
          ],
          [
           0
          ],
          [
           0
          ],
          [
           0
          ]
         ],
         "hovertemplate": "Columns=%{x}<br>Missing Count=%{y}<br>Missing Percentage=%{customdata[0]:.2f}<extra></extra>",
         "legendgroup": "",
         "line": {
          "color": "#636efa",
          "dash": "solid"
         },
         "marker": {
          "symbol": "circle"
         },
         "mode": "lines+markers",
         "name": "",
         "orientation": "v",
         "showlegend": false,
         "type": "scatter",
         "x": [
          "-49",
          "-48",
          "-47",
          "-46",
          "-45",
          "-44",
          "-43",
          "-42",
          "-41",
          "-40",
          "-39",
          "-38",
          "-37",
          "-36",
          "-35",
          "-29",
          "-25",
          "-26",
          "-27",
          "-28",
          "-24",
          "-30",
          "-32",
          "-33",
          "-34",
          "-31",
          "-23",
          "-22",
          "-21",
          "-20",
          "-19",
          "-13",
          "-9",
          "-10",
          "-11",
          "-12",
          "-14",
          "-15",
          "-16",
          "-17",
          "-18",
          "-8",
          "-7",
          "-6",
          "-5",
          "-4",
          "-3",
          "-2",
          "-1",
          "0"
         ],
         "xaxis": "x",
         "y": [
          30,
          30,
          27,
          25,
          23,
          21,
          21,
          21,
          20,
          18,
          17,
          15,
          15,
          11,
          11,
          9,
          9,
          9,
          9,
          9,
          9,
          9,
          9,
          9,
          9,
          9,
          8,
          6,
          6,
          5,
          5,
          3,
          3,
          3,
          3,
          3,
          3,
          3,
          3,
          3,
          3,
          2,
          0,
          0,
          0,
          0,
          0,
          0,
          0,
          0
         ],
         "yaxis": "y"
        }
       ],
       "layout": {
        "height": 400,
        "legend": {
         "tracegroupgap": 0
        },
        "template": {
         "data": {
          "bar": [
           {
            "error_x": {
             "color": "#2a3f5f"
            },
            "error_y": {
             "color": "#2a3f5f"
            },
            "marker": {
             "line": {
              "color": "white",
              "width": 0.5
             },
             "pattern": {
              "fillmode": "overlay",
              "size": 10,
              "solidity": 0.2
             }
            },
            "type": "bar"
           }
          ],
          "barpolar": [
           {
            "marker": {
             "line": {
              "color": "white",
              "width": 0.5
             },
             "pattern": {
              "fillmode": "overlay",
              "size": 10,
              "solidity": 0.2
             }
            },
            "type": "barpolar"
           }
          ],
          "carpet": [
           {
            "aaxis": {
             "endlinecolor": "#2a3f5f",
             "gridcolor": "#C8D4E3",
             "linecolor": "#C8D4E3",
             "minorgridcolor": "#C8D4E3",
             "startlinecolor": "#2a3f5f"
            },
            "baxis": {
             "endlinecolor": "#2a3f5f",
             "gridcolor": "#C8D4E3",
             "linecolor": "#C8D4E3",
             "minorgridcolor": "#C8D4E3",
             "startlinecolor": "#2a3f5f"
            },
            "type": "carpet"
           }
          ],
          "choropleth": [
           {
            "colorbar": {
             "outlinewidth": 0,
             "ticks": ""
            },
            "type": "choropleth"
           }
          ],
          "contour": [
           {
            "colorbar": {
             "outlinewidth": 0,
             "ticks": ""
            },
            "colorscale": [
             [
              0,
              "#0d0887"
             ],
             [
              0.1111111111111111,
              "#46039f"
             ],
             [
              0.2222222222222222,
              "#7201a8"
             ],
             [
              0.3333333333333333,
              "#9c179e"
             ],
             [
              0.4444444444444444,
              "#bd3786"
             ],
             [
              0.5555555555555556,
              "#d8576b"
             ],
             [
              0.6666666666666666,
              "#ed7953"
             ],
             [
              0.7777777777777778,
              "#fb9f3a"
             ],
             [
              0.8888888888888888,
              "#fdca26"
             ],
             [
              1,
              "#f0f921"
             ]
            ],
            "type": "contour"
           }
          ],
          "contourcarpet": [
           {
            "colorbar": {
             "outlinewidth": 0,
             "ticks": ""
            },
            "type": "contourcarpet"
           }
          ],
          "heatmap": [
           {
            "colorbar": {
             "outlinewidth": 0,
             "ticks": ""
            },
            "colorscale": [
             [
              0,
              "#0d0887"
             ],
             [
              0.1111111111111111,
              "#46039f"
             ],
             [
              0.2222222222222222,
              "#7201a8"
             ],
             [
              0.3333333333333333,
              "#9c179e"
             ],
             [
              0.4444444444444444,
              "#bd3786"
             ],
             [
              0.5555555555555556,
              "#d8576b"
             ],
             [
              0.6666666666666666,
              "#ed7953"
             ],
             [
              0.7777777777777778,
              "#fb9f3a"
             ],
             [
              0.8888888888888888,
              "#fdca26"
             ],
             [
              1,
              "#f0f921"
             ]
            ],
            "type": "heatmap"
           }
          ],
          "heatmapgl": [
           {
            "colorbar": {
             "outlinewidth": 0,
             "ticks": ""
            },
            "colorscale": [
             [
              0,
              "#0d0887"
             ],
             [
              0.1111111111111111,
              "#46039f"
             ],
             [
              0.2222222222222222,
              "#7201a8"
             ],
             [
              0.3333333333333333,
              "#9c179e"
             ],
             [
              0.4444444444444444,
              "#bd3786"
             ],
             [
              0.5555555555555556,
              "#d8576b"
             ],
             [
              0.6666666666666666,
              "#ed7953"
             ],
             [
              0.7777777777777778,
              "#fb9f3a"
             ],
             [
              0.8888888888888888,
              "#fdca26"
             ],
             [
              1,
              "#f0f921"
             ]
            ],
            "type": "heatmapgl"
           }
          ],
          "histogram": [
           {
            "marker": {
             "pattern": {
              "fillmode": "overlay",
              "size": 10,
              "solidity": 0.2
             }
            },
            "type": "histogram"
           }
          ],
          "histogram2d": [
           {
            "colorbar": {
             "outlinewidth": 0,
             "ticks": ""
            },
            "colorscale": [
             [
              0,
              "#0d0887"
             ],
             [
              0.1111111111111111,
              "#46039f"
             ],
             [
              0.2222222222222222,
              "#7201a8"
             ],
             [
              0.3333333333333333,
              "#9c179e"
             ],
             [
              0.4444444444444444,
              "#bd3786"
             ],
             [
              0.5555555555555556,
              "#d8576b"
             ],
             [
              0.6666666666666666,
              "#ed7953"
             ],
             [
              0.7777777777777778,
              "#fb9f3a"
             ],
             [
              0.8888888888888888,
              "#fdca26"
             ],
             [
              1,
              "#f0f921"
             ]
            ],
            "type": "histogram2d"
           }
          ],
          "histogram2dcontour": [
           {
            "colorbar": {
             "outlinewidth": 0,
             "ticks": ""
            },
            "colorscale": [
             [
              0,
              "#0d0887"
             ],
             [
              0.1111111111111111,
              "#46039f"
             ],
             [
              0.2222222222222222,
              "#7201a8"
             ],
             [
              0.3333333333333333,
              "#9c179e"
             ],
             [
              0.4444444444444444,
              "#bd3786"
             ],
             [
              0.5555555555555556,
              "#d8576b"
             ],
             [
              0.6666666666666666,
              "#ed7953"
             ],
             [
              0.7777777777777778,
              "#fb9f3a"
             ],
             [
              0.8888888888888888,
              "#fdca26"
             ],
             [
              1,
              "#f0f921"
             ]
            ],
            "type": "histogram2dcontour"
           }
          ],
          "mesh3d": [
           {
            "colorbar": {
             "outlinewidth": 0,
             "ticks": ""
            },
            "type": "mesh3d"
           }
          ],
          "parcoords": [
           {
            "line": {
             "colorbar": {
              "outlinewidth": 0,
              "ticks": ""
             }
            },
            "type": "parcoords"
           }
          ],
          "pie": [
           {
            "automargin": true,
            "type": "pie"
           }
          ],
          "scatter": [
           {
            "fillpattern": {
             "fillmode": "overlay",
             "size": 10,
             "solidity": 0.2
            },
            "type": "scatter"
           }
          ],
          "scatter3d": [
           {
            "line": {
             "colorbar": {
              "outlinewidth": 0,
              "ticks": ""
             }
            },
            "marker": {
             "colorbar": {
              "outlinewidth": 0,
              "ticks": ""
             }
            },
            "type": "scatter3d"
           }
          ],
          "scattercarpet": [
           {
            "marker": {
             "colorbar": {
              "outlinewidth": 0,
              "ticks": ""
             }
            },
            "type": "scattercarpet"
           }
          ],
          "scattergeo": [
           {
            "marker": {
             "colorbar": {
              "outlinewidth": 0,
              "ticks": ""
             }
            },
            "type": "scattergeo"
           }
          ],
          "scattergl": [
           {
            "marker": {
             "colorbar": {
              "outlinewidth": 0,
              "ticks": ""
             }
            },
            "type": "scattergl"
           }
          ],
          "scattermapbox": [
           {
            "marker": {
             "colorbar": {
              "outlinewidth": 0,
              "ticks": ""
             }
            },
            "type": "scattermapbox"
           }
          ],
          "scatterpolar": [
           {
            "marker": {
             "colorbar": {
              "outlinewidth": 0,
              "ticks": ""
             }
            },
            "type": "scatterpolar"
           }
          ],
          "scatterpolargl": [
           {
            "marker": {
             "colorbar": {
              "outlinewidth": 0,
              "ticks": ""
             }
            },
            "type": "scatterpolargl"
           }
          ],
          "scatterternary": [
           {
            "marker": {
             "colorbar": {
              "outlinewidth": 0,
              "ticks": ""
             }
            },
            "type": "scatterternary"
           }
          ],
          "surface": [
           {
            "colorbar": {
             "outlinewidth": 0,
             "ticks": ""
            },
            "colorscale": [
             [
              0,
              "#0d0887"
             ],
             [
              0.1111111111111111,
              "#46039f"
             ],
             [
              0.2222222222222222,
              "#7201a8"
             ],
             [
              0.3333333333333333,
              "#9c179e"
             ],
             [
              0.4444444444444444,
              "#bd3786"
             ],
             [
              0.5555555555555556,
              "#d8576b"
             ],
             [
              0.6666666666666666,
              "#ed7953"
             ],
             [
              0.7777777777777778,
              "#fb9f3a"
             ],
             [
              0.8888888888888888,
              "#fdca26"
             ],
             [
              1,
              "#f0f921"
             ]
            ],
            "type": "surface"
           }
          ],
          "table": [
           {
            "cells": {
             "fill": {
              "color": "#EBF0F8"
             },
             "line": {
              "color": "white"
             }
            },
            "header": {
             "fill": {
              "color": "#C8D4E3"
             },
             "line": {
              "color": "white"
             }
            },
            "type": "table"
           }
          ]
         },
         "layout": {
          "annotationdefaults": {
           "arrowcolor": "#2a3f5f",
           "arrowhead": 0,
           "arrowwidth": 1
          },
          "autotypenumbers": "strict",
          "coloraxis": {
           "colorbar": {
            "outlinewidth": 0,
            "ticks": ""
           }
          },
          "colorscale": {
           "diverging": [
            [
             0,
             "#8e0152"
            ],
            [
             0.1,
             "#c51b7d"
            ],
            [
             0.2,
             "#de77ae"
            ],
            [
             0.3,
             "#f1b6da"
            ],
            [
             0.4,
             "#fde0ef"
            ],
            [
             0.5,
             "#f7f7f7"
            ],
            [
             0.6,
             "#e6f5d0"
            ],
            [
             0.7,
             "#b8e186"
            ],
            [
             0.8,
             "#7fbc41"
            ],
            [
             0.9,
             "#4d9221"
            ],
            [
             1,
             "#276419"
            ]
           ],
           "sequential": [
            [
             0,
             "#0d0887"
            ],
            [
             0.1111111111111111,
             "#46039f"
            ],
            [
             0.2222222222222222,
             "#7201a8"
            ],
            [
             0.3333333333333333,
             "#9c179e"
            ],
            [
             0.4444444444444444,
             "#bd3786"
            ],
            [
             0.5555555555555556,
             "#d8576b"
            ],
            [
             0.6666666666666666,
             "#ed7953"
            ],
            [
             0.7777777777777778,
             "#fb9f3a"
            ],
            [
             0.8888888888888888,
             "#fdca26"
            ],
            [
             1,
             "#f0f921"
            ]
           ],
           "sequentialminus": [
            [
             0,
             "#0d0887"
            ],
            [
             0.1111111111111111,
             "#46039f"
            ],
            [
             0.2222222222222222,
             "#7201a8"
            ],
            [
             0.3333333333333333,
             "#9c179e"
            ],
            [
             0.4444444444444444,
             "#bd3786"
            ],
            [
             0.5555555555555556,
             "#d8576b"
            ],
            [
             0.6666666666666666,
             "#ed7953"
            ],
            [
             0.7777777777777778,
             "#fb9f3a"
            ],
            [
             0.8888888888888888,
             "#fdca26"
            ],
            [
             1,
             "#f0f921"
            ]
           ]
          },
          "colorway": [
           "#636efa",
           "#EF553B",
           "#00cc96",
           "#ab63fa",
           "#FFA15A",
           "#19d3f3",
           "#FF6692",
           "#B6E880",
           "#FF97FF",
           "#FECB52"
          ],
          "font": {
           "color": "#2a3f5f"
          },
          "geo": {
           "bgcolor": "white",
           "lakecolor": "white",
           "landcolor": "white",
           "showlakes": true,
           "showland": true,
           "subunitcolor": "#C8D4E3"
          },
          "hoverlabel": {
           "align": "left"
          },
          "hovermode": "closest",
          "mapbox": {
           "style": "light"
          },
          "paper_bgcolor": "white",
          "plot_bgcolor": "white",
          "polar": {
           "angularaxis": {
            "gridcolor": "#EBF0F8",
            "linecolor": "#EBF0F8",
            "ticks": ""
           },
           "bgcolor": "white",
           "radialaxis": {
            "gridcolor": "#EBF0F8",
            "linecolor": "#EBF0F8",
            "ticks": ""
           }
          },
          "scene": {
           "xaxis": {
            "backgroundcolor": "white",
            "gridcolor": "#DFE8F3",
            "gridwidth": 2,
            "linecolor": "#EBF0F8",
            "showbackground": true,
            "ticks": "",
            "zerolinecolor": "#EBF0F8"
           },
           "yaxis": {
            "backgroundcolor": "white",
            "gridcolor": "#DFE8F3",
            "gridwidth": 2,
            "linecolor": "#EBF0F8",
            "showbackground": true,
            "ticks": "",
            "zerolinecolor": "#EBF0F8"
           },
           "zaxis": {
            "backgroundcolor": "white",
            "gridcolor": "#DFE8F3",
            "gridwidth": 2,
            "linecolor": "#EBF0F8",
            "showbackground": true,
            "ticks": "",
            "zerolinecolor": "#EBF0F8"
           }
          },
          "shapedefaults": {
           "line": {
            "color": "#2a3f5f"
           }
          },
          "ternary": {
           "aaxis": {
            "gridcolor": "#DFE8F3",
            "linecolor": "#A2B1C6",
            "ticks": ""
           },
           "baxis": {
            "gridcolor": "#DFE8F3",
            "linecolor": "#A2B1C6",
            "ticks": ""
           },
           "bgcolor": "white",
           "caxis": {
            "gridcolor": "#DFE8F3",
            "linecolor": "#A2B1C6",
            "ticks": ""
           }
          },
          "title": {
           "x": 0.05
          },
          "xaxis": {
           "automargin": true,
           "gridcolor": "#EBF0F8",
           "linecolor": "#EBF0F8",
           "ticks": "",
           "title": {
            "standoff": 15
           },
           "zerolinecolor": "#EBF0F8",
           "zerolinewidth": 2
          },
          "yaxis": {
           "automargin": true,
           "gridcolor": "#EBF0F8",
           "linecolor": "#EBF0F8",
           "ticks": "",
           "title": {
            "standoff": 15
           },
           "zerolinecolor": "#EBF0F8",
           "zerolinewidth": 2
          }
         }
        },
        "title": {
         "font": {
          "family": "Arial",
          "size": 26
         },
         "text": "Missing Value Count and Percentage by Columns Before Data Cleansing(train.csv)",
         "x": 0.5
        },
        "width": 1000,
        "xaxis": {
         "anchor": "y",
         "domain": [
          0,
          1
         ],
         "dtick": 1,
         "tickfont": {
          "size": 10
         },
         "tickmode": "linear",
         "title": {
          "font": {
           "family": "Arial",
           "size": 18
          },
          "text": "Columns"
         }
        },
        "yaxis": {
         "anchor": "x",
         "domain": [
          0,
          1
         ],
         "title": {
          "font": {
           "family": "Arial",
           "size": 18
          },
          "text": "Missing Count"
         }
        }
       }
      }
     },
     "metadata": {},
     "output_type": "display_data"
    },
    {
     "data": {
      "text/plain": [
       "<Figure size 640x480 with 0 Axes>"
      ]
     },
     "metadata": {},
     "output_type": "display_data"
    }
   ],
   "source": [
    "# Plot to show the relations between missing count, missing percentage and columns in training set\n",
    "fig = px.line(\n",
    "    missing,\n",
    "    x=\"Columns\",\n",
    "    y=\"Missing Count\",\n",
    "    markers=True,\n",
    "    title=\"Missing Value Count and Percentage by Columns Before Data Cleansing(train.csv)\",\n",
    "    labels={\"Columns\": \"Columns\", \"Missing Count\": \"Missing Count\"},\n",
    "    hover_data={\"Missing Percentage\": ':.2f'}  \n",
    ")\n",
    "\n",
    "fig.update_layout(\n",
    "    width=1000,\n",
    "    height=400,\n",
    "    title=dict(\n",
    "        text=\"Missing Value Count and Percentage by Columns Before Data Cleansing(train.csv)\",\n",
    "        x=0.5,\n",
    "        font=dict(size=26, family=\"Arial\")\n",
    "    ),\n",
    "    xaxis=dict(\n",
    "        title=dict(\n",
    "            text=\"Columns\",\n",
    "            font=dict(size=18, family=\"Arial\")\n",
    "        ),\n",
    "        tickmode='linear',     \n",
    "        dtick=1,                \n",
    "        tickfont=dict(size=10)\n",
    "    ),\n",
    "    yaxis=dict(\n",
    "        title=dict(\n",
    "            text=\"Missing Count\",\n",
    "            font=dict(size=18, family=\"Arial\")\n",
    "        )\n",
    "    ),\n",
    "    template=\"plotly_white\"\n",
    ")    \n",
    "\n",
    "plt.tight_layout()\n",
    "fig.show()"
   ]
  },
  {
   "cell_type": "markdown",
   "id": "3f064cb1-4ef7-44c9-9a8e-c15fcfb74ff2",
   "metadata": {},
   "source": [
    "```\n",
    "According to the output, we can see that columns from -1 to -7 have no missing values, columns from -8 to -34 have no more than 10 missing values, and columns from -35 to -49 have missing values ranging from 11 to 30. The dataset is large in terms of sample size; within the system-provided effective data range, the percentage of missing values is less than 2 percent. Hence, data cleansing can be achieved directly by removing invalid data, as the deletion of a small amount of data has a negligible impact on the data distribution.\n",
    "\n",
    "```"
   ]
  },
  {
   "cell_type": "markdown",
   "id": "e6911dac-ba39-4498-b7ff-44a8f7cf8f20",
   "metadata": {},
   "source": [
    "### Testing dataset"
   ]
  },
  {
   "cell_type": "code",
   "execution_count": 13,
   "id": "4b36aad1-9244-4396-bd0a-9b6f3027f82c",
   "metadata": {},
   "outputs": [],
   "source": [
    "# Choose the test Columns -49..0 \n",
    "main_test = test[priority_cols].copy()\n",
    "# Calculate the percentage of the NaN value in the selected columns range\n",
    "missing_counts_test = main_test.isnull().sum()\n",
    "missing_percentages_test = (missing_counts / len(main_test)) * 100"
   ]
  },
  {
   "cell_type": "code",
   "execution_count": 14,
   "id": "ab4bc18c-e61c-46ba-a1ab-ff60b1230b93",
   "metadata": {},
   "outputs": [],
   "source": [
    "# Missing percentage dataframe for columns -49..0\n",
    "missing_test = pd.DataFrame({\n",
    "    'Columns': missing_counts_test.index,\n",
    "    'Missing Count': missing_counts_test.values,\n",
    "    'Missing Percentage': missing_percentages_test.values\n",
    "}).sort_values(by='Missing Count', ascending=False).reset_index(drop=True)"
   ]
  },
  {
   "cell_type": "code",
   "execution_count": 15,
   "id": "54204bbd-66c5-4718-bdc8-ee851e690261",
   "metadata": {},
   "outputs": [
    {
     "data": {
      "application/vnd.plotly.v1+json": {
       "config": {
        "plotlyServerURL": "https://plot.ly"
       },
       "data": [
        {
         "customdata": [
          [
           5.7251908396946565
          ],
          [
           5.7251908396946565
          ],
          [
           5.152671755725191
          ],
          [
           4.770992366412214
          ],
          [
           4.3893129770992365
          ],
          [
           4.007633587786259
          ],
          [
           4.007633587786259
          ],
          [
           4.007633587786259
          ],
          [
           3.816793893129771
          ],
          [
           3.435114503816794
          ],
          [
           3.2442748091603053
          ],
          [
           2.8625954198473282
          ],
          [
           2.8625954198473282
          ],
          [
           2.099236641221374
          ],
          [
           2.099236641221374
          ],
          [
           1.717557251908397
          ],
          [
           1.717557251908397
          ],
          [
           1.717557251908397
          ],
          [
           1.717557251908397
          ],
          [
           1.717557251908397
          ],
          [
           1.717557251908397
          ],
          [
           1.717557251908397
          ],
          [
           1.717557251908397
          ],
          [
           1.717557251908397
          ],
          [
           1.717557251908397
          ],
          [
           1.717557251908397
          ],
          [
           1.5267175572519083
          ],
          [
           1.1450381679389312
          ],
          [
           1.1450381679389312
          ],
          [
           0.9541984732824428
          ],
          [
           0.9541984732824428
          ],
          [
           0.5725190839694656
          ],
          [
           0.5725190839694656
          ],
          [
           0.5725190839694656
          ],
          [
           0.5725190839694656
          ],
          [
           0.5725190839694656
          ],
          [
           0.5725190839694656
          ],
          [
           0.5725190839694656
          ],
          [
           0.5725190839694656
          ],
          [
           0.5725190839694656
          ],
          [
           0.5725190839694656
          ],
          [
           0.38167938931297707
          ],
          [
           0
          ],
          [
           0
          ],
          [
           0
          ],
          [
           0
          ],
          [
           0
          ],
          [
           0
          ],
          [
           0
          ],
          [
           0
          ]
         ],
         "hovertemplate": "Columns=%{x}<br>Missing Count=%{y}<br>Missing Percentage=%{customdata[0]:.2f}<extra></extra>",
         "legendgroup": "",
         "line": {
          "color": "#636efa",
          "dash": "solid"
         },
         "marker": {
          "symbol": "circle"
         },
         "mode": "lines+markers",
         "name": "",
         "orientation": "v",
         "showlegend": false,
         "type": "scatter",
         "x": [
          -49,
          -48,
          -47,
          -46,
          -45,
          -44,
          -43,
          -42,
          -41,
          -40,
          -39,
          -38,
          -37,
          -36,
          -35,
          -34,
          -33,
          -32,
          -31,
          -30,
          -29,
          -28,
          -27,
          -26,
          -25,
          -24,
          -23,
          -22,
          -21,
          -20,
          -19,
          -18,
          -17,
          -16,
          -15,
          -14,
          -13,
          -12,
          -11,
          -10,
          -9,
          -8,
          -7,
          -6,
          -5,
          -4,
          -3,
          -2,
          -1,
          0
         ],
         "xaxis": "x",
         "y": [
          6,
          6,
          6,
          6,
          6,
          6,
          6,
          6,
          6,
          6,
          6,
          6,
          6,
          6,
          6,
          6,
          6,
          6,
          6,
          6,
          6,
          6,
          6,
          6,
          6,
          6,
          6,
          6,
          6,
          6,
          6,
          6,
          6,
          6,
          6,
          6,
          6,
          6,
          6,
          6,
          6,
          5,
          3,
          3,
          0,
          0,
          0,
          0,
          0,
          0
         ],
         "yaxis": "y"
        }
       ],
       "layout": {
        "height": 400,
        "legend": {
         "tracegroupgap": 0
        },
        "template": {
         "data": {
          "bar": [
           {
            "error_x": {
             "color": "#2a3f5f"
            },
            "error_y": {
             "color": "#2a3f5f"
            },
            "marker": {
             "line": {
              "color": "white",
              "width": 0.5
             },
             "pattern": {
              "fillmode": "overlay",
              "size": 10,
              "solidity": 0.2
             }
            },
            "type": "bar"
           }
          ],
          "barpolar": [
           {
            "marker": {
             "line": {
              "color": "white",
              "width": 0.5
             },
             "pattern": {
              "fillmode": "overlay",
              "size": 10,
              "solidity": 0.2
             }
            },
            "type": "barpolar"
           }
          ],
          "carpet": [
           {
            "aaxis": {
             "endlinecolor": "#2a3f5f",
             "gridcolor": "#C8D4E3",
             "linecolor": "#C8D4E3",
             "minorgridcolor": "#C8D4E3",
             "startlinecolor": "#2a3f5f"
            },
            "baxis": {
             "endlinecolor": "#2a3f5f",
             "gridcolor": "#C8D4E3",
             "linecolor": "#C8D4E3",
             "minorgridcolor": "#C8D4E3",
             "startlinecolor": "#2a3f5f"
            },
            "type": "carpet"
           }
          ],
          "choropleth": [
           {
            "colorbar": {
             "outlinewidth": 0,
             "ticks": ""
            },
            "type": "choropleth"
           }
          ],
          "contour": [
           {
            "colorbar": {
             "outlinewidth": 0,
             "ticks": ""
            },
            "colorscale": [
             [
              0,
              "#0d0887"
             ],
             [
              0.1111111111111111,
              "#46039f"
             ],
             [
              0.2222222222222222,
              "#7201a8"
             ],
             [
              0.3333333333333333,
              "#9c179e"
             ],
             [
              0.4444444444444444,
              "#bd3786"
             ],
             [
              0.5555555555555556,
              "#d8576b"
             ],
             [
              0.6666666666666666,
              "#ed7953"
             ],
             [
              0.7777777777777778,
              "#fb9f3a"
             ],
             [
              0.8888888888888888,
              "#fdca26"
             ],
             [
              1,
              "#f0f921"
             ]
            ],
            "type": "contour"
           }
          ],
          "contourcarpet": [
           {
            "colorbar": {
             "outlinewidth": 0,
             "ticks": ""
            },
            "type": "contourcarpet"
           }
          ],
          "heatmap": [
           {
            "colorbar": {
             "outlinewidth": 0,
             "ticks": ""
            },
            "colorscale": [
             [
              0,
              "#0d0887"
             ],
             [
              0.1111111111111111,
              "#46039f"
             ],
             [
              0.2222222222222222,
              "#7201a8"
             ],
             [
              0.3333333333333333,
              "#9c179e"
             ],
             [
              0.4444444444444444,
              "#bd3786"
             ],
             [
              0.5555555555555556,
              "#d8576b"
             ],
             [
              0.6666666666666666,
              "#ed7953"
             ],
             [
              0.7777777777777778,
              "#fb9f3a"
             ],
             [
              0.8888888888888888,
              "#fdca26"
             ],
             [
              1,
              "#f0f921"
             ]
            ],
            "type": "heatmap"
           }
          ],
          "heatmapgl": [
           {
            "colorbar": {
             "outlinewidth": 0,
             "ticks": ""
            },
            "colorscale": [
             [
              0,
              "#0d0887"
             ],
             [
              0.1111111111111111,
              "#46039f"
             ],
             [
              0.2222222222222222,
              "#7201a8"
             ],
             [
              0.3333333333333333,
              "#9c179e"
             ],
             [
              0.4444444444444444,
              "#bd3786"
             ],
             [
              0.5555555555555556,
              "#d8576b"
             ],
             [
              0.6666666666666666,
              "#ed7953"
             ],
             [
              0.7777777777777778,
              "#fb9f3a"
             ],
             [
              0.8888888888888888,
              "#fdca26"
             ],
             [
              1,
              "#f0f921"
             ]
            ],
            "type": "heatmapgl"
           }
          ],
          "histogram": [
           {
            "marker": {
             "pattern": {
              "fillmode": "overlay",
              "size": 10,
              "solidity": 0.2
             }
            },
            "type": "histogram"
           }
          ],
          "histogram2d": [
           {
            "colorbar": {
             "outlinewidth": 0,
             "ticks": ""
            },
            "colorscale": [
             [
              0,
              "#0d0887"
             ],
             [
              0.1111111111111111,
              "#46039f"
             ],
             [
              0.2222222222222222,
              "#7201a8"
             ],
             [
              0.3333333333333333,
              "#9c179e"
             ],
             [
              0.4444444444444444,
              "#bd3786"
             ],
             [
              0.5555555555555556,
              "#d8576b"
             ],
             [
              0.6666666666666666,
              "#ed7953"
             ],
             [
              0.7777777777777778,
              "#fb9f3a"
             ],
             [
              0.8888888888888888,
              "#fdca26"
             ],
             [
              1,
              "#f0f921"
             ]
            ],
            "type": "histogram2d"
           }
          ],
          "histogram2dcontour": [
           {
            "colorbar": {
             "outlinewidth": 0,
             "ticks": ""
            },
            "colorscale": [
             [
              0,
              "#0d0887"
             ],
             [
              0.1111111111111111,
              "#46039f"
             ],
             [
              0.2222222222222222,
              "#7201a8"
             ],
             [
              0.3333333333333333,
              "#9c179e"
             ],
             [
              0.4444444444444444,
              "#bd3786"
             ],
             [
              0.5555555555555556,
              "#d8576b"
             ],
             [
              0.6666666666666666,
              "#ed7953"
             ],
             [
              0.7777777777777778,
              "#fb9f3a"
             ],
             [
              0.8888888888888888,
              "#fdca26"
             ],
             [
              1,
              "#f0f921"
             ]
            ],
            "type": "histogram2dcontour"
           }
          ],
          "mesh3d": [
           {
            "colorbar": {
             "outlinewidth": 0,
             "ticks": ""
            },
            "type": "mesh3d"
           }
          ],
          "parcoords": [
           {
            "line": {
             "colorbar": {
              "outlinewidth": 0,
              "ticks": ""
             }
            },
            "type": "parcoords"
           }
          ],
          "pie": [
           {
            "automargin": true,
            "type": "pie"
           }
          ],
          "scatter": [
           {
            "fillpattern": {
             "fillmode": "overlay",
             "size": 10,
             "solidity": 0.2
            },
            "type": "scatter"
           }
          ],
          "scatter3d": [
           {
            "line": {
             "colorbar": {
              "outlinewidth": 0,
              "ticks": ""
             }
            },
            "marker": {
             "colorbar": {
              "outlinewidth": 0,
              "ticks": ""
             }
            },
            "type": "scatter3d"
           }
          ],
          "scattercarpet": [
           {
            "marker": {
             "colorbar": {
              "outlinewidth": 0,
              "ticks": ""
             }
            },
            "type": "scattercarpet"
           }
          ],
          "scattergeo": [
           {
            "marker": {
             "colorbar": {
              "outlinewidth": 0,
              "ticks": ""
             }
            },
            "type": "scattergeo"
           }
          ],
          "scattergl": [
           {
            "marker": {
             "colorbar": {
              "outlinewidth": 0,
              "ticks": ""
             }
            },
            "type": "scattergl"
           }
          ],
          "scattermapbox": [
           {
            "marker": {
             "colorbar": {
              "outlinewidth": 0,
              "ticks": ""
             }
            },
            "type": "scattermapbox"
           }
          ],
          "scatterpolar": [
           {
            "marker": {
             "colorbar": {
              "outlinewidth": 0,
              "ticks": ""
             }
            },
            "type": "scatterpolar"
           }
          ],
          "scatterpolargl": [
           {
            "marker": {
             "colorbar": {
              "outlinewidth": 0,
              "ticks": ""
             }
            },
            "type": "scatterpolargl"
           }
          ],
          "scatterternary": [
           {
            "marker": {
             "colorbar": {
              "outlinewidth": 0,
              "ticks": ""
             }
            },
            "type": "scatterternary"
           }
          ],
          "surface": [
           {
            "colorbar": {
             "outlinewidth": 0,
             "ticks": ""
            },
            "colorscale": [
             [
              0,
              "#0d0887"
             ],
             [
              0.1111111111111111,
              "#46039f"
             ],
             [
              0.2222222222222222,
              "#7201a8"
             ],
             [
              0.3333333333333333,
              "#9c179e"
             ],
             [
              0.4444444444444444,
              "#bd3786"
             ],
             [
              0.5555555555555556,
              "#d8576b"
             ],
             [
              0.6666666666666666,
              "#ed7953"
             ],
             [
              0.7777777777777778,
              "#fb9f3a"
             ],
             [
              0.8888888888888888,
              "#fdca26"
             ],
             [
              1,
              "#f0f921"
             ]
            ],
            "type": "surface"
           }
          ],
          "table": [
           {
            "cells": {
             "fill": {
              "color": "#EBF0F8"
             },
             "line": {
              "color": "white"
             }
            },
            "header": {
             "fill": {
              "color": "#C8D4E3"
             },
             "line": {
              "color": "white"
             }
            },
            "type": "table"
           }
          ]
         },
         "layout": {
          "annotationdefaults": {
           "arrowcolor": "#2a3f5f",
           "arrowhead": 0,
           "arrowwidth": 1
          },
          "autotypenumbers": "strict",
          "coloraxis": {
           "colorbar": {
            "outlinewidth": 0,
            "ticks": ""
           }
          },
          "colorscale": {
           "diverging": [
            [
             0,
             "#8e0152"
            ],
            [
             0.1,
             "#c51b7d"
            ],
            [
             0.2,
             "#de77ae"
            ],
            [
             0.3,
             "#f1b6da"
            ],
            [
             0.4,
             "#fde0ef"
            ],
            [
             0.5,
             "#f7f7f7"
            ],
            [
             0.6,
             "#e6f5d0"
            ],
            [
             0.7,
             "#b8e186"
            ],
            [
             0.8,
             "#7fbc41"
            ],
            [
             0.9,
             "#4d9221"
            ],
            [
             1,
             "#276419"
            ]
           ],
           "sequential": [
            [
             0,
             "#0d0887"
            ],
            [
             0.1111111111111111,
             "#46039f"
            ],
            [
             0.2222222222222222,
             "#7201a8"
            ],
            [
             0.3333333333333333,
             "#9c179e"
            ],
            [
             0.4444444444444444,
             "#bd3786"
            ],
            [
             0.5555555555555556,
             "#d8576b"
            ],
            [
             0.6666666666666666,
             "#ed7953"
            ],
            [
             0.7777777777777778,
             "#fb9f3a"
            ],
            [
             0.8888888888888888,
             "#fdca26"
            ],
            [
             1,
             "#f0f921"
            ]
           ],
           "sequentialminus": [
            [
             0,
             "#0d0887"
            ],
            [
             0.1111111111111111,
             "#46039f"
            ],
            [
             0.2222222222222222,
             "#7201a8"
            ],
            [
             0.3333333333333333,
             "#9c179e"
            ],
            [
             0.4444444444444444,
             "#bd3786"
            ],
            [
             0.5555555555555556,
             "#d8576b"
            ],
            [
             0.6666666666666666,
             "#ed7953"
            ],
            [
             0.7777777777777778,
             "#fb9f3a"
            ],
            [
             0.8888888888888888,
             "#fdca26"
            ],
            [
             1,
             "#f0f921"
            ]
           ]
          },
          "colorway": [
           "#636efa",
           "#EF553B",
           "#00cc96",
           "#ab63fa",
           "#FFA15A",
           "#19d3f3",
           "#FF6692",
           "#B6E880",
           "#FF97FF",
           "#FECB52"
          ],
          "font": {
           "color": "#2a3f5f"
          },
          "geo": {
           "bgcolor": "white",
           "lakecolor": "white",
           "landcolor": "white",
           "showlakes": true,
           "showland": true,
           "subunitcolor": "#C8D4E3"
          },
          "hoverlabel": {
           "align": "left"
          },
          "hovermode": "closest",
          "mapbox": {
           "style": "light"
          },
          "paper_bgcolor": "white",
          "plot_bgcolor": "white",
          "polar": {
           "angularaxis": {
            "gridcolor": "#EBF0F8",
            "linecolor": "#EBF0F8",
            "ticks": ""
           },
           "bgcolor": "white",
           "radialaxis": {
            "gridcolor": "#EBF0F8",
            "linecolor": "#EBF0F8",
            "ticks": ""
           }
          },
          "scene": {
           "xaxis": {
            "backgroundcolor": "white",
            "gridcolor": "#DFE8F3",
            "gridwidth": 2,
            "linecolor": "#EBF0F8",
            "showbackground": true,
            "ticks": "",
            "zerolinecolor": "#EBF0F8"
           },
           "yaxis": {
            "backgroundcolor": "white",
            "gridcolor": "#DFE8F3",
            "gridwidth": 2,
            "linecolor": "#EBF0F8",
            "showbackground": true,
            "ticks": "",
            "zerolinecolor": "#EBF0F8"
           },
           "zaxis": {
            "backgroundcolor": "white",
            "gridcolor": "#DFE8F3",
            "gridwidth": 2,
            "linecolor": "#EBF0F8",
            "showbackground": true,
            "ticks": "",
            "zerolinecolor": "#EBF0F8"
           }
          },
          "shapedefaults": {
           "line": {
            "color": "#2a3f5f"
           }
          },
          "ternary": {
           "aaxis": {
            "gridcolor": "#DFE8F3",
            "linecolor": "#A2B1C6",
            "ticks": ""
           },
           "baxis": {
            "gridcolor": "#DFE8F3",
            "linecolor": "#A2B1C6",
            "ticks": ""
           },
           "bgcolor": "white",
           "caxis": {
            "gridcolor": "#DFE8F3",
            "linecolor": "#A2B1C6",
            "ticks": ""
           }
          },
          "title": {
           "x": 0.05
          },
          "xaxis": {
           "automargin": true,
           "gridcolor": "#EBF0F8",
           "linecolor": "#EBF0F8",
           "ticks": "",
           "title": {
            "standoff": 15
           },
           "zerolinecolor": "#EBF0F8",
           "zerolinewidth": 2
          },
          "yaxis": {
           "automargin": true,
           "gridcolor": "#EBF0F8",
           "linecolor": "#EBF0F8",
           "ticks": "",
           "title": {
            "standoff": 15
           },
           "zerolinecolor": "#EBF0F8",
           "zerolinewidth": 2
          }
         }
        },
        "title": {
         "font": {
          "family": "Arial",
          "size": 26
         },
         "text": "Missing Value Count and Percentage by Columns Before Data Cleansing(test.csv)",
         "x": 0.5
        },
        "width": 1000,
        "xaxis": {
         "anchor": "y",
         "domain": [
          0,
          1
         ],
         "dtick": 1,
         "tickfont": {
          "size": 10
         },
         "tickmode": "linear",
         "title": {
          "font": {
           "family": "Arial",
           "size": 18
          },
          "text": "Columns"
         }
        },
        "yaxis": {
         "anchor": "x",
         "domain": [
          0,
          1
         ],
         "title": {
          "font": {
           "family": "Arial",
           "size": 18
          },
          "text": "Missing Count"
         }
        }
       }
      }
     },
     "metadata": {},
     "output_type": "display_data"
    },
    {
     "data": {
      "text/plain": [
       "<Figure size 640x480 with 0 Axes>"
      ]
     },
     "metadata": {},
     "output_type": "display_data"
    }
   ],
   "source": [
    "# The data format of the column names in the original dataset is not uniformed\n",
    "# Reconvert the data format to ensure that the sorting is correct.\n",
    "missing_test[\"Columns\"] = missing_test[\"Columns\"].astype(int)\n",
    "missing_test = missing_test.sort_values(\"Columns\")\n",
    "\n",
    "# Plot to show the relations between missing count, missing percentage and columns in testing set\n",
    "fig = px.line(\n",
    "    missing_test,\n",
    "    x=\"Columns\",\n",
    "    y=\"Missing Count\",\n",
    "    markers=True,\n",
    "    title=\"Missing Value Count and Percentage by Columns Before Data Cleansing(test.csv)\",\n",
    "    labels={\"Columns\": \"Columns\", \"Missing Count\": \"Missing Count\"},\n",
    "    hover_data={\"Missing Percentage\": ':.2f'}  \n",
    ")\n",
    "\n",
    "fig.update_layout(\n",
    "    width=1000,\n",
    "    height=400,\n",
    "    title=dict(\n",
    "        text=\"Missing Value Count and Percentage by Columns Before Data Cleansing(test.csv)\",\n",
    "        x=0.5,\n",
    "        font=dict(size=26, family=\"Arial\")\n",
    "    ),\n",
    "    xaxis=dict(\n",
    "        title=dict(\n",
    "            text=\"Columns\",\n",
    "            font=dict(size=18, family=\"Arial\")\n",
    "        ),\n",
    "        tickmode='linear',     \n",
    "        dtick=1,                \n",
    "        tickfont=dict(size=10)\n",
    "    ),\n",
    "    yaxis=dict(\n",
    "        title=dict(\n",
    "            text=\"Missing Count\",\n",
    "            font=dict(size=18, family=\"Arial\")\n",
    "        )\n",
    "    ),\n",
    "    template=\"plotly_white\"\n",
    ")    \n",
    "\n",
    "plt.tight_layout()\n",
    "fig.show()"
   ]
  },
  {
   "cell_type": "markdown",
   "id": "36c74fff-f378-4362-a872-bf1a3094fd0d",
   "metadata": {},
   "source": [
    "```\n",
    "According to the output results, we can see that in the test data set, there are no missing values in columns -1 to -5, and the missing values in columns -6, -7, and -8 are more moderate, but from column -9 to column -49, the missing values in all columns are 6. Therefore, it is inferred that six rows of data in the test dataset are essentially all missing. Therefore, data cleansing can be achieved using Pandas by interpolating the data to establish a linear relationship between the data points.\n",
    "\n",
    "```"
   ]
  },
  {
   "cell_type": "code",
   "execution_count": 16,
   "id": "b43f276a-d969-4c70-a4c9-f5abb5d8366c",
   "metadata": {},
   "outputs": [
    {
     "data": {
      "text/plain": [
       "(0, (524, 301))"
      ]
     },
     "execution_count": 16,
     "metadata": {},
     "output_type": "execute_result"
    }
   ],
   "source": [
    "# Use linear interpolation to fill in the direction of the rows\n",
    "test_interp = test[priority_cols].copy()\n",
    "test_interp = test_interp.interpolate(axis=1, limit_direction='both')\n",
    "\n",
    "# fill the interpolated dataset back to the test set\n",
    "test_filled = test.copy()\n",
    "test_filled[priority_cols] = test_interp\n",
    "\n",
    "# Double check whether there are missing values in the test set\n",
    "remaining_missing = test_filled[priority_cols].isnull().sum().sum()\n",
    "remaining_missing, test_filled.shape"
   ]
  },
  {
   "cell_type": "code",
   "execution_count": 17,
   "id": "4d494c44-4fb6-47e4-81bf-6bd8ce017d5d",
   "metadata": {},
   "outputs": [],
   "source": [
    "# Drop rows with missing values in priority_cols\n",
    "train.dropna(subset=priority_cols, inplace=True)"
   ]
  },
  {
   "cell_type": "markdown",
   "id": "959a738c-2952-40ac-84bd-95a0c23e4ec5",
   "metadata": {},
   "source": [
    "After data cleansing through dropna(), select the priority columns of train data to process EDA analysis"
   ]
  },
  {
   "cell_type": "code",
   "execution_count": 18,
   "id": "0a409531-d66a-4ac7-b22d-dc702b140591",
   "metadata": {},
   "outputs": [
    {
     "data": {
      "text/plain": [
       "(1480, 50)"
      ]
     },
     "execution_count": 18,
     "metadata": {},
     "output_type": "execute_result"
    }
   ],
   "source": [
    "# EDA analysis range only from column -49 to 0\n",
    "eda = train[priority_cols]\n",
    "eda_test = test_filled[priority_cols]\n",
    "# Dimension of the new dataset\n",
    "num_rows, num_cols = eda.shape\n",
    "(num_rows, num_cols)"
   ]
  },
  {
   "cell_type": "code",
   "execution_count": 19,
   "id": "62dbfb52-d3b6-4313-b08e-9dfafaccefa4",
   "metadata": {},
   "outputs": [],
   "source": [
    "# Create a summary dataframe for min and max \n",
    "summary = eda.describe().T[['min', 'max']]\n",
    "summary_stats = summary.reset_index().rename(columns={'index': 'Columns'})"
   ]
  },
  {
   "cell_type": "code",
   "execution_count": 20,
   "id": "37a54619-fc31-4a26-ba53-2c820c229ce6",
   "metadata": {},
   "outputs": [
    {
     "data": {
      "application/vnd.plotly.v1+json": {
       "config": {
        "plotlyServerURL": "https://plot.ly"
       },
       "data": [
        {
         "line": {
          "color": "orange"
         },
         "mode": "lines",
         "name": "Maximum value",
         "type": "scatter",
         "x": [
          -49,
          -48,
          -47,
          -46,
          -45,
          -44,
          -43,
          -42,
          -41,
          -40,
          -39,
          -38,
          -37,
          -36,
          -35,
          -34,
          -33,
          -32,
          -31,
          -30,
          -29,
          -28,
          -27,
          -26,
          -25,
          -24,
          -23,
          -22,
          -21,
          -20,
          -19,
          -18,
          -17,
          -16,
          -15,
          -14,
          -13,
          -12,
          -11,
          -10,
          -9,
          -8,
          -7,
          -6,
          -5,
          -4,
          -3,
          -2,
          -1,
          0
         ],
         "y": [
          6.586948787198111,
          6.587497199210215,
          6.588045611222324,
          6.588594023234432,
          6.589142435246536,
          6.589690847258645,
          6.590239259270749,
          6.5907876712828575,
          6.591336083294962,
          6.59188449530707,
          6.5924329073191785,
          6.592981319331283,
          6.593529731343391,
          6.594078143355496,
          6.594626555367604,
          6.595174967379709,
          6.595723379391817,
          6.596271791403925,
          6.59682020341603,
          6.597368615428138,
          6.597917027440243,
          6.598465439452351,
          6.599013851464456,
          6.599562263476564,
          6.600110675488672,
          6.600659087500777,
          6.601207499512885,
          6.601755900132861,
          6.602304274470395,
          6.602852648807929,
          6.603401023145462,
          6.603949397482996,
          6.6044977718205296,
          6.605046146158063,
          6.605594520495597,
          6.606142894833127,
          6.6066912691706605,
          6.607239643508194,
          6.607788017845728,
          6.608336392183261,
          6.608884766520795,
          1.117464351948894,
          0.977781307955282,
          0.8380982639616708,
          0.6984152199680587,
          0.5587321759744466,
          0.4190491319808354,
          0.2793660879872233,
          0.1396830439936112,
          0
         ]
        },
        {
         "line": {
          "color": "steelblue"
         },
         "mode": "lines",
         "name": "Minimum value",
         "type": "scatter",
         "x": [
          -49,
          -48,
          -47,
          -46,
          -45,
          -44,
          -43,
          -42,
          -41,
          -40,
          -39,
          -38,
          -37,
          -36,
          -35,
          -34,
          -33,
          -32,
          -31,
          -30,
          -29,
          -28,
          -27,
          -26,
          -25,
          -24,
          -23,
          -22,
          -21,
          -20,
          -19,
          -18,
          -17,
          -16,
          -15,
          -14,
          -13,
          -12,
          -11,
          -10,
          -9,
          -8,
          -7,
          -6,
          -5,
          -4,
          -3,
          -2,
          -1,
          0
         ],
         "y": [
          -6.434297052112015,
          -6.302678457188648,
          -6.171059862265281,
          -6.039441267341914,
          -5.907822672418547,
          -5.77620407749518,
          -5.644585482571813,
          -5.512966887648446,
          -5.381348292725079,
          -5.249729697801683,
          -5.118111102878316,
          -4.986492507954949,
          -4.854873913031582,
          -4.723255318108215,
          -4.649852414158746,
          -4.579774607598665,
          -4.571074503267624,
          -4.553271655915523,
          -4.410983183859031,
          -4.268694667884034,
          -4.26954490574386,
          -4.285587085284472,
          -4.301629264825086,
          -4.317671444365698,
          -4.333713623906311,
          -4.349755803446923,
          -4.3657979829875355,
          -4.381840162528149,
          -4.397882342068761,
          -4.413924521609374,
          -4.429966701149986,
          -4.446214273357788,
          -4.462743660866969,
          -4.47927304837615,
          -4.495802435885332,
          -4.512331823394513,
          -4.528861210903694,
          -4.545390598412875,
          -1.5651885792555331,
          -1.4228987084141238,
          -1.2806088375727145,
          -1.1383189667313047,
          -0.9960290958898952,
          -0.8537392250484857,
          -0.7114493542070477,
          -0.5691594833656382,
          -0.4268696125242286,
          -0.2845797416828191,
          -0.1422898708414095,
          0
         ]
        },
        {
         "fill": "toself",
         "fillcolor": "rgba(135, 206, 250, 0.3)",
         "hoverinfo": "skip",
         "line": {
          "color": "rgba(255,255,255,0)"
         },
         "showlegend": false,
         "type": "scatter",
         "x": [
          -49,
          -48,
          -47,
          -46,
          -45,
          -44,
          -43,
          -42,
          -41,
          -40,
          -39,
          -38,
          -37,
          -36,
          -35,
          -34,
          -33,
          -32,
          -31,
          -30,
          -29,
          -28,
          -27,
          -26,
          -25,
          -24,
          -23,
          -22,
          -21,
          -20,
          -19,
          -18,
          -17,
          -16,
          -15,
          -14,
          -13,
          -12,
          -11,
          -10,
          -9,
          -8,
          -7,
          -6,
          -5,
          -4,
          -3,
          -2,
          -1,
          0,
          0,
          -1,
          -2,
          -3,
          -4,
          -5,
          -6,
          -7,
          -8,
          -9,
          -10,
          -11,
          -12,
          -13,
          -14,
          -15,
          -16,
          -17,
          -18,
          -19,
          -20,
          -21,
          -22,
          -23,
          -24,
          -25,
          -26,
          -27,
          -28,
          -29,
          -30,
          -31,
          -32,
          -33,
          -34,
          -35,
          -36,
          -37,
          -38,
          -39,
          -40,
          -41,
          -42,
          -43,
          -44,
          -45,
          -46,
          -47,
          -48,
          -49
         ],
         "y": [
          6.586948787198111,
          6.587497199210215,
          6.588045611222324,
          6.588594023234432,
          6.589142435246536,
          6.589690847258645,
          6.590239259270749,
          6.5907876712828575,
          6.591336083294962,
          6.59188449530707,
          6.5924329073191785,
          6.592981319331283,
          6.593529731343391,
          6.594078143355496,
          6.594626555367604,
          6.595174967379709,
          6.595723379391817,
          6.596271791403925,
          6.59682020341603,
          6.597368615428138,
          6.597917027440243,
          6.598465439452351,
          6.599013851464456,
          6.599562263476564,
          6.600110675488672,
          6.600659087500777,
          6.601207499512885,
          6.601755900132861,
          6.602304274470395,
          6.602852648807929,
          6.603401023145462,
          6.603949397482996,
          6.6044977718205296,
          6.605046146158063,
          6.605594520495597,
          6.606142894833127,
          6.6066912691706605,
          6.607239643508194,
          6.607788017845728,
          6.608336392183261,
          6.608884766520795,
          1.117464351948894,
          0.977781307955282,
          0.8380982639616708,
          0.6984152199680587,
          0.5587321759744466,
          0.4190491319808354,
          0.2793660879872233,
          0.1396830439936112,
          0,
          0,
          -0.1422898708414095,
          -0.2845797416828191,
          -0.4268696125242286,
          -0.5691594833656382,
          -0.7114493542070477,
          -0.8537392250484857,
          -0.9960290958898952,
          -1.1383189667313047,
          -1.2806088375727145,
          -1.4228987084141238,
          -1.5651885792555331,
          -4.545390598412875,
          -4.528861210903694,
          -4.512331823394513,
          -4.495802435885332,
          -4.47927304837615,
          -4.462743660866969,
          -4.446214273357788,
          -4.429966701149986,
          -4.413924521609374,
          -4.397882342068761,
          -4.381840162528149,
          -4.3657979829875355,
          -4.349755803446923,
          -4.333713623906311,
          -4.317671444365698,
          -4.301629264825086,
          -4.285587085284472,
          -4.26954490574386,
          -4.268694667884034,
          -4.410983183859031,
          -4.553271655915523,
          -4.571074503267624,
          -4.579774607598665,
          -4.649852414158746,
          -4.723255318108215,
          -4.854873913031582,
          -4.986492507954949,
          -5.118111102878316,
          -5.249729697801683,
          -5.381348292725079,
          -5.512966887648446,
          -5.644585482571813,
          -5.77620407749518,
          -5.907822672418547,
          -6.039441267341914,
          -6.171059862265281,
          -6.302678457188648,
          -6.434297052112015
         ]
        }
       ],
       "layout": {
        "height": 500,
        "template": {
         "data": {
          "bar": [
           {
            "error_x": {
             "color": "rgb(36,36,36)"
            },
            "error_y": {
             "color": "rgb(36,36,36)"
            },
            "marker": {
             "line": {
              "color": "white",
              "width": 0.5
             },
             "pattern": {
              "fillmode": "overlay",
              "size": 10,
              "solidity": 0.2
             }
            },
            "type": "bar"
           }
          ],
          "barpolar": [
           {
            "marker": {
             "line": {
              "color": "white",
              "width": 0.5
             },
             "pattern": {
              "fillmode": "overlay",
              "size": 10,
              "solidity": 0.2
             }
            },
            "type": "barpolar"
           }
          ],
          "carpet": [
           {
            "aaxis": {
             "endlinecolor": "rgb(36,36,36)",
             "gridcolor": "white",
             "linecolor": "white",
             "minorgridcolor": "white",
             "startlinecolor": "rgb(36,36,36)"
            },
            "baxis": {
             "endlinecolor": "rgb(36,36,36)",
             "gridcolor": "white",
             "linecolor": "white",
             "minorgridcolor": "white",
             "startlinecolor": "rgb(36,36,36)"
            },
            "type": "carpet"
           }
          ],
          "choropleth": [
           {
            "colorbar": {
             "outlinewidth": 1,
             "tickcolor": "rgb(36,36,36)",
             "ticks": "outside"
            },
            "type": "choropleth"
           }
          ],
          "contour": [
           {
            "colorbar": {
             "outlinewidth": 1,
             "tickcolor": "rgb(36,36,36)",
             "ticks": "outside"
            },
            "colorscale": [
             [
              0,
              "#440154"
             ],
             [
              0.1111111111111111,
              "#482878"
             ],
             [
              0.2222222222222222,
              "#3e4989"
             ],
             [
              0.3333333333333333,
              "#31688e"
             ],
             [
              0.4444444444444444,
              "#26828e"
             ],
             [
              0.5555555555555556,
              "#1f9e89"
             ],
             [
              0.6666666666666666,
              "#35b779"
             ],
             [
              0.7777777777777778,
              "#6ece58"
             ],
             [
              0.8888888888888888,
              "#b5de2b"
             ],
             [
              1,
              "#fde725"
             ]
            ],
            "type": "contour"
           }
          ],
          "contourcarpet": [
           {
            "colorbar": {
             "outlinewidth": 1,
             "tickcolor": "rgb(36,36,36)",
             "ticks": "outside"
            },
            "type": "contourcarpet"
           }
          ],
          "heatmap": [
           {
            "colorbar": {
             "outlinewidth": 1,
             "tickcolor": "rgb(36,36,36)",
             "ticks": "outside"
            },
            "colorscale": [
             [
              0,
              "#440154"
             ],
             [
              0.1111111111111111,
              "#482878"
             ],
             [
              0.2222222222222222,
              "#3e4989"
             ],
             [
              0.3333333333333333,
              "#31688e"
             ],
             [
              0.4444444444444444,
              "#26828e"
             ],
             [
              0.5555555555555556,
              "#1f9e89"
             ],
             [
              0.6666666666666666,
              "#35b779"
             ],
             [
              0.7777777777777778,
              "#6ece58"
             ],
             [
              0.8888888888888888,
              "#b5de2b"
             ],
             [
              1,
              "#fde725"
             ]
            ],
            "type": "heatmap"
           }
          ],
          "heatmapgl": [
           {
            "colorbar": {
             "outlinewidth": 1,
             "tickcolor": "rgb(36,36,36)",
             "ticks": "outside"
            },
            "colorscale": [
             [
              0,
              "#440154"
             ],
             [
              0.1111111111111111,
              "#482878"
             ],
             [
              0.2222222222222222,
              "#3e4989"
             ],
             [
              0.3333333333333333,
              "#31688e"
             ],
             [
              0.4444444444444444,
              "#26828e"
             ],
             [
              0.5555555555555556,
              "#1f9e89"
             ],
             [
              0.6666666666666666,
              "#35b779"
             ],
             [
              0.7777777777777778,
              "#6ece58"
             ],
             [
              0.8888888888888888,
              "#b5de2b"
             ],
             [
              1,
              "#fde725"
             ]
            ],
            "type": "heatmapgl"
           }
          ],
          "histogram": [
           {
            "marker": {
             "line": {
              "color": "white",
              "width": 0.6
             }
            },
            "type": "histogram"
           }
          ],
          "histogram2d": [
           {
            "colorbar": {
             "outlinewidth": 1,
             "tickcolor": "rgb(36,36,36)",
             "ticks": "outside"
            },
            "colorscale": [
             [
              0,
              "#440154"
             ],
             [
              0.1111111111111111,
              "#482878"
             ],
             [
              0.2222222222222222,
              "#3e4989"
             ],
             [
              0.3333333333333333,
              "#31688e"
             ],
             [
              0.4444444444444444,
              "#26828e"
             ],
             [
              0.5555555555555556,
              "#1f9e89"
             ],
             [
              0.6666666666666666,
              "#35b779"
             ],
             [
              0.7777777777777778,
              "#6ece58"
             ],
             [
              0.8888888888888888,
              "#b5de2b"
             ],
             [
              1,
              "#fde725"
             ]
            ],
            "type": "histogram2d"
           }
          ],
          "histogram2dcontour": [
           {
            "colorbar": {
             "outlinewidth": 1,
             "tickcolor": "rgb(36,36,36)",
             "ticks": "outside"
            },
            "colorscale": [
             [
              0,
              "#440154"
             ],
             [
              0.1111111111111111,
              "#482878"
             ],
             [
              0.2222222222222222,
              "#3e4989"
             ],
             [
              0.3333333333333333,
              "#31688e"
             ],
             [
              0.4444444444444444,
              "#26828e"
             ],
             [
              0.5555555555555556,
              "#1f9e89"
             ],
             [
              0.6666666666666666,
              "#35b779"
             ],
             [
              0.7777777777777778,
              "#6ece58"
             ],
             [
              0.8888888888888888,
              "#b5de2b"
             ],
             [
              1,
              "#fde725"
             ]
            ],
            "type": "histogram2dcontour"
           }
          ],
          "mesh3d": [
           {
            "colorbar": {
             "outlinewidth": 1,
             "tickcolor": "rgb(36,36,36)",
             "ticks": "outside"
            },
            "type": "mesh3d"
           }
          ],
          "parcoords": [
           {
            "line": {
             "colorbar": {
              "outlinewidth": 1,
              "tickcolor": "rgb(36,36,36)",
              "ticks": "outside"
             }
            },
            "type": "parcoords"
           }
          ],
          "pie": [
           {
            "automargin": true,
            "type": "pie"
           }
          ],
          "scatter": [
           {
            "fillpattern": {
             "fillmode": "overlay",
             "size": 10,
             "solidity": 0.2
            },
            "type": "scatter"
           }
          ],
          "scatter3d": [
           {
            "line": {
             "colorbar": {
              "outlinewidth": 1,
              "tickcolor": "rgb(36,36,36)",
              "ticks": "outside"
             }
            },
            "marker": {
             "colorbar": {
              "outlinewidth": 1,
              "tickcolor": "rgb(36,36,36)",
              "ticks": "outside"
             }
            },
            "type": "scatter3d"
           }
          ],
          "scattercarpet": [
           {
            "marker": {
             "colorbar": {
              "outlinewidth": 1,
              "tickcolor": "rgb(36,36,36)",
              "ticks": "outside"
             }
            },
            "type": "scattercarpet"
           }
          ],
          "scattergeo": [
           {
            "marker": {
             "colorbar": {
              "outlinewidth": 1,
              "tickcolor": "rgb(36,36,36)",
              "ticks": "outside"
             }
            },
            "type": "scattergeo"
           }
          ],
          "scattergl": [
           {
            "marker": {
             "colorbar": {
              "outlinewidth": 1,
              "tickcolor": "rgb(36,36,36)",
              "ticks": "outside"
             }
            },
            "type": "scattergl"
           }
          ],
          "scattermapbox": [
           {
            "marker": {
             "colorbar": {
              "outlinewidth": 1,
              "tickcolor": "rgb(36,36,36)",
              "ticks": "outside"
             }
            },
            "type": "scattermapbox"
           }
          ],
          "scatterpolar": [
           {
            "marker": {
             "colorbar": {
              "outlinewidth": 1,
              "tickcolor": "rgb(36,36,36)",
              "ticks": "outside"
             }
            },
            "type": "scatterpolar"
           }
          ],
          "scatterpolargl": [
           {
            "marker": {
             "colorbar": {
              "outlinewidth": 1,
              "tickcolor": "rgb(36,36,36)",
              "ticks": "outside"
             }
            },
            "type": "scatterpolargl"
           }
          ],
          "scatterternary": [
           {
            "marker": {
             "colorbar": {
              "outlinewidth": 1,
              "tickcolor": "rgb(36,36,36)",
              "ticks": "outside"
             }
            },
            "type": "scatterternary"
           }
          ],
          "surface": [
           {
            "colorbar": {
             "outlinewidth": 1,
             "tickcolor": "rgb(36,36,36)",
             "ticks": "outside"
            },
            "colorscale": [
             [
              0,
              "#440154"
             ],
             [
              0.1111111111111111,
              "#482878"
             ],
             [
              0.2222222222222222,
              "#3e4989"
             ],
             [
              0.3333333333333333,
              "#31688e"
             ],
             [
              0.4444444444444444,
              "#26828e"
             ],
             [
              0.5555555555555556,
              "#1f9e89"
             ],
             [
              0.6666666666666666,
              "#35b779"
             ],
             [
              0.7777777777777778,
              "#6ece58"
             ],
             [
              0.8888888888888888,
              "#b5de2b"
             ],
             [
              1,
              "#fde725"
             ]
            ],
            "type": "surface"
           }
          ],
          "table": [
           {
            "cells": {
             "fill": {
              "color": "rgb(237,237,237)"
             },
             "line": {
              "color": "white"
             }
            },
            "header": {
             "fill": {
              "color": "rgb(217,217,217)"
             },
             "line": {
              "color": "white"
             }
            },
            "type": "table"
           }
          ]
         },
         "layout": {
          "annotationdefaults": {
           "arrowhead": 0,
           "arrowwidth": 1
          },
          "autotypenumbers": "strict",
          "coloraxis": {
           "colorbar": {
            "outlinewidth": 1,
            "tickcolor": "rgb(36,36,36)",
            "ticks": "outside"
           }
          },
          "colorscale": {
           "diverging": [
            [
             0,
             "rgb(103,0,31)"
            ],
            [
             0.1,
             "rgb(178,24,43)"
            ],
            [
             0.2,
             "rgb(214,96,77)"
            ],
            [
             0.3,
             "rgb(244,165,130)"
            ],
            [
             0.4,
             "rgb(253,219,199)"
            ],
            [
             0.5,
             "rgb(247,247,247)"
            ],
            [
             0.6,
             "rgb(209,229,240)"
            ],
            [
             0.7,
             "rgb(146,197,222)"
            ],
            [
             0.8,
             "rgb(67,147,195)"
            ],
            [
             0.9,
             "rgb(33,102,172)"
            ],
            [
             1,
             "rgb(5,48,97)"
            ]
           ],
           "sequential": [
            [
             0,
             "#440154"
            ],
            [
             0.1111111111111111,
             "#482878"
            ],
            [
             0.2222222222222222,
             "#3e4989"
            ],
            [
             0.3333333333333333,
             "#31688e"
            ],
            [
             0.4444444444444444,
             "#26828e"
            ],
            [
             0.5555555555555556,
             "#1f9e89"
            ],
            [
             0.6666666666666666,
             "#35b779"
            ],
            [
             0.7777777777777778,
             "#6ece58"
            ],
            [
             0.8888888888888888,
             "#b5de2b"
            ],
            [
             1,
             "#fde725"
            ]
           ],
           "sequentialminus": [
            [
             0,
             "#440154"
            ],
            [
             0.1111111111111111,
             "#482878"
            ],
            [
             0.2222222222222222,
             "#3e4989"
            ],
            [
             0.3333333333333333,
             "#31688e"
            ],
            [
             0.4444444444444444,
             "#26828e"
            ],
            [
             0.5555555555555556,
             "#1f9e89"
            ],
            [
             0.6666666666666666,
             "#35b779"
            ],
            [
             0.7777777777777778,
             "#6ece58"
            ],
            [
             0.8888888888888888,
             "#b5de2b"
            ],
            [
             1,
             "#fde725"
            ]
           ]
          },
          "colorway": [
           "#1F77B4",
           "#FF7F0E",
           "#2CA02C",
           "#D62728",
           "#9467BD",
           "#8C564B",
           "#E377C2",
           "#7F7F7F",
           "#BCBD22",
           "#17BECF"
          ],
          "font": {
           "color": "rgb(36,36,36)"
          },
          "geo": {
           "bgcolor": "white",
           "lakecolor": "white",
           "landcolor": "white",
           "showlakes": true,
           "showland": true,
           "subunitcolor": "white"
          },
          "hoverlabel": {
           "align": "left"
          },
          "hovermode": "closest",
          "mapbox": {
           "style": "light"
          },
          "paper_bgcolor": "white",
          "plot_bgcolor": "white",
          "polar": {
           "angularaxis": {
            "gridcolor": "rgb(232,232,232)",
            "linecolor": "rgb(36,36,36)",
            "showgrid": false,
            "showline": true,
            "ticks": "outside"
           },
           "bgcolor": "white",
           "radialaxis": {
            "gridcolor": "rgb(232,232,232)",
            "linecolor": "rgb(36,36,36)",
            "showgrid": false,
            "showline": true,
            "ticks": "outside"
           }
          },
          "scene": {
           "xaxis": {
            "backgroundcolor": "white",
            "gridcolor": "rgb(232,232,232)",
            "gridwidth": 2,
            "linecolor": "rgb(36,36,36)",
            "showbackground": true,
            "showgrid": false,
            "showline": true,
            "ticks": "outside",
            "zeroline": false,
            "zerolinecolor": "rgb(36,36,36)"
           },
           "yaxis": {
            "backgroundcolor": "white",
            "gridcolor": "rgb(232,232,232)",
            "gridwidth": 2,
            "linecolor": "rgb(36,36,36)",
            "showbackground": true,
            "showgrid": false,
            "showline": true,
            "ticks": "outside",
            "zeroline": false,
            "zerolinecolor": "rgb(36,36,36)"
           },
           "zaxis": {
            "backgroundcolor": "white",
            "gridcolor": "rgb(232,232,232)",
            "gridwidth": 2,
            "linecolor": "rgb(36,36,36)",
            "showbackground": true,
            "showgrid": false,
            "showline": true,
            "ticks": "outside",
            "zeroline": false,
            "zerolinecolor": "rgb(36,36,36)"
           }
          },
          "shapedefaults": {
           "fillcolor": "black",
           "line": {
            "width": 0
           },
           "opacity": 0.3
          },
          "ternary": {
           "aaxis": {
            "gridcolor": "rgb(232,232,232)",
            "linecolor": "rgb(36,36,36)",
            "showgrid": false,
            "showline": true,
            "ticks": "outside"
           },
           "baxis": {
            "gridcolor": "rgb(232,232,232)",
            "linecolor": "rgb(36,36,36)",
            "showgrid": false,
            "showline": true,
            "ticks": "outside"
           },
           "bgcolor": "white",
           "caxis": {
            "gridcolor": "rgb(232,232,232)",
            "linecolor": "rgb(36,36,36)",
            "showgrid": false,
            "showline": true,
            "ticks": "outside"
           }
          },
          "title": {
           "x": 0.05
          },
          "xaxis": {
           "automargin": true,
           "gridcolor": "rgb(232,232,232)",
           "linecolor": "rgb(36,36,36)",
           "showgrid": false,
           "showline": true,
           "ticks": "outside",
           "title": {
            "standoff": 15
           },
           "zeroline": false,
           "zerolinecolor": "rgb(36,36,36)"
          },
          "yaxis": {
           "automargin": true,
           "gridcolor": "rgb(232,232,232)",
           "linecolor": "rgb(36,36,36)",
           "showgrid": false,
           "showline": true,
           "ticks": "outside",
           "title": {
            "standoff": 15
           },
           "zeroline": false,
           "zerolinecolor": "rgb(36,36,36)"
          }
         }
        },
        "title": {
         "text": "Plot of the range of maximum and minimum geological Z-values for each column"
        },
        "width": 1000,
        "xaxis": {
         "dtick": 1,
         "tickmode": "linear",
         "title": {
          "text": "Columns(-49 ~ 0)"
         }
        },
        "yaxis": {
         "dtick": 1,
         "range": [
          -7,
          7
         ],
         "title": {
          "text": "Z value"
         }
        }
       }
      }
     },
     "metadata": {},
     "output_type": "display_data"
    },
    {
     "data": {
      "text/plain": [
       "<Figure size 640x480 with 0 Axes>"
      ]
     },
     "metadata": {},
     "output_type": "display_data"
    }
   ],
   "source": [
    "# Data preparation\n",
    "fig = go.Figure()\n",
    "x = summary_stats['Columns'].astype(int).values\n",
    "ymin = summary_stats['min'].astype(float).values\n",
    "ymax = summary_stats['max'].astype(float).values\n",
    "\n",
    "# The maximum line graph\n",
    "fig.add_trace(go.Scatter(\n",
    "    x=x, y=ymax,\n",
    "    mode='lines',\n",
    "    name='Maximum value',\n",
    "    line=dict(color='orange')\n",
    "))\n",
    "\n",
    "# The minimum line graph\n",
    "fig.add_trace(go.Scatter(\n",
    "    x=x, y=ymin,\n",
    "    mode='lines',\n",
    "    name='Minimum value',\n",
    "    line=dict(color='steelblue')\n",
    "))\n",
    "\n",
    "# Fill the area between the maximum line graph and the minimum line graph\n",
    "fig.add_trace(go.Scatter(\n",
    "    x=np.concatenate([x, x[::-1]]),\n",
    "    y=np.concatenate([ymax, ymin[::-1]]),\n",
    "    fill='toself',\n",
    "    fillcolor='rgba(135, 206, 250, 0.3)',\n",
    "    line=dict(color='rgba(255,255,255,0)'),\n",
    "    hoverinfo=\"skip\",\n",
    "    showlegend=False\n",
    "))\n",
    "\n",
    "fig.update_layout(\n",
    "    title=\"Plot of the range of maximum and minimum geological Z-values for each column\",\n",
    "    xaxis=dict(\n",
    "        title=\"Columns(-49 ~ 0)\",\n",
    "        tickmode='linear',\n",
    "        dtick=1\n",
    "    ),\n",
    "    yaxis=dict(\n",
    "        title=\"Z value\",\n",
    "        range=[-7, 7],\n",
    "        dtick=1\n",
    "    ),\n",
    "    width=1000,\n",
    "    height=500,\n",
    "    template=\"simple_white\"\n",
    ")\n",
    "\n",
    "plt.tight_layout()\n",
    "fig.show()"
   ]
  },
  {
   "cell_type": "code",
   "execution_count": 21,
   "id": "98f5304f-e80e-4857-ba26-1bfae07a72af",
   "metadata": {},
   "outputs": [
    {
     "data": {
      "image/png": "[encoded data removed]",
      "text/plain": [
       "<Figure size 2000x600 with 2 Axes>"
      ]
     },
     "metadata": {},
     "output_type": "display_data"
    }
   ],
   "source": [
    "#  Heat map - frequency of distribution of values in each column\n",
    "plt.figure(figsize=(20, 6))\n",
    "sns.heatmap(eda.T, cmap = 'magma', cbar_kws={'label': 'Z Value'})\n",
    "plt.title(\"Heat map: distribution of geological z-values per column(vertical)\")\n",
    "plt.xlabel(\"Geology id\")\n",
    "plt.ylabel(\"Columns(0 - -49)\")\n",
    "plt.tight_layout()\n",
    "plt.show()"
   ]
  },
  {
   "cell_type": "markdown",
   "id": "207ed7a2-6673-4ec3-9bdc-59d94efb1ca6",
   "metadata": {},
   "source": [
    "```\n",
    "The data are linearly distributed, as observed in the dataset. However, in the line graph above, there are multiple invalid data points as observed from the line graphs of the maximum and minimum values in the columns. From the heat map, it is observed that there is a significant white line and a significant black line, and the excess of these two lines and other colours is extremely abrupt, suggesting that the data represented by the ```geology_id``` is invalid. Therefore, delete the data in these lines before proceeding with the subsequent analysis.\n",
    "\n",
    "```"
   ]
  },
  {
   "cell_type": "code",
   "execution_count": 22,
   "id": "2ca80d9b-d754-476c-87e7-64589c42e498",
   "metadata": {},
   "outputs": [
    {
     "data": {
      "text/plain": [
       "727     6.679529\n",
       "949     4.576628\n",
       "1028    0.641913\n",
       "836     0.171368\n",
       "1329    0.158663\n",
       "Name: max_z_jump, dtype: float64"
      ]
     },
     "execution_count": 22,
     "metadata": {},
     "output_type": "execute_result"
    }
   ],
   "source": [
    "# Calculate the maximum adjacent difference for each row\n",
    "max_jump = eda.diff(axis=1).abs().max(axis=1)\n",
    "\n",
    "# Find the maximum difference value in rows\n",
    "top_jump_indices = max_jump.sort_values(ascending=False).head(10).index\n",
    "top_jump_rows = train.loc[top_jump_indices, ['geology_id'] + priority_cols]\n",
    "top_jump_rows['max_z_jump'] = max_jump.loc[top_jump_indices].values\n",
    "top_jump_rows['max_z_jump'].head()"
   ]
  },
  {
   "cell_type": "code",
   "execution_count": 23,
   "id": "634ac891-7d24-43bb-8ab6-6eb63a39a1c7",
   "metadata": {},
   "outputs": [
    {
     "name": "stdout",
     "output_type": "stream",
     "text": [
      "row ids being deleted :  ['g_17ea0b2534', 'g_5d820d69dc']\n"
     ]
    }
   ],
   "source": [
    "# Get the indexes of the first two rows\n",
    "extreme_outlier_indices = max_jump.sort_values(ascending=False).head(2).index\n",
    "# The new dataset after deleting these two rows of data\n",
    "train_removed_extremes = train.drop(index=extreme_outlier_indices)\n",
    "# Return the deleted geology_id \n",
    "removed_ids = train.loc[extreme_outlier_indices, 'geology_id'].tolist()\n",
    "print(\"row ids being deleted : \", removed_ids)"
   ]
  },
  {
   "cell_type": "markdown",
   "id": "2d7bba0e-8b84-4eeb-a048-27b4fcfe1eb5",
   "metadata": {},
   "source": [
    "Delete of data rows 727 and 949 because the adjacent data differences in those two columns were too marginal."
   ]
  },
  {
   "cell_type": "code",
   "execution_count": 24,
   "id": "bee7ae22-9272-476d-99d4-845b28d00422",
   "metadata": {},
   "outputs": [
    {
     "data": {
      "text/plain": [
       "(1478, 50)"
      ]
     },
     "execution_count": 24,
     "metadata": {},
     "output_type": "execute_result"
    }
   ],
   "source": [
    "# EDA analysis range only from column -49 to 0\n",
    "eda_dropped = train_removed_extremes[priority_cols]\n",
    "# Dimension of the new dataset\n",
    "num_rows_dropped, num_cols_dropped = eda_dropped.shape\n",
    "(num_rows_dropped, num_cols_dropped)"
   ]
  },
  {
   "cell_type": "code",
   "execution_count": 25,
   "id": "9caa5040-692b-4dcb-819c-479c6f7af1f6",
   "metadata": {},
   "outputs": [
    {
     "data": {
      "image/png": "[encoded data removed]",
      "text/plain": [
       "<Figure size 2000x600 with 2 Axes>"
      ]
     },
     "metadata": {},
     "output_type": "display_data"
    }
   ],
   "source": [
    "plt.figure(figsize=(20, 6))\n",
    "sns.heatmap(eda_dropped.T, cmap = 'magma', cbar_kws={'label': 'Z Value'})\n",
    "plt.title(\"Heat map: distribution of geological z-values per column(vertical)\")\n",
    "plt.xlabel(\"Geology id\")\n",
    "plt.ylabel(\"Columns(0 - -49)\")\n",
    "plt.tight_layout()\n",
    "plt.show()"
   ]
  },
  {
   "cell_type": "code",
   "execution_count": 26,
   "id": "3d42fe75-2d47-49d2-950c-937d71ced989",
   "metadata": {},
   "outputs": [],
   "source": [
    "# Create a summary dataframe for min and max \n",
    "summary_new = eda_dropped.describe().T[['min', 'max']]\n",
    "summary_stats_new = summary_new.reset_index().rename(columns={'index': 'Columns'})"
   ]
  },
  {
   "cell_type": "code",
   "execution_count": 27,
   "id": "5d8b776b-6785-4bd1-85a6-d1c02be0f1f2",
   "metadata": {},
   "outputs": [
    {
     "data": {
      "application/vnd.plotly.v1+json": {
       "config": {
        "plotlyServerURL": "https://plot.ly"
       },
       "data": [
        {
         "line": {
          "color": "orange"
         },
         "mode": "lines",
         "name": "Maximum value",
         "type": "scatter",
         "x": [
          -49,
          -48,
          -47,
          -46,
          -45,
          -44,
          -43,
          -42,
          -41,
          -40,
          -39,
          -38,
          -37,
          -36,
          -35,
          -34,
          -33,
          -32,
          -31,
          -30,
          -29,
          -28,
          -27,
          -26,
          -25,
          -24,
          -23,
          -22,
          -21,
          -20,
          -19,
          -18,
          -17,
          -16,
          -15,
          -14,
          -13,
          -12,
          -11,
          -10,
          -9,
          -8,
          -7,
          -6,
          -5,
          -4,
          -3,
          -2,
          -1,
          0
         ],
         "y": [
          5.447654282812806,
          5.315313322867752,
          5.186811643848827,
          5.076453949298852,
          4.9660962547488765,
          4.855738560198901,
          4.745380865648926,
          4.6350231710989505,
          4.524665476548975,
          4.414307781999,
          4.303950087449024,
          4.193592392899049,
          4.083234698349074,
          3.9728770037990984,
          3.862519309249123,
          3.752161614699148,
          3.641803920149172,
          3.531446225599197,
          3.4210885310492216,
          3.3107308364992463,
          3.2235677004828327,
          3.2013959547367588,
          3.1792242089906853,
          3.1570524632446113,
          3.134880717498538,
          3.1127089717524643,
          3.0905372260063904,
          3.0683653726078006,
          2.9332691362295447,
          2.793598704804543,
          2.6539282733795417,
          2.51425784195454,
          2.3745874105295384,
          2.2349169791045367,
          2.095245659904176,
          1.9555626159105644,
          1.8158795719169527,
          1.676196527923341,
          1.536513483929729,
          1.396830439936117,
          1.2571473959425057,
          1.117464351948894,
          0.977781307955282,
          0.8380982639616708,
          0.6984152199680587,
          0.5587321759744466,
          0.4190491319808354,
          0.2793660879872233,
          0.1396830439936112,
          0
         ]
        },
        {
         "line": {
          "color": "steelblue"
         },
         "mode": "lines",
         "name": "Minimum value",
         "type": "scatter",
         "x": [
          -49,
          -48,
          -47,
          -46,
          -45,
          -44,
          -43,
          -42,
          -41,
          -40,
          -39,
          -38,
          -37,
          -36,
          -35,
          -34,
          -33,
          -32,
          -31,
          -30,
          -29,
          -28,
          -27,
          -26,
          -25,
          -24,
          -23,
          -22,
          -21,
          -20,
          -19,
          -18,
          -17,
          -16,
          -15,
          -14,
          -13,
          -12,
          -11,
          -10,
          -9,
          -8,
          -7,
          -6,
          -5,
          -4,
          -3,
          -2,
          -1,
          0
         ],
         "y": [
          -6.434297052112015,
          -6.302678457188648,
          -6.171059862265281,
          -6.039441267341914,
          -5.907822672418547,
          -5.77620407749518,
          -5.644585482571813,
          -5.512966887648446,
          -5.381348292725079,
          -5.249729697801683,
          -5.118111102878316,
          -4.986492507954949,
          -4.854873913031582,
          -4.723255318108215,
          -4.649852414158746,
          -4.579774607598665,
          -4.571074503267624,
          -4.553271655915523,
          -4.410983183859031,
          -4.268694667884034,
          -4.126406151909066,
          -3.9841163835595808,
          -3.841826512718171,
          -3.6995366418767617,
          -3.557246771035352,
          -3.414956900193914,
          -3.2726670293525046,
          -3.130377158511095,
          -2.9880872876696856,
          -2.845797416828276,
          -2.7035075459868665,
          -2.5612176751454285,
          -2.418927804304019,
          -2.2766379334626095,
          -2.1343480626212,
          -1.9920581917797904,
          -1.8497683209383808,
          -1.7074784500969429,
          -1.5651885792555331,
          -1.4228987084141238,
          -1.2806088375727145,
          -1.1383189667313047,
          -0.9960290958898952,
          -0.8537392250484857,
          -0.7114493542070477,
          -0.5691594833656382,
          -0.4268696125242286,
          -0.2845797416828191,
          -0.1422898708414095,
          0
         ]
        },
        {
         "fill": "toself",
         "fillcolor": "rgba(135, 206, 250, 0.3)",
         "hoverinfo": "skip",
         "line": {
          "color": "rgba(255,255,255,0)"
         },
         "showlegend": false,
         "type": "scatter",
         "x": [
          -49,
          -48,
          -47,
          -46,
          -45,
          -44,
          -43,
          -42,
          -41,
          -40,
          -39,
          -38,
          -37,
          -36,
          -35,
          -34,
          -33,
          -32,
          -31,
          -30,
          -29,
          -28,
          -27,
          -26,
          -25,
          -24,
          -23,
          -22,
          -21,
          -20,
          -19,
          -18,
          -17,
          -16,
          -15,
          -14,
          -13,
          -12,
          -11,
          -10,
          -9,
          -8,
          -7,
          -6,
          -5,
          -4,
          -3,
          -2,
          -1,
          0,
          0,
          -1,
          -2,
          -3,
          -4,
          -5,
          -6,
          -7,
          -8,
          -9,
          -10,
          -11,
          -12,
          -13,
          -14,
          -15,
          -16,
          -17,
          -18,
          -19,
          -20,
          -21,
          -22,
          -23,
          -24,
          -25,
          -26,
          -27,
          -28,
          -29,
          -30,
          -31,
          -32,
          -33,
          -34,
          -35,
          -36,
          -37,
          -38,
          -39,
          -40,
          -41,
          -42,
          -43,
          -44,
          -45,
          -46,
          -47,
          -48,
          -49
         ],
         "y": [
          5.447654282812806,
          5.315313322867752,
          5.186811643848827,
          5.076453949298852,
          4.9660962547488765,
          4.855738560198901,
          4.745380865648926,
          4.6350231710989505,
          4.524665476548975,
          4.414307781999,
          4.303950087449024,
          4.193592392899049,
          4.083234698349074,
          3.9728770037990984,
          3.862519309249123,
          3.752161614699148,
          3.641803920149172,
          3.531446225599197,
          3.4210885310492216,
          3.3107308364992463,
          3.2235677004828327,
          3.2013959547367588,
          3.1792242089906853,
          3.1570524632446113,
          3.134880717498538,
          3.1127089717524643,
          3.0905372260063904,
          3.0683653726078006,
          2.9332691362295447,
          2.793598704804543,
          2.6539282733795417,
          2.51425784195454,
          2.3745874105295384,
          2.2349169791045367,
          2.095245659904176,
          1.9555626159105644,
          1.8158795719169527,
          1.676196527923341,
          1.536513483929729,
          1.396830439936117,
          1.2571473959425057,
          1.117464351948894,
          0.977781307955282,
          0.8380982639616708,
          0.6984152199680587,
          0.5587321759744466,
          0.4190491319808354,
          0.2793660879872233,
          0.1396830439936112,
          0,
          0,
          -0.1422898708414095,
          -0.2845797416828191,
          -0.4268696125242286,
          -0.5691594833656382,
          -0.7114493542070477,
          -0.8537392250484857,
          -0.9960290958898952,
          -1.1383189667313047,
          -1.2806088375727145,
          -1.4228987084141238,
          -1.5651885792555331,
          -1.7074784500969429,
          -1.8497683209383808,
          -1.9920581917797904,
          -2.1343480626212,
          -2.2766379334626095,
          -2.418927804304019,
          -2.5612176751454285,
          -2.7035075459868665,
          -2.845797416828276,
          -2.9880872876696856,
          -3.130377158511095,
          -3.2726670293525046,
          -3.414956900193914,
          -3.557246771035352,
          -3.6995366418767617,
          -3.841826512718171,
          -3.9841163835595808,
          -4.126406151909066,
          -4.268694667884034,
          -4.410983183859031,
          -4.553271655915523,
          -4.571074503267624,
          -4.579774607598665,
          -4.649852414158746,
          -4.723255318108215,
          -4.854873913031582,
          -4.986492507954949,
          -5.118111102878316,
          -5.249729697801683,
          -5.381348292725079,
          -5.512966887648446,
          -5.644585482571813,
          -5.77620407749518,
          -5.907822672418547,
          -6.039441267341914,
          -6.171059862265281,
          -6.302678457188648,
          -6.434297052112015
         ]
        }
       ],
       "layout": {
        "height": 500,
        "template": {
         "data": {
          "bar": [
           {
            "error_x": {
             "color": "rgb(36,36,36)"
            },
            "error_y": {
             "color": "rgb(36,36,36)"
            },
            "marker": {
             "line": {
              "color": "white",
              "width": 0.5
             },
             "pattern": {
              "fillmode": "overlay",
              "size": 10,
              "solidity": 0.2
             }
            },
            "type": "bar"
           }
          ],
          "barpolar": [
           {
            "marker": {
             "line": {
              "color": "white",
              "width": 0.5
             },
             "pattern": {
              "fillmode": "overlay",
              "size": 10,
              "solidity": 0.2
             }
            },
            "type": "barpolar"
           }
          ],
          "carpet": [
           {
            "aaxis": {
             "endlinecolor": "rgb(36,36,36)",
             "gridcolor": "white",
             "linecolor": "white",
             "minorgridcolor": "white",
             "startlinecolor": "rgb(36,36,36)"
            },
            "baxis": {
             "endlinecolor": "rgb(36,36,36)",
             "gridcolor": "white",
             "linecolor": "white",
             "minorgridcolor": "white",
             "startlinecolor": "rgb(36,36,36)"
            },
            "type": "carpet"
           }
          ],
          "choropleth": [
           {
            "colorbar": {
             "outlinewidth": 1,
             "tickcolor": "rgb(36,36,36)",
             "ticks": "outside"
            },
            "type": "choropleth"
           }
          ],
          "contour": [
           {
            "colorbar": {
             "outlinewidth": 1,
             "tickcolor": "rgb(36,36,36)",
             "ticks": "outside"
            },
            "colorscale": [
             [
              0,
              "#440154"
             ],
             [
              0.1111111111111111,
              "#482878"
             ],
             [
              0.2222222222222222,
              "#3e4989"
             ],
             [
              0.3333333333333333,
              "#31688e"
             ],
             [
              0.4444444444444444,
              "#26828e"
             ],
             [
              0.5555555555555556,
              "#1f9e89"
             ],
             [
              0.6666666666666666,
              "#35b779"
             ],
             [
              0.7777777777777778,
              "#6ece58"
             ],
             [
              0.8888888888888888,
              "#b5de2b"
             ],
             [
              1,
              "#fde725"
             ]
            ],
            "type": "contour"
           }
          ],
          "contourcarpet": [
           {
            "colorbar": {
             "outlinewidth": 1,
             "tickcolor": "rgb(36,36,36)",
             "ticks": "outside"
            },
            "type": "contourcarpet"
           }
          ],
          "heatmap": [
           {
            "colorbar": {
             "outlinewidth": 1,
             "tickcolor": "rgb(36,36,36)",
             "ticks": "outside"
            },
            "colorscale": [
             [
              0,
              "#440154"
             ],
             [
              0.1111111111111111,
              "#482878"
             ],
             [
              0.2222222222222222,
              "#3e4989"
             ],
             [
              0.3333333333333333,
              "#31688e"
             ],
             [
              0.4444444444444444,
              "#26828e"
             ],
             [
              0.5555555555555556,
              "#1f9e89"
             ],
             [
              0.6666666666666666,
              "#35b779"
             ],
             [
              0.7777777777777778,
              "#6ece58"
             ],
             [
              0.8888888888888888,
              "#b5de2b"
             ],
             [
              1,
              "#fde725"
             ]
            ],
            "type": "heatmap"
           }
          ],
          "heatmapgl": [
           {
            "colorbar": {
             "outlinewidth": 1,
             "tickcolor": "rgb(36,36,36)",
             "ticks": "outside"
            },
            "colorscale": [
             [
              0,
              "#440154"
             ],
             [
              0.1111111111111111,
              "#482878"
             ],
             [
              0.2222222222222222,
              "#3e4989"
             ],
             [
              0.3333333333333333,
              "#31688e"
             ],
             [
              0.4444444444444444,
              "#26828e"
             ],
             [
              0.5555555555555556,
              "#1f9e89"
             ],
             [
              0.6666666666666666,
              "#35b779"
             ],
             [
              0.7777777777777778,
              "#6ece58"
             ],
             [
              0.8888888888888888,
              "#b5de2b"
             ],
             [
              1,
              "#fde725"
             ]
            ],
            "type": "heatmapgl"
           }
          ],
          "histogram": [
           {
            "marker": {
             "line": {
              "color": "white",
              "width": 0.6
             }
            },
            "type": "histogram"
           }
          ],
          "histogram2d": [
           {
            "colorbar": {
             "outlinewidth": 1,
             "tickcolor": "rgb(36,36,36)",
             "ticks": "outside"
            },
            "colorscale": [
             [
              0,
              "#440154"
             ],
             [
              0.1111111111111111,
              "#482878"
             ],
             [
              0.2222222222222222,
              "#3e4989"
             ],
             [
              0.3333333333333333,
              "#31688e"
             ],
             [
              0.4444444444444444,
              "#26828e"
             ],
             [
              0.5555555555555556,
              "#1f9e89"
             ],
             [
              0.6666666666666666,
              "#35b779"
             ],
             [
              0.7777777777777778,
              "#6ece58"
             ],
             [
              0.8888888888888888,
              "#b5de2b"
             ],
             [
              1,
              "#fde725"
             ]
            ],
            "type": "histogram2d"
           }
          ],
          "histogram2dcontour": [
           {
            "colorbar": {
             "outlinewidth": 1,
             "tickcolor": "rgb(36,36,36)",
             "ticks": "outside"
            },
            "colorscale": [
             [
              0,
              "#440154"
             ],
             [
              0.1111111111111111,
              "#482878"
             ],
             [
              0.2222222222222222,
              "#3e4989"
             ],
             [
              0.3333333333333333,
              "#31688e"
             ],
             [
              0.4444444444444444,
              "#26828e"
             ],
             [
              0.5555555555555556,
              "#1f9e89"
             ],
             [
              0.6666666666666666,
              "#35b779"
             ],
             [
              0.7777777777777778,
              "#6ece58"
             ],
             [
              0.8888888888888888,
              "#b5de2b"
             ],
             [
              1,
              "#fde725"
             ]
            ],
            "type": "histogram2dcontour"
           }
          ],
          "mesh3d": [
           {
            "colorbar": {
             "outlinewidth": 1,
             "tickcolor": "rgb(36,36,36)",
             "ticks": "outside"
            },
            "type": "mesh3d"
           }
          ],
          "parcoords": [
           {
            "line": {
             "colorbar": {
              "outlinewidth": 1,
              "tickcolor": "rgb(36,36,36)",
              "ticks": "outside"
             }
            },
            "type": "parcoords"
           }
          ],
          "pie": [
           {
            "automargin": true,
            "type": "pie"
           }
          ],
          "scatter": [
           {
            "fillpattern": {
             "fillmode": "overlay",
             "size": 10,
             "solidity": 0.2
            },
            "type": "scatter"
           }
          ],
          "scatter3d": [
           {
            "line": {
             "colorbar": {
              "outlinewidth": 1,
              "tickcolor": "rgb(36,36,36)",
              "ticks": "outside"
             }
            },
            "marker": {
             "colorbar": {
              "outlinewidth": 1,
              "tickcolor": "rgb(36,36,36)",
              "ticks": "outside"
             }
            },
            "type": "scatter3d"
           }
          ],
          "scattercarpet": [
           {
            "marker": {
             "colorbar": {
              "outlinewidth": 1,
              "tickcolor": "rgb(36,36,36)",
              "ticks": "outside"
             }
            },
            "type": "scattercarpet"
           }
          ],
          "scattergeo": [
           {
            "marker": {
             "colorbar": {
              "outlinewidth": 1,
              "tickcolor": "rgb(36,36,36)",
              "ticks": "outside"
             }
            },
            "type": "scattergeo"
           }
          ],
          "scattergl": [
           {
            "marker": {
             "colorbar": {
              "outlinewidth": 1,
              "tickcolor": "rgb(36,36,36)",
              "ticks": "outside"
             }
            },
            "type": "scattergl"
           }
          ],
          "scattermapbox": [
           {
            "marker": {
             "colorbar": {
              "outlinewidth": 1,
              "tickcolor": "rgb(36,36,36)",
              "ticks": "outside"
             }
            },
            "type": "scattermapbox"
           }
          ],
          "scatterpolar": [
           {
            "marker": {
             "colorbar": {
              "outlinewidth": 1,
              "tickcolor": "rgb(36,36,36)",
              "ticks": "outside"
             }
            },
            "type": "scatterpolar"
           }
          ],
          "scatterpolargl": [
           {
            "marker": {
             "colorbar": {
              "outlinewidth": 1,
              "tickcolor": "rgb(36,36,36)",
              "ticks": "outside"
             }
            },
            "type": "scatterpolargl"
           }
          ],
          "scatterternary": [
           {
            "marker": {
             "colorbar": {
              "outlinewidth": 1,
              "tickcolor": "rgb(36,36,36)",
              "ticks": "outside"
             }
            },
            "type": "scatterternary"
           }
          ],
          "surface": [
           {
            "colorbar": {
             "outlinewidth": 1,
             "tickcolor": "rgb(36,36,36)",
             "ticks": "outside"
            },
            "colorscale": [
             [
              0,
              "#440154"
             ],
             [
              0.1111111111111111,
              "#482878"
             ],
             [
              0.2222222222222222,
              "#3e4989"
             ],
             [
              0.3333333333333333,
              "#31688e"
             ],
             [
              0.4444444444444444,
              "#26828e"
             ],
             [
              0.5555555555555556,
              "#1f9e89"
             ],
             [
              0.6666666666666666,
              "#35b779"
             ],
             [
              0.7777777777777778,
              "#6ece58"
             ],
             [
              0.8888888888888888,
              "#b5de2b"
             ],
             [
              1,
              "#fde725"
             ]
            ],
            "type": "surface"
           }
          ],
          "table": [
           {
            "cells": {
             "fill": {
              "color": "rgb(237,237,237)"
             },
             "line": {
              "color": "white"
             }
            },
            "header": {
             "fill": {
              "color": "rgb(217,217,217)"
             },
             "line": {
              "color": "white"
             }
            },
            "type": "table"
           }
          ]
         },
         "layout": {
          "annotationdefaults": {
           "arrowhead": 0,
           "arrowwidth": 1
          },
          "autotypenumbers": "strict",
          "coloraxis": {
           "colorbar": {
            "outlinewidth": 1,
            "tickcolor": "rgb(36,36,36)",
            "ticks": "outside"
           }
          },
          "colorscale": {
           "diverging": [
            [
             0,
             "rgb(103,0,31)"
            ],
            [
             0.1,
             "rgb(178,24,43)"
            ],
            [
             0.2,
             "rgb(214,96,77)"
            ],
            [
             0.3,
             "rgb(244,165,130)"
            ],
            [
             0.4,
             "rgb(253,219,199)"
            ],
            [
             0.5,
             "rgb(247,247,247)"
            ],
            [
             0.6,
             "rgb(209,229,240)"
            ],
            [
             0.7,
             "rgb(146,197,222)"
            ],
            [
             0.8,
             "rgb(67,147,195)"
            ],
            [
             0.9,
             "rgb(33,102,172)"
            ],
            [
             1,
             "rgb(5,48,97)"
            ]
           ],
           "sequential": [
            [
             0,
             "#440154"
            ],
            [
             0.1111111111111111,
             "#482878"
            ],
            [
             0.2222222222222222,
             "#3e4989"
            ],
            [
             0.3333333333333333,
             "#31688e"
            ],
            [
             0.4444444444444444,
             "#26828e"
            ],
            [
             0.5555555555555556,
             "#1f9e89"
            ],
            [
             0.6666666666666666,
             "#35b779"
            ],
            [
             0.7777777777777778,
             "#6ece58"
            ],
            [
             0.8888888888888888,
             "#b5de2b"
            ],
            [
             1,
             "#fde725"
            ]
           ],
           "sequentialminus": [
            [
             0,
             "#440154"
            ],
            [
             0.1111111111111111,
             "#482878"
            ],
            [
             0.2222222222222222,
             "#3e4989"
            ],
            [
             0.3333333333333333,
             "#31688e"
            ],
            [
             0.4444444444444444,
             "#26828e"
            ],
            [
             0.5555555555555556,
             "#1f9e89"
            ],
            [
             0.6666666666666666,
             "#35b779"
            ],
            [
             0.7777777777777778,
             "#6ece58"
            ],
            [
             0.8888888888888888,
             "#b5de2b"
            ],
            [
             1,
             "#fde725"
            ]
           ]
          },
          "colorway": [
           "#1F77B4",
           "#FF7F0E",
           "#2CA02C",
           "#D62728",
           "#9467BD",
           "#8C564B",
           "#E377C2",
           "#7F7F7F",
           "#BCBD22",
           "#17BECF"
          ],
          "font": {
           "color": "rgb(36,36,36)"
          },
          "geo": {
           "bgcolor": "white",
           "lakecolor": "white",
           "landcolor": "white",
           "showlakes": true,
           "showland": true,
           "subunitcolor": "white"
          },
          "hoverlabel": {
           "align": "left"
          },
          "hovermode": "closest",
          "mapbox": {
           "style": "light"
          },
          "paper_bgcolor": "white",
          "plot_bgcolor": "white",
          "polar": {
           "angularaxis": {
            "gridcolor": "rgb(232,232,232)",
            "linecolor": "rgb(36,36,36)",
            "showgrid": false,
            "showline": true,
            "ticks": "outside"
           },
           "bgcolor": "white",
           "radialaxis": {
            "gridcolor": "rgb(232,232,232)",
            "linecolor": "rgb(36,36,36)",
            "showgrid": false,
            "showline": true,
            "ticks": "outside"
           }
          },
          "scene": {
           "xaxis": {
            "backgroundcolor": "white",
            "gridcolor": "rgb(232,232,232)",
            "gridwidth": 2,
            "linecolor": "rgb(36,36,36)",
            "showbackground": true,
            "showgrid": false,
            "showline": true,
            "ticks": "outside",
            "zeroline": false,
            "zerolinecolor": "rgb(36,36,36)"
           },
           "yaxis": {
            "backgroundcolor": "white",
            "gridcolor": "rgb(232,232,232)",
            "gridwidth": 2,
            "linecolor": "rgb(36,36,36)",
            "showbackground": true,
            "showgrid": false,
            "showline": true,
            "ticks": "outside",
            "zeroline": false,
            "zerolinecolor": "rgb(36,36,36)"
           },
           "zaxis": {
            "backgroundcolor": "white",
            "gridcolor": "rgb(232,232,232)",
            "gridwidth": 2,
            "linecolor": "rgb(36,36,36)",
            "showbackground": true,
            "showgrid": false,
            "showline": true,
            "ticks": "outside",
            "zeroline": false,
            "zerolinecolor": "rgb(36,36,36)"
           }
          },
          "shapedefaults": {
           "fillcolor": "black",
           "line": {
            "width": 0
           },
           "opacity": 0.3
          },
          "ternary": {
           "aaxis": {
            "gridcolor": "rgb(232,232,232)",
            "linecolor": "rgb(36,36,36)",
            "showgrid": false,
            "showline": true,
            "ticks": "outside"
           },
           "baxis": {
            "gridcolor": "rgb(232,232,232)",
            "linecolor": "rgb(36,36,36)",
            "showgrid": false,
            "showline": true,
            "ticks": "outside"
           },
           "bgcolor": "white",
           "caxis": {
            "gridcolor": "rgb(232,232,232)",
            "linecolor": "rgb(36,36,36)",
            "showgrid": false,
            "showline": true,
            "ticks": "outside"
           }
          },
          "title": {
           "x": 0.05
          },
          "xaxis": {
           "automargin": true,
           "gridcolor": "rgb(232,232,232)",
           "linecolor": "rgb(36,36,36)",
           "showgrid": false,
           "showline": true,
           "ticks": "outside",
           "title": {
            "standoff": 15
           },
           "zeroline": false,
           "zerolinecolor": "rgb(36,36,36)"
          },
          "yaxis": {
           "automargin": true,
           "gridcolor": "rgb(232,232,232)",
           "linecolor": "rgb(36,36,36)",
           "showgrid": false,
           "showline": true,
           "ticks": "outside",
           "title": {
            "standoff": 15
           },
           "zeroline": false,
           "zerolinecolor": "rgb(36,36,36)"
          }
         }
        },
        "title": {
         "text": "Plot of the range of maximum and minimum geological Z-values for each column"
        },
        "width": 1000,
        "xaxis": {
         "dtick": 1,
         "tickmode": "linear",
         "title": {
          "text": "Columns(-49 ~ 0)"
         }
        },
        "yaxis": {
         "dtick": 1,
         "range": [
          -7,
          7
         ],
         "title": {
          "text": "Z value"
         }
        }
       }
      }
     },
     "metadata": {},
     "output_type": "display_data"
    },
    {
     "data": {
      "text/plain": [
       "<Figure size 640x480 with 0 Axes>"
      ]
     },
     "metadata": {},
     "output_type": "display_data"
    }
   ],
   "source": [
    "# Data preparation\n",
    "fig = go.Figure()\n",
    "x = summary_stats_new['Columns'].astype(int).values\n",
    "ymin = summary_stats_new['min'].astype(float).values\n",
    "ymax = summary_stats_new['max'].astype(float).values\n",
    "\n",
    "# The maximum line graph\n",
    "fig.add_trace(go.Scatter(\n",
    "    x=x, y=ymax,\n",
    "    mode='lines',\n",
    "    name='Maximum value',\n",
    "    line=dict(color='orange')\n",
    "))\n",
    "\n",
    "# The minimum line graph\n",
    "fig.add_trace(go.Scatter(\n",
    "    x=x, y=ymin,\n",
    "    mode='lines',\n",
    "    name='Minimum value',\n",
    "    line=dict(color='steelblue')\n",
    "))\n",
    "\n",
    "# fill the area between the maximum line graph and the minimum line graph\n",
    "fig.add_trace(go.Scatter(\n",
    "    x=np.concatenate([x, x[::-1]]),\n",
    "    y=np.concatenate([ymax, ymin[::-1]]),\n",
    "    fill='toself',\n",
    "    fillcolor='rgba(135, 206, 250, 0.3)',\n",
    "    line=dict(color='rgba(255,255,255,0)'),\n",
    "    hoverinfo=\"skip\",\n",
    "    showlegend=False\n",
    "))\n",
    "\n",
    "fig.update_layout(\n",
    "    title=\"Plot of the range of maximum and minimum geological Z-values for each column\",\n",
    "    xaxis=dict(\n",
    "        title=\"Columns(-49 ~ 0)\",\n",
    "        tickmode='linear',\n",
    "        dtick=1\n",
    "    ),\n",
    "    yaxis=dict(\n",
    "        title=\"Z value\",\n",
    "        range=[-7, 7],\n",
    "        dtick=1\n",
    "    ),\n",
    "    width=1000,\n",
    "    height=500,\n",
    "    template=\"simple_white\"\n",
    ")\n",
    "\n",
    "plt.tight_layout()\n",
    "fig.show()"
   ]
  },
  {
   "cell_type": "code",
   "execution_count": 28,
   "id": "11814635-a01c-4477-a9af-be911fa8a8aa",
   "metadata": {},
   "outputs": [
    {
     "name": "stdout",
     "output_type": "stream",
     "text": [
      "No missing values found in priority_cols of train_cleaned.csv\n"
     ]
    }
   ],
   "source": [
    "missing_values = eda_dropped[priority_cols].isnull().sum()\n",
    "assert all(missing_values == 0), \"There are still missing values in priority_cols!\"\n",
    "print(\"No missing values found in priority_cols of train_cleaned.csv\")"
   ]
  },
  {
   "cell_type": "code",
   "execution_count": 29,
   "id": "1920c3f8-e77c-42d1-ae95-9ce9245426bd",
   "metadata": {},
   "outputs": [],
   "source": [
    "# Export the cleansed train file as train_cleaned.csv and test file as test_cleaned.csv\n",
    "train_removed_extremes.to_csv('train_cleaned.csv', index=False)\n",
    "test_filled.to_csv('test_cleaned.csv', index=False)"
   ]
  },
  {
   "cell_type": "code",
   "execution_count": 30,
   "id": "1ea099a0-9533-4c8f-bc5b-9d81ac486d4c",
   "metadata": {},
   "outputs": [
    {
     "data": {
      "text/html": [
       "<div>\n",
       "<style scoped>\n",
       "    .dataframe tbody tr th:only-of-type {\n",
       "        vertical-align: middle;\n",
       "    }\n",
       "\n",
       "    .dataframe tbody tr th {\n",
       "        vertical-align: top;\n",
       "    }\n",
       "\n",
       "    .dataframe thead th {\n",
       "        text-align: right;\n",
       "    }\n",
       "</style>\n",
       "<table border=\"1\" class=\"dataframe\">\n",
       "  <thead>\n",
       "    <tr style=\"text-align: right;\">\n",
       "      <th></th>\n",
       "      <th>geology_id</th>\n",
       "      <th>-299</th>\n",
       "      <th>-298</th>\n",
       "      <th>-297</th>\n",
       "      <th>-296</th>\n",
       "      <th>-295</th>\n",
       "      <th>-294</th>\n",
       "      <th>-293</th>\n",
       "      <th>-292</th>\n",
       "      <th>-291</th>\n",
       "      <th>...</th>\n",
       "      <th>r_9_pos_291</th>\n",
       "      <th>r_9_pos_292</th>\n",
       "      <th>r_9_pos_293</th>\n",
       "      <th>r_9_pos_294</th>\n",
       "      <th>r_9_pos_295</th>\n",
       "      <th>r_9_pos_296</th>\n",
       "      <th>r_9_pos_297</th>\n",
       "      <th>r_9_pos_298</th>\n",
       "      <th>r_9_pos_299</th>\n",
       "      <th>r_9_pos_300</th>\n",
       "    </tr>\n",
       "  </thead>\n",
       "  <tbody>\n",
       "    <tr>\n",
       "      <th>0</th>\n",
       "      <td>g_08504df78e</td>\n",
       "      <td>-9.253171</td>\n",
       "      <td>-9.224713</td>\n",
       "      <td>-9.196256</td>\n",
       "      <td>-9.167798</td>\n",
       "      <td>-9.13934</td>\n",
       "      <td>-9.110882</td>\n",
       "      <td>-9.082424</td>\n",
       "      <td>-9.053967</td>\n",
       "      <td>-9.025509</td>\n",
       "      <td>...</td>\n",
       "      <td>16.943604</td>\n",
       "      <td>17.002798</td>\n",
       "      <td>17.061992</td>\n",
       "      <td>17.121186</td>\n",
       "      <td>17.180380</td>\n",
       "      <td>17.239573</td>\n",
       "      <td>17.298767</td>\n",
       "      <td>17.357961</td>\n",
       "      <td>17.417155</td>\n",
       "      <td>17.476349</td>\n",
       "    </tr>\n",
       "    <tr>\n",
       "      <th>1</th>\n",
       "      <td>g_ea47af5886</td>\n",
       "      <td>NaN</td>\n",
       "      <td>NaN</td>\n",
       "      <td>NaN</td>\n",
       "      <td>NaN</td>\n",
       "      <td>NaN</td>\n",
       "      <td>NaN</td>\n",
       "      <td>NaN</td>\n",
       "      <td>NaN</td>\n",
       "      <td>NaN</td>\n",
       "      <td>...</td>\n",
       "      <td>3.608719</td>\n",
       "      <td>3.646996</td>\n",
       "      <td>3.685274</td>\n",
       "      <td>3.723551</td>\n",
       "      <td>3.761828</td>\n",
       "      <td>3.800105</td>\n",
       "      <td>3.838382</td>\n",
       "      <td>3.876659</td>\n",
       "      <td>3.914937</td>\n",
       "      <td>3.953214</td>\n",
       "    </tr>\n",
       "    <tr>\n",
       "      <th>2</th>\n",
       "      <td>g_29c088d23e</td>\n",
       "      <td>NaN</td>\n",
       "      <td>NaN</td>\n",
       "      <td>NaN</td>\n",
       "      <td>NaN</td>\n",
       "      <td>NaN</td>\n",
       "      <td>NaN</td>\n",
       "      <td>NaN</td>\n",
       "      <td>NaN</td>\n",
       "      <td>NaN</td>\n",
       "      <td>...</td>\n",
       "      <td>12.774845</td>\n",
       "      <td>12.813151</td>\n",
       "      <td>12.851456</td>\n",
       "      <td>12.889762</td>\n",
       "      <td>12.928067</td>\n",
       "      <td>12.966373</td>\n",
       "      <td>13.004678</td>\n",
       "      <td>13.042984</td>\n",
       "      <td>13.081289</td>\n",
       "      <td>13.119595</td>\n",
       "    </tr>\n",
       "    <tr>\n",
       "      <th>3</th>\n",
       "      <td>g_5f895697a1</td>\n",
       "      <td>NaN</td>\n",
       "      <td>NaN</td>\n",
       "      <td>NaN</td>\n",
       "      <td>NaN</td>\n",
       "      <td>NaN</td>\n",
       "      <td>NaN</td>\n",
       "      <td>NaN</td>\n",
       "      <td>NaN</td>\n",
       "      <td>NaN</td>\n",
       "      <td>...</td>\n",
       "      <td>12.120419</td>\n",
       "      <td>12.159944</td>\n",
       "      <td>12.199469</td>\n",
       "      <td>12.238994</td>\n",
       "      <td>12.278520</td>\n",
       "      <td>12.318045</td>\n",
       "      <td>12.357570</td>\n",
       "      <td>12.397095</td>\n",
       "      <td>12.436620</td>\n",
       "      <td>12.476145</td>\n",
       "    </tr>\n",
       "    <tr>\n",
       "      <th>4</th>\n",
       "      <td>g_20617e2013</td>\n",
       "      <td>NaN</td>\n",
       "      <td>NaN</td>\n",
       "      <td>NaN</td>\n",
       "      <td>NaN</td>\n",
       "      <td>NaN</td>\n",
       "      <td>NaN</td>\n",
       "      <td>NaN</td>\n",
       "      <td>NaN</td>\n",
       "      <td>NaN</td>\n",
       "      <td>...</td>\n",
       "      <td>-2.146060</td>\n",
       "      <td>-2.153430</td>\n",
       "      <td>-2.160799</td>\n",
       "      <td>-2.168168</td>\n",
       "      <td>-2.175537</td>\n",
       "      <td>-2.182906</td>\n",
       "      <td>-2.190275</td>\n",
       "      <td>-2.197645</td>\n",
       "      <td>-2.205014</td>\n",
       "      <td>-2.208960</td>\n",
       "    </tr>\n",
       "  </tbody>\n",
       "</table>\n",
       "<p>5 rows × 3301 columns</p>\n",
       "</div>"
      ],
      "text/plain": [
       "     geology_id      -299      -298      -297      -296     -295      -294  \\\n",
       "0  g_08504df78e -9.253171 -9.224713 -9.196256 -9.167798 -9.13934 -9.110882   \n",
       "1  g_ea47af5886       NaN       NaN       NaN       NaN      NaN       NaN   \n",
       "2  g_29c088d23e       NaN       NaN       NaN       NaN      NaN       NaN   \n",
       "3  g_5f895697a1       NaN       NaN       NaN       NaN      NaN       NaN   \n",
       "4  g_20617e2013       NaN       NaN       NaN       NaN      NaN       NaN   \n",
       "\n",
       "       -293      -292      -291  ...  r_9_pos_291  r_9_pos_292  r_9_pos_293  \\\n",
       "0 -9.082424 -9.053967 -9.025509  ...    16.943604    17.002798    17.061992   \n",
       "1       NaN       NaN       NaN  ...     3.608719     3.646996     3.685274   \n",
       "2       NaN       NaN       NaN  ...    12.774845    12.813151    12.851456   \n",
       "3       NaN       NaN       NaN  ...    12.120419    12.159944    12.199469   \n",
       "4       NaN       NaN       NaN  ...    -2.146060    -2.153430    -2.160799   \n",
       "\n",
       "   r_9_pos_294  r_9_pos_295  r_9_pos_296  r_9_pos_297  r_9_pos_298  \\\n",
       "0    17.121186    17.180380    17.239573    17.298767    17.357961   \n",
       "1     3.723551     3.761828     3.800105     3.838382     3.876659   \n",
       "2    12.889762    12.928067    12.966373    13.004678    13.042984   \n",
       "3    12.238994    12.278520    12.318045    12.357570    12.397095   \n",
       "4    -2.168168    -2.175537    -2.182906    -2.190275    -2.197645   \n",
       "\n",
       "   r_9_pos_299  r_9_pos_300  \n",
       "0    17.417155    17.476349  \n",
       "1     3.914937     3.953214  \n",
       "2    13.081289    13.119595  \n",
       "3    12.436620    12.476145  \n",
       "4    -2.205014    -2.208960  \n",
       "\n",
       "[5 rows x 3301 columns]"
      ]
     },
     "execution_count": 30,
     "metadata": {},
     "output_type": "execute_result"
    }
   ],
   "source": [
    "train_cleaned = pd.read_csv('train_cleaned.csv')\n",
    "train_cleaned.head()"
   ]
  },
  {
   "cell_type": "code",
   "execution_count": 31,
   "id": "683f9fe1-bf72-4dd5-9a72-3076f05c334e",
   "metadata": {},
   "outputs": [
    {
     "data": {
      "text/html": [
       "<div>\n",
       "<style scoped>\n",
       "    .dataframe tbody tr th:only-of-type {\n",
       "        vertical-align: middle;\n",
       "    }\n",
       "\n",
       "    .dataframe tbody tr th {\n",
       "        vertical-align: top;\n",
       "    }\n",
       "\n",
       "    .dataframe thead th {\n",
       "        text-align: right;\n",
       "    }\n",
       "</style>\n",
       "<table border=\"1\" class=\"dataframe\">\n",
       "  <thead>\n",
       "    <tr style=\"text-align: right;\">\n",
       "      <th></th>\n",
       "      <th>geology_id</th>\n",
       "      <th>-299</th>\n",
       "      <th>-298</th>\n",
       "      <th>-297</th>\n",
       "      <th>-296</th>\n",
       "      <th>-295</th>\n",
       "      <th>-294</th>\n",
       "      <th>-293</th>\n",
       "      <th>-292</th>\n",
       "      <th>-291</th>\n",
       "      <th>...</th>\n",
       "      <th>-9</th>\n",
       "      <th>-8</th>\n",
       "      <th>-7</th>\n",
       "      <th>-6</th>\n",
       "      <th>-5</th>\n",
       "      <th>-4</th>\n",
       "      <th>-3</th>\n",
       "      <th>-2</th>\n",
       "      <th>-1</th>\n",
       "      <th>0</th>\n",
       "    </tr>\n",
       "  </thead>\n",
       "  <tbody>\n",
       "    <tr>\n",
       "      <th>0</th>\n",
       "      <td>g_4a52df537a</td>\n",
       "      <td>NaN</td>\n",
       "      <td>NaN</td>\n",
       "      <td>NaN</td>\n",
       "      <td>NaN</td>\n",
       "      <td>NaN</td>\n",
       "      <td>NaN</td>\n",
       "      <td>NaN</td>\n",
       "      <td>NaN</td>\n",
       "      <td>NaN</td>\n",
       "      <td>...</td>\n",
       "      <td>0.066388</td>\n",
       "      <td>0.059011</td>\n",
       "      <td>0.051635</td>\n",
       "      <td>0.044258</td>\n",
       "      <td>0.036882</td>\n",
       "      <td>0.029506</td>\n",
       "      <td>0.022129</td>\n",
       "      <td>0.014753</td>\n",
       "      <td>0.007376</td>\n",
       "      <td>0.0</td>\n",
       "    </tr>\n",
       "    <tr>\n",
       "      <th>1</th>\n",
       "      <td>g_1e4b5a1509</td>\n",
       "      <td>-3.89246</td>\n",
       "      <td>-3.879441</td>\n",
       "      <td>-3.866423</td>\n",
       "      <td>-3.853405</td>\n",
       "      <td>-3.840387</td>\n",
       "      <td>-3.827368</td>\n",
       "      <td>-3.81435</td>\n",
       "      <td>-3.801332</td>\n",
       "      <td>-3.788313</td>\n",
       "      <td>...</td>\n",
       "      <td>-0.117164</td>\n",
       "      <td>-0.104146</td>\n",
       "      <td>-0.091128</td>\n",
       "      <td>-0.078110</td>\n",
       "      <td>-0.065091</td>\n",
       "      <td>-0.052073</td>\n",
       "      <td>-0.039055</td>\n",
       "      <td>-0.026037</td>\n",
       "      <td>-0.013018</td>\n",
       "      <td>0.0</td>\n",
       "    </tr>\n",
       "    <tr>\n",
       "      <th>2</th>\n",
       "      <td>g_5919c0bea3</td>\n",
       "      <td>NaN</td>\n",
       "      <td>NaN</td>\n",
       "      <td>NaN</td>\n",
       "      <td>NaN</td>\n",
       "      <td>NaN</td>\n",
       "      <td>NaN</td>\n",
       "      <td>NaN</td>\n",
       "      <td>NaN</td>\n",
       "      <td>NaN</td>\n",
       "      <td>...</td>\n",
       "      <td>-0.241023</td>\n",
       "      <td>-0.214243</td>\n",
       "      <td>-0.187462</td>\n",
       "      <td>-0.160682</td>\n",
       "      <td>-0.133902</td>\n",
       "      <td>-0.107121</td>\n",
       "      <td>-0.080341</td>\n",
       "      <td>-0.053561</td>\n",
       "      <td>-0.026780</td>\n",
       "      <td>0.0</td>\n",
       "    </tr>\n",
       "    <tr>\n",
       "      <th>3</th>\n",
       "      <td>g_9a665aae6d</td>\n",
       "      <td>NaN</td>\n",
       "      <td>NaN</td>\n",
       "      <td>NaN</td>\n",
       "      <td>NaN</td>\n",
       "      <td>NaN</td>\n",
       "      <td>NaN</td>\n",
       "      <td>NaN</td>\n",
       "      <td>NaN</td>\n",
       "      <td>NaN</td>\n",
       "      <td>...</td>\n",
       "      <td>-0.371052</td>\n",
       "      <td>-0.329824</td>\n",
       "      <td>-0.288596</td>\n",
       "      <td>-0.247368</td>\n",
       "      <td>-0.206140</td>\n",
       "      <td>-0.164912</td>\n",
       "      <td>-0.123684</td>\n",
       "      <td>-0.082456</td>\n",
       "      <td>-0.041228</td>\n",
       "      <td>0.0</td>\n",
       "    </tr>\n",
       "    <tr>\n",
       "      <th>4</th>\n",
       "      <td>g_ba4abe1b9e</td>\n",
       "      <td>NaN</td>\n",
       "      <td>NaN</td>\n",
       "      <td>NaN</td>\n",
       "      <td>NaN</td>\n",
       "      <td>NaN</td>\n",
       "      <td>NaN</td>\n",
       "      <td>NaN</td>\n",
       "      <td>NaN</td>\n",
       "      <td>NaN</td>\n",
       "      <td>...</td>\n",
       "      <td>-0.178712</td>\n",
       "      <td>-0.158855</td>\n",
       "      <td>-0.138998</td>\n",
       "      <td>-0.119141</td>\n",
       "      <td>-0.099284</td>\n",
       "      <td>-0.079427</td>\n",
       "      <td>-0.059571</td>\n",
       "      <td>-0.039714</td>\n",
       "      <td>-0.019857</td>\n",
       "      <td>0.0</td>\n",
       "    </tr>\n",
       "  </tbody>\n",
       "</table>\n",
       "<p>5 rows × 301 columns</p>\n",
       "</div>"
      ],
      "text/plain": [
       "     geology_id     -299      -298      -297      -296      -295      -294  \\\n",
       "0  g_4a52df537a      NaN       NaN       NaN       NaN       NaN       NaN   \n",
       "1  g_1e4b5a1509 -3.89246 -3.879441 -3.866423 -3.853405 -3.840387 -3.827368   \n",
       "2  g_5919c0bea3      NaN       NaN       NaN       NaN       NaN       NaN   \n",
       "3  g_9a665aae6d      NaN       NaN       NaN       NaN       NaN       NaN   \n",
       "4  g_ba4abe1b9e      NaN       NaN       NaN       NaN       NaN       NaN   \n",
       "\n",
       "      -293      -292      -291  ...        -9        -8        -7        -6  \\\n",
       "0      NaN       NaN       NaN  ...  0.066388  0.059011  0.051635  0.044258   \n",
       "1 -3.81435 -3.801332 -3.788313  ... -0.117164 -0.104146 -0.091128 -0.078110   \n",
       "2      NaN       NaN       NaN  ... -0.241023 -0.214243 -0.187462 -0.160682   \n",
       "3      NaN       NaN       NaN  ... -0.371052 -0.329824 -0.288596 -0.247368   \n",
       "4      NaN       NaN       NaN  ... -0.178712 -0.158855 -0.138998 -0.119141   \n",
       "\n",
       "         -5        -4        -3        -2        -1    0  \n",
       "0  0.036882  0.029506  0.022129  0.014753  0.007376  0.0  \n",
       "1 -0.065091 -0.052073 -0.039055 -0.026037 -0.013018  0.0  \n",
       "2 -0.133902 -0.107121 -0.080341 -0.053561 -0.026780  0.0  \n",
       "3 -0.206140 -0.164912 -0.123684 -0.082456 -0.041228  0.0  \n",
       "4 -0.099284 -0.079427 -0.059571 -0.039714 -0.019857  0.0  \n",
       "\n",
       "[5 rows x 301 columns]"
      ]
     },
     "execution_count": 31,
     "metadata": {},
     "output_type": "execute_result"
    }
   ],
   "source": [
    "test_cleaned = pd.read_csv('test_cleaned.csv')\n",
    "test_cleaned.head()"
   ]
  },
  {
   "cell_type": "markdown",
   "id": "7fd55821",
   "metadata": {},
   "source": [
    "# kNN Predictive Modelling"
   ]
  },
  {
   "cell_type": "code",
   "execution_count": 32,
   "id": "34eb2244-1296-4ba1-95a4-e4dfbb241a43",
   "metadata": {},
   "outputs": [],
   "source": [
    "# # Setting up feature columns and target columns, the x range is -49,1\n",
    "x_cols = [str(i) for i in range(-49, 1)]\n",
    "y_cols = [str(i) for i in range(1, 301)]\n",
    "\n",
    "x = train_cleaned[x_cols]\n",
    "y = train_cleaned[y_cols]\n",
    "\n",
    "# hyperparameters\n",
    "k_values = list(range(1, 51))\n",
    "weights_list = ['uniform', 'distance']\n",
    "p_list = [1, 2]\n",
    "algorithms = ['auto', 'ball_tree', 'kd_tree', 'brute']\n",
    "\n",
    "# Store the result in a list\n",
    "results = []\n",
    "\n",
    "for k in k_values:\n",
    "    for weight in weights_list:\n",
    "        for p in p_list:\n",
    "            for algo in algorithms:\n",
    "                try:\n",
    "                    model = KNeighborsRegressor(\n",
    "                        n_neighbors=k,\n",
    "                        weights=weight,\n",
    "                        algorithm=algo,\n",
    "                        metric='minkowski',\n",
    "                        p=p\n",
    "                    )\n",
    "                    r2_scores = cross_val_score(model, x, y, cv=3, scoring='r2')\n",
    "                    rmse_scores = cross_val_score(model, x, y, cv=3, scoring='neg_root_mean_squared_error')\n",
    "                    results.append({\n",
    "                        'k': k,\n",
    "                        'weights': weight,\n",
    "                        'p': p,\n",
    "                        'algorithm': algo,\n",
    "                        'mean_r2': r2_scores.mean(),\n",
    "                        'std_r2': r2_scores.std(),\n",
    "                        'mean_rmse': -rmse_scores.mean(),\n",
    "                        'std_rmse': rmse_scores.std()\n",
    "                    })\n",
    "                except Exception as e:\n",
    "                    results.append({\n",
    "                        'k': k,\n",
    "                        'weights': weight,\n",
    "                        'p': p,\n",
    "                        'algorithm': algo,\n",
    "                        'mean_r2': np.nan,\n",
    "                        'std_r2': np.nan,\n",
    "                        'mean_rmse': np.nan,\n",
    "                        'std_rmse': np.nan,\n",
    "                        'error': str(e)\n",
    "                    })\n",
    "\n",
    "results_df = pd.DataFrame(results)"
   ]
  },
  {
   "cell_type": "code",
   "execution_count": 33,
   "id": "91cab9dd-001d-454d-83c7-83fad8e84b55",
   "metadata": {},
   "outputs": [
    {
     "data": {
      "text/html": [
       "<div>\n",
       "<style scoped>\n",
       "    .dataframe tbody tr th:only-of-type {\n",
       "        vertical-align: middle;\n",
       "    }\n",
       "\n",
       "    .dataframe tbody tr th {\n",
       "        vertical-align: top;\n",
       "    }\n",
       "\n",
       "    .dataframe thead th {\n",
       "        text-align: right;\n",
       "    }\n",
       "</style>\n",
       "<table border=\"1\" class=\"dataframe\">\n",
       "  <thead>\n",
       "    <tr style=\"text-align: right;\">\n",
       "      <th></th>\n",
       "      <th>k</th>\n",
       "      <th>weights</th>\n",
       "      <th>p</th>\n",
       "      <th>algorithm</th>\n",
       "      <th>mean_r2</th>\n",
       "      <th>std_r2</th>\n",
       "      <th>mean_rmse</th>\n",
       "      <th>std_rmse</th>\n",
       "    </tr>\n",
       "  </thead>\n",
       "  <tbody>\n",
       "    <tr>\n",
       "      <th>0</th>\n",
       "      <td>1</td>\n",
       "      <td>uniform</td>\n",
       "      <td>1</td>\n",
       "      <td>auto</td>\n",
       "      <td>0.674189</td>\n",
       "      <td>0.071726</td>\n",
       "      <td>3.185107</td>\n",
       "      <td>0.319379</td>\n",
       "    </tr>\n",
       "    <tr>\n",
       "      <th>1</th>\n",
       "      <td>1</td>\n",
       "      <td>uniform</td>\n",
       "      <td>1</td>\n",
       "      <td>ball_tree</td>\n",
       "      <td>0.674189</td>\n",
       "      <td>0.071726</td>\n",
       "      <td>3.185107</td>\n",
       "      <td>0.319379</td>\n",
       "    </tr>\n",
       "    <tr>\n",
       "      <th>2</th>\n",
       "      <td>1</td>\n",
       "      <td>uniform</td>\n",
       "      <td>1</td>\n",
       "      <td>kd_tree</td>\n",
       "      <td>0.674189</td>\n",
       "      <td>0.071726</td>\n",
       "      <td>3.185107</td>\n",
       "      <td>0.319379</td>\n",
       "    </tr>\n",
       "    <tr>\n",
       "      <th>3</th>\n",
       "      <td>1</td>\n",
       "      <td>uniform</td>\n",
       "      <td>1</td>\n",
       "      <td>brute</td>\n",
       "      <td>0.674189</td>\n",
       "      <td>0.071726</td>\n",
       "      <td>3.185107</td>\n",
       "      <td>0.319379</td>\n",
       "    </tr>\n",
       "    <tr>\n",
       "      <th>4</th>\n",
       "      <td>1</td>\n",
       "      <td>uniform</td>\n",
       "      <td>2</td>\n",
       "      <td>auto</td>\n",
       "      <td>0.658541</td>\n",
       "      <td>0.058089</td>\n",
       "      <td>3.247029</td>\n",
       "      <td>0.245521</td>\n",
       "    </tr>\n",
       "    <tr>\n",
       "      <th>...</th>\n",
       "      <td>...</td>\n",
       "      <td>...</td>\n",
       "      <td>...</td>\n",
       "      <td>...</td>\n",
       "      <td>...</td>\n",
       "      <td>...</td>\n",
       "      <td>...</td>\n",
       "      <td>...</td>\n",
       "    </tr>\n",
       "    <tr>\n",
       "      <th>795</th>\n",
       "      <td>50</td>\n",
       "      <td>distance</td>\n",
       "      <td>1</td>\n",
       "      <td>brute</td>\n",
       "      <td>0.787597</td>\n",
       "      <td>0.055232</td>\n",
       "      <td>2.529818</td>\n",
       "      <td>0.339244</td>\n",
       "    </tr>\n",
       "    <tr>\n",
       "      <th>796</th>\n",
       "      <td>50</td>\n",
       "      <td>distance</td>\n",
       "      <td>2</td>\n",
       "      <td>auto</td>\n",
       "      <td>0.786464</td>\n",
       "      <td>0.054638</td>\n",
       "      <td>2.535732</td>\n",
       "      <td>0.336598</td>\n",
       "    </tr>\n",
       "    <tr>\n",
       "      <th>797</th>\n",
       "      <td>50</td>\n",
       "      <td>distance</td>\n",
       "      <td>2</td>\n",
       "      <td>ball_tree</td>\n",
       "      <td>0.786464</td>\n",
       "      <td>0.054638</td>\n",
       "      <td>2.535732</td>\n",
       "      <td>0.336598</td>\n",
       "    </tr>\n",
       "    <tr>\n",
       "      <th>798</th>\n",
       "      <td>50</td>\n",
       "      <td>distance</td>\n",
       "      <td>2</td>\n",
       "      <td>kd_tree</td>\n",
       "      <td>0.786464</td>\n",
       "      <td>0.054638</td>\n",
       "      <td>2.535732</td>\n",
       "      <td>0.336598</td>\n",
       "    </tr>\n",
       "    <tr>\n",
       "      <th>799</th>\n",
       "      <td>50</td>\n",
       "      <td>distance</td>\n",
       "      <td>2</td>\n",
       "      <td>brute</td>\n",
       "      <td>0.786464</td>\n",
       "      <td>0.054638</td>\n",
       "      <td>2.535732</td>\n",
       "      <td>0.336598</td>\n",
       "    </tr>\n",
       "  </tbody>\n",
       "</table>\n",
       "<p>800 rows × 8 columns</p>\n",
       "</div>"
      ],
      "text/plain": [
       "      k   weights  p  algorithm   mean_r2    std_r2  mean_rmse  std_rmse\n",
       "0     1   uniform  1       auto  0.674189  0.071726   3.185107  0.319379\n",
       "1     1   uniform  1  ball_tree  0.674189  0.071726   3.185107  0.319379\n",
       "2     1   uniform  1    kd_tree  0.674189  0.071726   3.185107  0.319379\n",
       "3     1   uniform  1      brute  0.674189  0.071726   3.185107  0.319379\n",
       "4     1   uniform  2       auto  0.658541  0.058089   3.247029  0.245521\n",
       "..   ..       ... ..        ...       ...       ...        ...       ...\n",
       "795  50  distance  1      brute  0.787597  0.055232   2.529818  0.339244\n",
       "796  50  distance  2       auto  0.786464  0.054638   2.535732  0.336598\n",
       "797  50  distance  2  ball_tree  0.786464  0.054638   2.535732  0.336598\n",
       "798  50  distance  2    kd_tree  0.786464  0.054638   2.535732  0.336598\n",
       "799  50  distance  2      brute  0.786464  0.054638   2.535732  0.336598\n",
       "\n",
       "[800 rows x 8 columns]"
      ]
     },
     "execution_count": 33,
     "metadata": {},
     "output_type": "execute_result"
    }
   ],
   "source": [
    "results_df"
   ]
  },
  {
   "cell_type": "markdown",
   "id": "a71a129c-6a83-41a6-acb8-8f214f26dd88",
   "metadata": {},
   "source": [
    "```\n",
    "According to the analysis of the output, only the change in p-value affects the final result of the production, while changes in weights and the algorithm do not impact the values of R-square and RMSE of the model.\n",
    "\n",
    "```"
   ]
  },
  {
   "cell_type": "code",
   "execution_count": 34,
   "id": "0888c390-3b1f-4272-ae2d-b2dc08612fa6",
   "metadata": {},
   "outputs": [],
   "source": [
    "# Setting up feature columns and target columns, the x range is -49..1\n",
    "x_cols = [str(i) for i in range(-49, 1)]\n",
    "y_cols = [str(i) for i in range(1, 301)]\n",
    "x = train_cleaned[x_cols]\n",
    "y = train_cleaned[y_cols]\n",
    "\n",
    "# Setting the hyperparameter range to test the best model with hyperparameters\n",
    "k_values = list(range(1, 51))\n",
    "p_list = [1, 2]\n",
    "\n",
    "# Store the result in a list\n",
    "results = []\n",
    "\n",
    "for k in k_values:\n",
    "            for p in p_list:\n",
    "                try:\n",
    "                    model = KNeighborsRegressor(\n",
    "                        n_neighbors=k,\n",
    "                        metric='minkowski',\n",
    "                        p=p\n",
    "                    )\n",
    "                    r2_scores = cross_val_score(model, X, y, cv=3, scoring='r2')\n",
    "                    rmse_scores = cross_val_score(model, X, y, cv=3, scoring='neg_root_mean_squared_error')\n",
    "                    results.append({\n",
    "                        'k': k,\n",
    "                        'p': p,\n",
    "                        'mean_r2': r2_scores.mean(),\n",
    "                        'std_r2': r2_scores.std(),\n",
    "                        'mean_rmse': -rmse_scores.mean(),\n",
    "                        'std_rmse': rmse_scores.std()\n",
    "                    })\n",
    "                except Exception as e:\n",
    "                    results.append({\n",
    "                        'k': k,\n",
    "                        'p': p,\n",
    "                        'mean_r2': np.nan,\n",
    "                        'std_r2': np.nan,\n",
    "                        'mean_rmse': np.nan,\n",
    "                        'std_rmse': np.nan,\n",
    "                        'error': str(e)\n",
    "                    })\n",
    "\n",
    "# Change the results file into a Dataframe\n",
    "results_df_new = pd.DataFrame(results)"
   ]
  },
  {
   "cell_type": "code",
   "execution_count": 35,
   "id": "8ac248f6-ec76-445c-9478-a88b5f84fcd6",
   "metadata": {},
   "outputs": [
    {
     "data": {
      "text/html": [
       "<div>\n",
       "<style scoped>\n",
       "    .dataframe tbody tr th:only-of-type {\n",
       "        vertical-align: middle;\n",
       "    }\n",
       "\n",
       "    .dataframe tbody tr th {\n",
       "        vertical-align: top;\n",
       "    }\n",
       "\n",
       "    .dataframe thead th {\n",
       "        text-align: right;\n",
       "    }\n",
       "</style>\n",
       "<table border=\"1\" class=\"dataframe\">\n",
       "  <thead>\n",
       "    <tr style=\"text-align: right;\">\n",
       "      <th></th>\n",
       "      <th>k</th>\n",
       "      <th>p</th>\n",
       "      <th>mean_r2</th>\n",
       "      <th>std_r2</th>\n",
       "      <th>mean_rmse</th>\n",
       "      <th>std_rmse</th>\n",
       "      <th>error</th>\n",
       "    </tr>\n",
       "  </thead>\n",
       "  <tbody>\n",
       "    <tr>\n",
       "      <th>0</th>\n",
       "      <td>1</td>\n",
       "      <td>1</td>\n",
       "      <td>NaN</td>\n",
       "      <td>NaN</td>\n",
       "      <td>NaN</td>\n",
       "      <td>NaN</td>\n",
       "      <td>name 'X' is not defined</td>\n",
       "    </tr>\n",
       "    <tr>\n",
       "      <th>1</th>\n",
       "      <td>1</td>\n",
       "      <td>2</td>\n",
       "      <td>NaN</td>\n",
       "      <td>NaN</td>\n",
       "      <td>NaN</td>\n",
       "      <td>NaN</td>\n",
       "      <td>name 'X' is not defined</td>\n",
       "    </tr>\n",
       "    <tr>\n",
       "      <th>2</th>\n",
       "      <td>2</td>\n",
       "      <td>1</td>\n",
       "      <td>NaN</td>\n",
       "      <td>NaN</td>\n",
       "      <td>NaN</td>\n",
       "      <td>NaN</td>\n",
       "      <td>name 'X' is not defined</td>\n",
       "    </tr>\n",
       "    <tr>\n",
       "      <th>3</th>\n",
       "      <td>2</td>\n",
       "      <td>2</td>\n",
       "      <td>NaN</td>\n",
       "      <td>NaN</td>\n",
       "      <td>NaN</td>\n",
       "      <td>NaN</td>\n",
       "      <td>name 'X' is not defined</td>\n",
       "    </tr>\n",
       "    <tr>\n",
       "      <th>4</th>\n",
       "      <td>3</td>\n",
       "      <td>1</td>\n",
       "      <td>NaN</td>\n",
       "      <td>NaN</td>\n",
       "      <td>NaN</td>\n",
       "      <td>NaN</td>\n",
       "      <td>name 'X' is not defined</td>\n",
       "    </tr>\n",
       "    <tr>\n",
       "      <th>...</th>\n",
       "      <td>...</td>\n",
       "      <td>...</td>\n",
       "      <td>...</td>\n",
       "      <td>...</td>\n",
       "      <td>...</td>\n",
       "      <td>...</td>\n",
       "      <td>...</td>\n",
       "    </tr>\n",
       "    <tr>\n",
       "      <th>95</th>\n",
       "      <td>48</td>\n",
       "      <td>2</td>\n",
       "      <td>NaN</td>\n",
       "      <td>NaN</td>\n",
       "      <td>NaN</td>\n",
       "      <td>NaN</td>\n",
       "      <td>name 'X' is not defined</td>\n",
       "    </tr>\n",
       "    <tr>\n",
       "      <th>96</th>\n",
       "      <td>49</td>\n",
       "      <td>1</td>\n",
       "      <td>NaN</td>\n",
       "      <td>NaN</td>\n",
       "      <td>NaN</td>\n",
       "      <td>NaN</td>\n",
       "      <td>name 'X' is not defined</td>\n",
       "    </tr>\n",
       "    <tr>\n",
       "      <th>97</th>\n",
       "      <td>49</td>\n",
       "      <td>2</td>\n",
       "      <td>NaN</td>\n",
       "      <td>NaN</td>\n",
       "      <td>NaN</td>\n",
       "      <td>NaN</td>\n",
       "      <td>name 'X' is not defined</td>\n",
       "    </tr>\n",
       "    <tr>\n",
       "      <th>98</th>\n",
       "      <td>50</td>\n",
       "      <td>1</td>\n",
       "      <td>NaN</td>\n",
       "      <td>NaN</td>\n",
       "      <td>NaN</td>\n",
       "      <td>NaN</td>\n",
       "      <td>name 'X' is not defined</td>\n",
       "    </tr>\n",
       "    <tr>\n",
       "      <th>99</th>\n",
       "      <td>50</td>\n",
       "      <td>2</td>\n",
       "      <td>NaN</td>\n",
       "      <td>NaN</td>\n",
       "      <td>NaN</td>\n",
       "      <td>NaN</td>\n",
       "      <td>name 'X' is not defined</td>\n",
       "    </tr>\n",
       "  </tbody>\n",
       "</table>\n",
       "<p>100 rows × 7 columns</p>\n",
       "</div>"
      ],
      "text/plain": [
       "     k  p  mean_r2  std_r2  mean_rmse  std_rmse                    error\n",
       "0    1  1      NaN     NaN        NaN       NaN  name 'X' is not defined\n",
       "1    1  2      NaN     NaN        NaN       NaN  name 'X' is not defined\n",
       "2    2  1      NaN     NaN        NaN       NaN  name 'X' is not defined\n",
       "3    2  2      NaN     NaN        NaN       NaN  name 'X' is not defined\n",
       "4    3  1      NaN     NaN        NaN       NaN  name 'X' is not defined\n",
       "..  .. ..      ...     ...        ...       ...                      ...\n",
       "95  48  2      NaN     NaN        NaN       NaN  name 'X' is not defined\n",
       "96  49  1      NaN     NaN        NaN       NaN  name 'X' is not defined\n",
       "97  49  2      NaN     NaN        NaN       NaN  name 'X' is not defined\n",
       "98  50  1      NaN     NaN        NaN       NaN  name 'X' is not defined\n",
       "99  50  2      NaN     NaN        NaN       NaN  name 'X' is not defined\n",
       "\n",
       "[100 rows x 7 columns]"
      ]
     },
     "execution_count": 35,
     "metadata": {},
     "output_type": "execute_result"
    }
   ],
   "source": [
    "results_df_new"
   ]
  },
  {
   "cell_type": "code",
   "execution_count": 36,
   "id": "ffa74c3f-a270-440c-8257-3ac1c9f73590",
   "metadata": {},
   "outputs": [],
   "source": [
    "# Export the score file to result_new.csv\n",
    "results_df_new.to_csv('result_new.csv',index = 'False')"
   ]
  },
  {
   "cell_type": "code",
   "execution_count": 37,
   "id": "7e652559-4b8f-4098-a7fd-3ccb3b116ea8",
   "metadata": {},
   "outputs": [
    {
     "data": {
      "text/plain": [
       "(   k  p  mean_r2  std_r2  mean_rmse  std_rmse                    error\n",
       " 0  1  1      NaN     NaN        NaN       NaN  name 'X' is not defined\n",
       " 1  1  2      NaN     NaN        NaN       NaN  name 'X' is not defined\n",
       " 2  2  1      NaN     NaN        NaN       NaN  name 'X' is not defined\n",
       " 3  2  2      NaN     NaN        NaN       NaN  name 'X' is not defined\n",
       " 4  3  1      NaN     NaN        NaN       NaN  name 'X' is not defined\n",
       " 5  3  2      NaN     NaN        NaN       NaN  name 'X' is not defined\n",
       " 6  4  1      NaN     NaN        NaN       NaN  name 'X' is not defined\n",
       " 7  4  2      NaN     NaN        NaN       NaN  name 'X' is not defined\n",
       " 8  5  1      NaN     NaN        NaN       NaN  name 'X' is not defined\n",
       " 9  5  2      NaN     NaN        NaN       NaN  name 'X' is not defined,\n",
       " k                                  1\n",
       " p                                  1\n",
       " mean_r2                          NaN\n",
       " std_r2                           NaN\n",
       " mean_rmse                        NaN\n",
       " std_rmse                         NaN\n",
       " error        name 'X' is not defined\n",
       " Name: 0, dtype: object)"
      ]
     },
     "execution_count": 37,
     "metadata": {},
     "output_type": "execute_result"
    }
   ],
   "source": [
    "# Finding the top 10 models with the highest mean_r2\n",
    "top_mean_r2 = results_df_new.sort_values(by='mean_r2', ascending=False).head(10)\n",
    "# Find the lowest 10 std_r2 value from the result file\n",
    "best_balanced_model = top_mean_r2.sort_values(by='std_r2').iloc[0]\n",
    "\n",
    "top_mean_r2, best_balanced_model"
   ]
  },
  {
   "cell_type": "code",
   "execution_count": 38,
   "id": "9a9aea3e-fbe7-4b02-be2c-b303bf7e2fa2",
   "metadata": {},
   "outputs": [
    {
     "data": {
      "application/vnd.plotly.v1+json": {
       "config": {
        "plotlyServerURL": "https://plot.ly"
       },
       "data": [
        {
         "line": {
          "color": "rgba(0, 100, 255, 0.6)",
          "dash": "solid",
          "width": 2
         },
         "marker": {
          "color": "rgba(0, 100, 255, 0.6)"
         },
         "mode": "lines+markers",
         "name": "p=1, R²",
         "type": "scatter",
         "x": [
          1,
          2,
          3,
          4,
          5,
          6,
          7,
          8,
          9,
          10,
          11,
          12,
          13,
          14,
          15,
          16,
          17,
          18,
          19,
          20,
          21,
          22,
          23,
          24,
          25,
          26,
          27,
          28,
          29,
          30,
          31,
          32,
          33,
          34,
          35,
          36,
          37,
          38,
          39,
          40,
          41,
          42,
          43,
          44,
          45,
          46,
          47,
          48,
          49,
          50
         ],
         "y": [
          null,
          null,
          null,
          null,
          null,
          null,
          null,
          null,
          null,
          null,
          null,
          null,
          null,
          null,
          null,
          null,
          null,
          null,
          null,
          null,
          null,
          null,
          null,
          null,
          null,
          null,
          null,
          null,
          null,
          null,
          null,
          null,
          null,
          null,
          null,
          null,
          null,
          null,
          null,
          null,
          null,
          null,
          null,
          null,
          null,
          null,
          null,
          null,
          null,
          null
         ]
        },
        {
         "line": {
          "color": "rgba(0, 100, 255, 0.6)",
          "dash": "dash",
          "width": 2
         },
         "marker": {
          "color": "rgba(0, 100, 255, 0.6)"
         },
         "mode": "lines+markers",
         "name": "p=1, RMSE",
         "type": "scatter",
         "x": [
          1,
          2,
          3,
          4,
          5,
          6,
          7,
          8,
          9,
          10,
          11,
          12,
          13,
          14,
          15,
          16,
          17,
          18,
          19,
          20,
          21,
          22,
          23,
          24,
          25,
          26,
          27,
          28,
          29,
          30,
          31,
          32,
          33,
          34,
          35,
          36,
          37,
          38,
          39,
          40,
          41,
          42,
          43,
          44,
          45,
          46,
          47,
          48,
          49,
          50
         ],
         "y": [
          null,
          null,
          null,
          null,
          null,
          null,
          null,
          null,
          null,
          null,
          null,
          null,
          null,
          null,
          null,
          null,
          null,
          null,
          null,
          null,
          null,
          null,
          null,
          null,
          null,
          null,
          null,
          null,
          null,
          null,
          null,
          null,
          null,
          null,
          null,
          null,
          null,
          null,
          null,
          null,
          null,
          null,
          null,
          null,
          null,
          null,
          null,
          null,
          null,
          null
         ]
        },
        {
         "line": {
          "color": "rgba(255, 140, 0, 0.6)",
          "dash": "solid",
          "width": 2
         },
         "marker": {
          "color": "rgba(255, 140, 0, 0.6)"
         },
         "mode": "lines+markers",
         "name": "p=2, R²",
         "type": "scatter",
         "x": [
          1,
          2,
          3,
          4,
          5,
          6,
          7,
          8,
          9,
          10,
          11,
          12,
          13,
          14,
          15,
          16,
          17,
          18,
          19,
          20,
          21,
          22,
          23,
          24,
          25,
          26,
          27,
          28,
          29,
          30,
          31,
          32,
          33,
          34,
          35,
          36,
          37,
          38,
          39,
          40,
          41,
          42,
          43,
          44,
          45,
          46,
          47,
          48,
          49,
          50
         ],
         "y": [
          null,
          null,
          null,
          null,
          null,
          null,
          null,
          null,
          null,
          null,
          null,
          null,
          null,
          null,
          null,
          null,
          null,
          null,
          null,
          null,
          null,
          null,
          null,
          null,
          null,
          null,
          null,
          null,
          null,
          null,
          null,
          null,
          null,
          null,
          null,
          null,
          null,
          null,
          null,
          null,
          null,
          null,
          null,
          null,
          null,
          null,
          null,
          null,
          null,
          null
         ]
        },
        {
         "line": {
          "color": "rgba(255, 140, 0, 0.6)",
          "dash": "dash",
          "width": 2
         },
         "marker": {
          "color": "rgba(255, 140, 0, 0.6)"
         },
         "mode": "lines+markers",
         "name": "p=2, RMSE",
         "type": "scatter",
         "x": [
          1,
          2,
          3,
          4,
          5,
          6,
          7,
          8,
          9,
          10,
          11,
          12,
          13,
          14,
          15,
          16,
          17,
          18,
          19,
          20,
          21,
          22,
          23,
          24,
          25,
          26,
          27,
          28,
          29,
          30,
          31,
          32,
          33,
          34,
          35,
          36,
          37,
          38,
          39,
          40,
          41,
          42,
          43,
          44,
          45,
          46,
          47,
          48,
          49,
          50
         ],
         "y": [
          null,
          null,
          null,
          null,
          null,
          null,
          null,
          null,
          null,
          null,
          null,
          null,
          null,
          null,
          null,
          null,
          null,
          null,
          null,
          null,
          null,
          null,
          null,
          null,
          null,
          null,
          null,
          null,
          null,
          null,
          null,
          null,
          null,
          null,
          null,
          null,
          null,
          null,
          null,
          null,
          null,
          null,
          null,
          null,
          null,
          null,
          null,
          null,
          null,
          null
         ]
        }
       ],
       "layout": {
        "height": 900,
        "legend": {
         "title": {
          "text": "Type of indicator"
         }
        },
        "template": {
         "data": {
          "bar": [
           {
            "error_x": {
             "color": "rgb(36,36,36)"
            },
            "error_y": {
             "color": "rgb(36,36,36)"
            },
            "marker": {
             "line": {
              "color": "white",
              "width": 0.5
             },
             "pattern": {
              "fillmode": "overlay",
              "size": 10,
              "solidity": 0.2
             }
            },
            "type": "bar"
           }
          ],
          "barpolar": [
           {
            "marker": {
             "line": {
              "color": "white",
              "width": 0.5
             },
             "pattern": {
              "fillmode": "overlay",
              "size": 10,
              "solidity": 0.2
             }
            },
            "type": "barpolar"
           }
          ],
          "carpet": [
           {
            "aaxis": {
             "endlinecolor": "rgb(36,36,36)",
             "gridcolor": "white",
             "linecolor": "white",
             "minorgridcolor": "white",
             "startlinecolor": "rgb(36,36,36)"
            },
            "baxis": {
             "endlinecolor": "rgb(36,36,36)",
             "gridcolor": "white",
             "linecolor": "white",
             "minorgridcolor": "white",
             "startlinecolor": "rgb(36,36,36)"
            },
            "type": "carpet"
           }
          ],
          "choropleth": [
           {
            "colorbar": {
             "outlinewidth": 1,
             "tickcolor": "rgb(36,36,36)",
             "ticks": "outside"
            },
            "type": "choropleth"
           }
          ],
          "contour": [
           {
            "colorbar": {
             "outlinewidth": 1,
             "tickcolor": "rgb(36,36,36)",
             "ticks": "outside"
            },
            "colorscale": [
             [
              0,
              "#440154"
             ],
             [
              0.1111111111111111,
              "#482878"
             ],
             [
              0.2222222222222222,
              "#3e4989"
             ],
             [
              0.3333333333333333,
              "#31688e"
             ],
             [
              0.4444444444444444,
              "#26828e"
             ],
             [
              0.5555555555555556,
              "#1f9e89"
             ],
             [
              0.6666666666666666,
              "#35b779"
             ],
             [
              0.7777777777777778,
              "#6ece58"
             ],
             [
              0.8888888888888888,
              "#b5de2b"
             ],
             [
              1,
              "#fde725"
             ]
            ],
            "type": "contour"
           }
          ],
          "contourcarpet": [
           {
            "colorbar": {
             "outlinewidth": 1,
             "tickcolor": "rgb(36,36,36)",
             "ticks": "outside"
            },
            "type": "contourcarpet"
           }
          ],
          "heatmap": [
           {
            "colorbar": {
             "outlinewidth": 1,
             "tickcolor": "rgb(36,36,36)",
             "ticks": "outside"
            },
            "colorscale": [
             [
              0,
              "#440154"
             ],
             [
              0.1111111111111111,
              "#482878"
             ],
             [
              0.2222222222222222,
              "#3e4989"
             ],
             [
              0.3333333333333333,
              "#31688e"
             ],
             [
              0.4444444444444444,
              "#26828e"
             ],
             [
              0.5555555555555556,
              "#1f9e89"
             ],
             [
              0.6666666666666666,
              "#35b779"
             ],
             [
              0.7777777777777778,
              "#6ece58"
             ],
             [
              0.8888888888888888,
              "#b5de2b"
             ],
             [
              1,
              "#fde725"
             ]
            ],
            "type": "heatmap"
           }
          ],
          "heatmapgl": [
           {
            "colorbar": {
             "outlinewidth": 1,
             "tickcolor": "rgb(36,36,36)",
             "ticks": "outside"
            },
            "colorscale": [
             [
              0,
              "#440154"
             ],
             [
              0.1111111111111111,
              "#482878"
             ],
             [
              0.2222222222222222,
              "#3e4989"
             ],
             [
              0.3333333333333333,
              "#31688e"
             ],
             [
              0.4444444444444444,
              "#26828e"
             ],
             [
              0.5555555555555556,
              "#1f9e89"
             ],
             [
              0.6666666666666666,
              "#35b779"
             ],
             [
              0.7777777777777778,
              "#6ece58"
             ],
             [
              0.8888888888888888,
              "#b5de2b"
             ],
             [
              1,
              "#fde725"
             ]
            ],
            "type": "heatmapgl"
           }
          ],
          "histogram": [
           {
            "marker": {
             "line": {
              "color": "white",
              "width": 0.6
             }
            },
            "type": "histogram"
           }
          ],
          "histogram2d": [
           {
            "colorbar": {
             "outlinewidth": 1,
             "tickcolor": "rgb(36,36,36)",
             "ticks": "outside"
            },
            "colorscale": [
             [
              0,
              "#440154"
             ],
             [
              0.1111111111111111,
              "#482878"
             ],
             [
              0.2222222222222222,
              "#3e4989"
             ],
             [
              0.3333333333333333,
              "#31688e"
             ],
             [
              0.4444444444444444,
              "#26828e"
             ],
             [
              0.5555555555555556,
              "#1f9e89"
             ],
             [
              0.6666666666666666,
              "#35b779"
             ],
             [
              0.7777777777777778,
              "#6ece58"
             ],
             [
              0.8888888888888888,
              "#b5de2b"
             ],
             [
              1,
              "#fde725"
             ]
            ],
            "type": "histogram2d"
           }
          ],
          "histogram2dcontour": [
           {
            "colorbar": {
             "outlinewidth": 1,
             "tickcolor": "rgb(36,36,36)",
             "ticks": "outside"
            },
            "colorscale": [
             [
              0,
              "#440154"
             ],
             [
              0.1111111111111111,
              "#482878"
             ],
             [
              0.2222222222222222,
              "#3e4989"
             ],
             [
              0.3333333333333333,
              "#31688e"
             ],
             [
              0.4444444444444444,
              "#26828e"
             ],
             [
              0.5555555555555556,
              "#1f9e89"
             ],
             [
              0.6666666666666666,
              "#35b779"
             ],
             [
              0.7777777777777778,
              "#6ece58"
             ],
             [
              0.8888888888888888,
              "#b5de2b"
             ],
             [
              1,
              "#fde725"
             ]
            ],
            "type": "histogram2dcontour"
           }
          ],
          "mesh3d": [
           {
            "colorbar": {
             "outlinewidth": 1,
             "tickcolor": "rgb(36,36,36)",
             "ticks": "outside"
            },
            "type": "mesh3d"
           }
          ],
          "parcoords": [
           {
            "line": {
             "colorbar": {
              "outlinewidth": 1,
              "tickcolor": "rgb(36,36,36)",
              "ticks": "outside"
             }
            },
            "type": "parcoords"
           }
          ],
          "pie": [
           {
            "automargin": true,
            "type": "pie"
           }
          ],
          "scatter": [
           {
            "fillpattern": {
             "fillmode": "overlay",
             "size": 10,
             "solidity": 0.2
            },
            "type": "scatter"
           }
          ],
          "scatter3d": [
           {
            "line": {
             "colorbar": {
              "outlinewidth": 1,
              "tickcolor": "rgb(36,36,36)",
              "ticks": "outside"
             }
            },
            "marker": {
             "colorbar": {
              "outlinewidth": 1,
              "tickcolor": "rgb(36,36,36)",
              "ticks": "outside"
             }
            },
            "type": "scatter3d"
           }
          ],
          "scattercarpet": [
           {
            "marker": {
             "colorbar": {
              "outlinewidth": 1,
              "tickcolor": "rgb(36,36,36)",
              "ticks": "outside"
             }
            },
            "type": "scattercarpet"
           }
          ],
          "scattergeo": [
           {
            "marker": {
             "colorbar": {
              "outlinewidth": 1,
              "tickcolor": "rgb(36,36,36)",
              "ticks": "outside"
             }
            },
            "type": "scattergeo"
           }
          ],
          "scattergl": [
           {
            "marker": {
             "colorbar": {
              "outlinewidth": 1,
              "tickcolor": "rgb(36,36,36)",
              "ticks": "outside"
             }
            },
            "type": "scattergl"
           }
          ],
          "scattermapbox": [
           {
            "marker": {
             "colorbar": {
              "outlinewidth": 1,
              "tickcolor": "rgb(36,36,36)",
              "ticks": "outside"
             }
            },
            "type": "scattermapbox"
           }
          ],
          "scatterpolar": [
           {
            "marker": {
             "colorbar": {
              "outlinewidth": 1,
              "tickcolor": "rgb(36,36,36)",
              "ticks": "outside"
             }
            },
            "type": "scatterpolar"
           }
          ],
          "scatterpolargl": [
           {
            "marker": {
             "colorbar": {
              "outlinewidth": 1,
              "tickcolor": "rgb(36,36,36)",
              "ticks": "outside"
             }
            },
            "type": "scatterpolargl"
           }
          ],
          "scatterternary": [
           {
            "marker": {
             "colorbar": {
              "outlinewidth": 1,
              "tickcolor": "rgb(36,36,36)",
              "ticks": "outside"
             }
            },
            "type": "scatterternary"
           }
          ],
          "surface": [
           {
            "colorbar": {
             "outlinewidth": 1,
             "tickcolor": "rgb(36,36,36)",
             "ticks": "outside"
            },
            "colorscale": [
             [
              0,
              "#440154"
             ],
             [
              0.1111111111111111,
              "#482878"
             ],
             [
              0.2222222222222222,
              "#3e4989"
             ],
             [
              0.3333333333333333,
              "#31688e"
             ],
             [
              0.4444444444444444,
              "#26828e"
             ],
             [
              0.5555555555555556,
              "#1f9e89"
             ],
             [
              0.6666666666666666,
              "#35b779"
             ],
             [
              0.7777777777777778,
              "#6ece58"
             ],
             [
              0.8888888888888888,
              "#b5de2b"
             ],
             [
              1,
              "#fde725"
             ]
            ],
            "type": "surface"
           }
          ],
          "table": [
           {
            "cells": {
             "fill": {
              "color": "rgb(237,237,237)"
             },
             "line": {
              "color": "white"
             }
            },
            "header": {
             "fill": {
              "color": "rgb(217,217,217)"
             },
             "line": {
              "color": "white"
             }
            },
            "type": "table"
           }
          ]
         },
         "layout": {
          "annotationdefaults": {
           "arrowhead": 0,
           "arrowwidth": 1
          },
          "autotypenumbers": "strict",
          "coloraxis": {
           "colorbar": {
            "outlinewidth": 1,
            "tickcolor": "rgb(36,36,36)",
            "ticks": "outside"
           }
          },
          "colorscale": {
           "diverging": [
            [
             0,
             "rgb(103,0,31)"
            ],
            [
             0.1,
             "rgb(178,24,43)"
            ],
            [
             0.2,
             "rgb(214,96,77)"
            ],
            [
             0.3,
             "rgb(244,165,130)"
            ],
            [
             0.4,
             "rgb(253,219,199)"
            ],
            [
             0.5,
             "rgb(247,247,247)"
            ],
            [
             0.6,
             "rgb(209,229,240)"
            ],
            [
             0.7,
             "rgb(146,197,222)"
            ],
            [
             0.8,
             "rgb(67,147,195)"
            ],
            [
             0.9,
             "rgb(33,102,172)"
            ],
            [
             1,
             "rgb(5,48,97)"
            ]
           ],
           "sequential": [
            [
             0,
             "#440154"
            ],
            [
             0.1111111111111111,
             "#482878"
            ],
            [
             0.2222222222222222,
             "#3e4989"
            ],
            [
             0.3333333333333333,
             "#31688e"
            ],
            [
             0.4444444444444444,
             "#26828e"
            ],
            [
             0.5555555555555556,
             "#1f9e89"
            ],
            [
             0.6666666666666666,
             "#35b779"
            ],
            [
             0.7777777777777778,
             "#6ece58"
            ],
            [
             0.8888888888888888,
             "#b5de2b"
            ],
            [
             1,
             "#fde725"
            ]
           ],
           "sequentialminus": [
            [
             0,
             "#440154"
            ],
            [
             0.1111111111111111,
             "#482878"
            ],
            [
             0.2222222222222222,
             "#3e4989"
            ],
            [
             0.3333333333333333,
             "#31688e"
            ],
            [
             0.4444444444444444,
             "#26828e"
            ],
            [
             0.5555555555555556,
             "#1f9e89"
            ],
            [
             0.6666666666666666,
             "#35b779"
            ],
            [
             0.7777777777777778,
             "#6ece58"
            ],
            [
             0.8888888888888888,
             "#b5de2b"
            ],
            [
             1,
             "#fde725"
            ]
           ]
          },
          "colorway": [
           "#1F77B4",
           "#FF7F0E",
           "#2CA02C",
           "#D62728",
           "#9467BD",
           "#8C564B",
           "#E377C2",
           "#7F7F7F",
           "#BCBD22",
           "#17BECF"
          ],
          "font": {
           "color": "rgb(36,36,36)"
          },
          "geo": {
           "bgcolor": "white",
           "lakecolor": "white",
           "landcolor": "white",
           "showlakes": true,
           "showland": true,
           "subunitcolor": "white"
          },
          "hoverlabel": {
           "align": "left"
          },
          "hovermode": "closest",
          "mapbox": {
           "style": "light"
          },
          "paper_bgcolor": "white",
          "plot_bgcolor": "white",
          "polar": {
           "angularaxis": {
            "gridcolor": "rgb(232,232,232)",
            "linecolor": "rgb(36,36,36)",
            "showgrid": false,
            "showline": true,
            "ticks": "outside"
           },
           "bgcolor": "white",
           "radialaxis": {
            "gridcolor": "rgb(232,232,232)",
            "linecolor": "rgb(36,36,36)",
            "showgrid": false,
            "showline": true,
            "ticks": "outside"
           }
          },
          "scene": {
           "xaxis": {
            "backgroundcolor": "white",
            "gridcolor": "rgb(232,232,232)",
            "gridwidth": 2,
            "linecolor": "rgb(36,36,36)",
            "showbackground": true,
            "showgrid": false,
            "showline": true,
            "ticks": "outside",
            "zeroline": false,
            "zerolinecolor": "rgb(36,36,36)"
           },
           "yaxis": {
            "backgroundcolor": "white",
            "gridcolor": "rgb(232,232,232)",
            "gridwidth": 2,
            "linecolor": "rgb(36,36,36)",
            "showbackground": true,
            "showgrid": false,
            "showline": true,
            "ticks": "outside",
            "zeroline": false,
            "zerolinecolor": "rgb(36,36,36)"
           },
           "zaxis": {
            "backgroundcolor": "white",
            "gridcolor": "rgb(232,232,232)",
            "gridwidth": 2,
            "linecolor": "rgb(36,36,36)",
            "showbackground": true,
            "showgrid": false,
            "showline": true,
            "ticks": "outside",
            "zeroline": false,
            "zerolinecolor": "rgb(36,36,36)"
           }
          },
          "shapedefaults": {
           "fillcolor": "black",
           "line": {
            "width": 0
           },
           "opacity": 0.3
          },
          "ternary": {
           "aaxis": {
            "gridcolor": "rgb(232,232,232)",
            "linecolor": "rgb(36,36,36)",
            "showgrid": false,
            "showline": true,
            "ticks": "outside"
           },
           "baxis": {
            "gridcolor": "rgb(232,232,232)",
            "linecolor": "rgb(36,36,36)",
            "showgrid": false,
            "showline": true,
            "ticks": "outside"
           },
           "bgcolor": "white",
           "caxis": {
            "gridcolor": "rgb(232,232,232)",
            "linecolor": "rgb(36,36,36)",
            "showgrid": false,
            "showline": true,
            "ticks": "outside"
           }
          },
          "title": {
           "x": 0.05
          },
          "xaxis": {
           "automargin": true,
           "gridcolor": "rgb(232,232,232)",
           "linecolor": "rgb(36,36,36)",
           "showgrid": false,
           "showline": true,
           "ticks": "outside",
           "title": {
            "standoff": 15
           },
           "zeroline": false,
           "zerolinecolor": "rgb(36,36,36)"
          },
          "yaxis": {
           "automargin": true,
           "gridcolor": "rgb(232,232,232)",
           "linecolor": "rgb(36,36,36)",
           "showgrid": false,
           "showline": true,
           "ticks": "outside",
           "title": {
            "standoff": 15
           },
           "zeroline": false,
           "zerolinecolor": "rgb(36,36,36)"
          }
         }
        },
        "title": {
         "text": "k vs Mean R² / RMSE(p=1 VS p=2)"
        },
        "width": 900,
        "xaxis": {
         "title": {
          "text": "K value"
         }
        },
        "yaxis": {
         "range": [
          0,
          4
         ],
         "title": {
          "text": "R² and RMSE"
         }
        }
       }
      }
     },
     "metadata": {},
     "output_type": "display_data"
    },
    {
     "data": {
      "text/plain": [
       "<Figure size 640x480 with 0 Axes>"
      ]
     },
     "metadata": {},
     "output_type": "display_data"
    }
   ],
   "source": [
    "# Setting the colour transparency mapping\n",
    "color_map = {\n",
    "    # blue, 60 percent transparency\n",
    "    1: 'rgba(0, 100, 255, 0.6)',   \n",
    "    # orange, 60 percent transparency\n",
    "    2: 'rgba(255, 140, 0, 0.6)'    \n",
    "}\n",
    "\n",
    "fig = go.Figure()\n",
    "\n",
    "# Add the R² solid line and RMSE dotted line for each p\n",
    "for p in sorted(results_df_new['p'].unique()):\n",
    "    sub_df = results_df_new[results_df_new['p'] == p]\n",
    "    \n",
    "    # R² solid line\n",
    "    fig.add_trace(go.Scatter(\n",
    "        x=sub_df['k'], y=sub_df['mean_r2'],\n",
    "        mode='lines+markers',\n",
    "        name=f'p={p}, R²',\n",
    "        line=dict(color=color_map[p], width=2, dash='solid'),\n",
    "        marker=dict(color=color_map[p])\n",
    "    ))\n",
    "    \n",
    "    # RMSE dotted line\n",
    "    fig.add_trace(go.Scatter(\n",
    "        x=sub_df['k'], y=sub_df['mean_rmse'],\n",
    "        mode='lines+markers',\n",
    "        name=f'p={p}, RMSE',\n",
    "        line=dict(color=color_map[p], width=2, dash='dash'),\n",
    "        marker=dict(color=color_map[p])\n",
    "    ))\n",
    "\n",
    "fig.update_layout(\n",
    "    title=\"k vs Mean R² / RMSE(p=1 VS p=2)\",\n",
    "    xaxis_title=\"K value\",\n",
    "    yaxis_title=\"R² and RMSE\",\n",
    "    yaxis=dict(range=[0, 4]),\n",
    "    legend_title=\"Type of indicator\",\n",
    "    template=\"simple_white\",\n",
    "    width=900,\n",
    "    height=900\n",
    ")\n",
    "\n",
    "plt.tight_layout()\n",
    "fig.show()"
   ]
  },
  {
   "cell_type": "markdown",
   "id": "3343268d-fdd9-448d-9714-0287476f5197",
   "metadata": {},
   "source": [
    "```\n",
    "Correspondence line graph of k value and R², RMSE for p = 1 and p = 2\n",
    "\n",
    "According to the generated tables and plots, the R² and RMSE scores are very close to each other and are essentially the same when p = 1 and p = 2. This suggests that there is virtually no difference in the model's performance when using the Manhattan distance or the Euclidean distance to compute predictions. Similarly, the model's correctness error does not fluctuate significantly based on the RMSE scores. There is no obvious optimal inflection point for the k value, but when k increases, the value of RMSE decreases smoothly. To prevent overfitting, according to the image, the model performs relatively well when the k value range is between 20 and 30\n",
    "\n",
    "```"
   ]
  },
  {
   "cell_type": "markdown",
   "id": "0c45d2a7-e5ae-4bcd-85a2-fe0db4d7b3af",
   "metadata": {},
   "source": [
    "## Run KNN model with the best parameters"
   ]
  },
  {
   "cell_type": "code",
   "execution_count": 39,
   "id": "20db01b1-603b-48d9-810d-b7eb191a2582",
   "metadata": {},
   "outputs": [
    {
     "ename": "NameError",
     "evalue": "name 'submission_sample' is not defined",
     "output_type": "error",
     "traceback": [
      "\u001b[0;31m---------------------------------------------------------------------------\u001b[0m",
      "\u001b[0;31mNameError\u001b[0m                                 Traceback (most recent call last)",
      "Cell \u001b[0;32mIn[39], line 2\u001b[0m\n\u001b[1;32m      1\u001b[0m \u001b[38;5;66;03m# KNN: Projections for the remaining 3,300 columns\u001b[39;00m\n\u001b[0;32m----> 2\u001b[0m y_cols_new \u001b[38;5;241m=\u001b[39m submission_sample\u001b[38;5;241m.\u001b[39mcolumns\u001b[38;5;241m.\u001b[39mtolist()[\u001b[38;5;241m1\u001b[39m:]  \n\u001b[1;32m      4\u001b[0m x_train \u001b[38;5;241m=\u001b[39m train_cleaned[x_cols]\n\u001b[1;32m      5\u001b[0m y_train \u001b[38;5;241m=\u001b[39m train_cleaned[y_cols_new]\n",
      "\u001b[0;31mNameError\u001b[0m: name 'submission_sample' is not defined"
     ]
    }
   ],
   "source": [
    "# KNN: Projections for the remaining 3,300 columns\n",
    "y_cols_new = submission_sample.columns.tolist()[1:]  \n",
    "\n",
    "x_train = train_cleaned[x_cols]\n",
    "y_train = train_cleaned[y_cols_new]\n",
    "\n",
    "# Preprocessing training set and test set\n",
    "imp = SimpleImputer()\n",
    "scaler = StandardScaler()\n",
    "\n",
    "x_train_imp = imp.fit_transform(x_train)\n",
    "x_train_scaled = scaler.fit_transform(x_train_imp)\n",
    "\n",
    "x_test = test_cleaned[x_cols]\n",
    "x_test_imp = imp.transform(x_test)\n",
    "x_test_scaled = scaler.transform(x_test_imp)\n",
    "\n",
    "# build the KNN model with the best parameters from above\n",
    "knn = KNeighborsRegressor(\n",
    "    n_neighbors=25,\n",
    "    p=1\n",
    ")\n",
    "model = MultiOutputRegressor(knn)\n",
    "model.fit(x_train_scaled, y_train)\n",
    "\n",
    "# Predict the results and generate the submission file for KNN\n",
    "y_pred = model.predict(x_test_scaled)\n",
    "submission_df = pd.DataFrame(y_pred, columns=y_cols_new)\n",
    "submission_df.insert(0, 'geology_id', test_df['geology_id'])\n",
    "submission_df.to_csv(\"submission_knn_best.csv\", index=False)\n",
    "submission_path"
   ]
  },
  {
   "cell_type": "markdown",
   "id": "71af8ba3",
   "metadata": {},
   "source": [
    "# Modelling with alternative algorithms"
   ]
  },
  {
   "cell_type": "code",
   "execution_count": null,
   "id": "1a699945-9063-46a6-a723-b872e1411670",
   "metadata": {},
   "outputs": [],
   "source": [
    "# Feature and target columns\n",
    "x_new_cols = [str(i) for i in range(-49, 1)]\n",
    "y_new_cols = [str(i) for i in range(1, 301)] + [f\"r_{i}_pos_{j}\" for i in range(1, 10) for j in range(1, 301)]\n",
    "\n",
    "# Feature and target columns\n",
    "x_new = train_cleaned[X_cols]\n",
    "y_new = train_cleaned[y_cols]\n",
    "\n",
    "# To reduce training time, only use the first 300 target columns to train the model\n",
    "y_new = y_new[[str(i) for i in range(1, 301)]]\n",
    "\n",
    "# split the test set\n",
    "x_train, x_val, y_train, y_val = train_test_split(x, y, test_size=0.2, random_state=42)\n",
    "\n",
    "# Preprocessing the training set and test set for further experiments in different algorithms\n",
    "imp = SimpleImputer()\n",
    "scaler = StandardScaler()\n",
    "\n",
    "x_train_scaled = scaler.fit_transform(imp.fit_transform(x_train))\n",
    "x_val_scaled = scaler.transform(imp.transform(x_val))\n",
    "x_test_scaled = scaler.transform(imp.transform(test_cleaned[x_new_cols]))"
   ]
  },
  {
   "cell_type": "code",
   "execution_count": null,
   "id": "f40c7e58",
   "metadata": {},
   "outputs": [],
   "source": [
    "def evaluate_model(name, estimator, param_grid, x_train, y_train, x_val, y_val):\n",
    "    # Finding Optimal Hyperparameter Combinations Using GridSearchCV (3-Fold Cross Validation)\n",
    "    # Calculation of training time\n",
    "    start = time.time()\n",
    "    grid = GridSearchCV(\n",
    "        MultiOutputRegressor(estimator),\n",
    "        param_grid=param_grid,\n",
    "        cv=3,\n",
    "        scoring='neg_root_mean_squared_error',\n",
    "        n_jobs=-1\n",
    "    )\n",
    "\n",
    "    # Finding hyperparameters and validating the results\n",
    "    grid.fit(x_train, y_train)\n",
    "    preds = grid.predict(x_val) \n",
    "    rmse = np.sqrt(mean_squared_error(y_val, preds))\n",
    "    r2 = r2_score(y_val, preds)\n",
    "\n",
    "    # Return model evaluation results and optimal hyperparameters\n",
    "    return {\n",
    "        'model': name,\n",
    "        'rmse': rmse,\n",
    "        'r2': r2,\n",
    "        'train_time': round(time.time() - start, 2),\n",
    "        'best_params': grid.best_params_\n",
    "    }"
   ]
  },
  {
   "cell_type": "markdown",
   "id": "63eb8155-10d1-4979-8e0c-c747e29848cd",
   "metadata": {},
   "source": [
    "## Support Vector Regression"
   ]
  },
  {
   "cell_type": "code",
   "execution_count": null,
   "id": "885af68c",
   "metadata": {},
   "outputs": [],
   "source": [
    "# Support Vector Regression\n",
    "models = [\n",
    "    {\n",
    "        'name': 'SVR',\n",
    "        'estimator': SVR(),\n",
    "        'params': {\n",
    "            'estimator__C': [0.1, 1, 10, 100, 1000],\n",
    "            'estimator__gamma': ['scale', 'auto']\n",
    "        }\n",
    "    }\n",
    "]\n",
    "\n",
    "results = [evaluate_model(cfg['name'], cfg['estimator'], cfg['params'], x_train_scaled, y_train, x_val_scaled, y_val) for cfg in models]\n",
    "\n",
    "results_SVR = pd.DataFrame(results)\n",
    "print(results_SVR)"
   ]
  },
  {
   "cell_type": "markdown",
   "id": "54f5fca8-2134-4077-b13f-6ac6aebb1b4a",
   "metadata": {},
   "source": [
    "When the model is Support Vector Regression, the optimal parameters are C = 10, gamma = 'auto', and the best model values of RMSE and R² are 2.849326 and 0.820173, respectively."
   ]
  },
  {
   "cell_type": "code",
   "execution_count": null,
   "id": "fd3e50c8-a4e9-4570-bbe0-29fbc597bd1c",
   "metadata": {},
   "outputs": [],
   "source": [
    "# Projections for the remaining 3,300 columns\n",
    "x_cols = [str(i) for i in range(-49, 1)]\n",
    "y_cols = sample_submission.columns.tolist()[1:]\n",
    "\n",
    "x_train = train_cleaned[x_cols]\n",
    "y_train = train_cleaned[y_cols]\n",
    "x_test = test_cleaned[x_cols]\n",
    "\n",
    "# Preprocessing training set and test set\n",
    "imp = SimpleImputer()\n",
    "scaler = StandardScaler()\n",
    "x_train_scaled = scaler.fit_transform(imp.fit_transform(x_train))\n",
    "x_test_scaled = scaler.transform(imp.transform(x_test))\n",
    "\n",
    "# Support Vector Regression\n",
    "svr = SVR(C=10, gamma='auto')\n",
    "model = MultiOutputRegressor(svr)\n",
    "model.fit(x_train_scaled, y_train)\n",
    "\n",
    "# Predict the results and generate the submission file for Support Vector Regression\n",
    "y_pred = model.predict(x_test_scaled)\n",
    "submission_df = pd.DataFrame(y_pred, columns=y_cols)\n",
    "submission_df.insert(0, 'geology_id', test_df['geology_id'])\n",
    "submission_path = \"submission_svr_best.csv\"\n",
    "submission_df.to_csv(submission_path, index=False)\n",
    "\n",
    "submission_path"
   ]
  },
  {
   "cell_type": "markdown",
   "id": "976630c2-11e0-4bf0-99ea-b06aff92a8fc",
   "metadata": {},
   "source": [
    "## Ridge Regression"
   ]
  },
  {
   "cell_type": "code",
   "execution_count": null,
   "id": "57bbdc72-71df-4c29-ad0c-5f8bdd088ba7",
   "metadata": {},
   "outputs": [],
   "source": [
    "# Ridge Regression\n",
    "models = [\n",
    "    {\n",
    "        'name': 'Ridge Regression',\n",
    "        'estimator': Ridge(),\n",
    "        'params': {\n",
    "            'estimator__alpha': [0.1, 1.0, 10.0]\n",
    "        }\n",
    "    }\n",
    "]\n",
    "\n",
    "results = [evaluate_model(cfg['name'], cfg['estimator'], cfg['params'], x_train_scaled, y_train, x_val_scaled, y_val) for cfg in models]\n",
    "\n",
    "results_Regression = pd.DataFrame(results)\n",
    "print(results_Regression)"
   ]
  },
  {
   "cell_type": "markdown",
   "id": "a3ad4282-b6b1-473e-b6ec-361bbe4b5a9c",
   "metadata": {},
   "source": [
    "When the model is Ridge Regression, the optimal parameters are C = 1.0, and the best model values of RMSE and R² are 2.681528 and 0.858631."
   ]
  },
  {
   "cell_type": "code",
   "execution_count": null,
   "id": "ad0eca38-3ab5-4243-891e-b97969602ce1",
   "metadata": {},
   "outputs": [],
   "source": [
    "# Construct Ridge model (alpha=1.0)\n",
    "ridge = Ridge(alpha=1.0)\n",
    "model = MultiOutputRegressor(ridge)\n",
    "model.fit(x_train_scaled, y_train)\n",
    "\n",
    "# Predict the results and generate the submission file for Ridge Regression\n",
    "y_pred = model.predict(x_test_scaled)\n",
    "submission_df = pd.DataFrame(y_pred, columns=y_cols)\n",
    "submission_df.insert(0, 'geology_id', test_df['geology_id'])\n",
    "submission_path = \"submission_ridge.csv\"\n",
    "submission_df.to_csv(submission_path, index=False)\n",
    "\n",
    "submission_path"
   ]
  },
  {
   "cell_type": "markdown",
   "id": "79831aa3-dd8e-4fe2-b260-20e4275b3bc6",
   "metadata": {},
   "source": [
    "## Decision tree"
   ]
  },
  {
   "cell_type": "code",
   "execution_count": null,
   "id": "3bc396d1-9392-4c11-a151-0ca95723b7f8",
   "metadata": {},
   "outputs": [],
   "source": [
    "# Decision tree\n",
    "models = [\n",
    "    {\n",
    "    'name': 'Decision Tree',\n",
    "    'estimator': DecisionTreeRegressor(random_state=42),\n",
    "    'params': {\n",
    "        'estimator__max_depth': [5, 10, 20]\n",
    "    }\n",
    "}\n",
    "]\n",
    "\n",
    "results = [evaluate_model(cfg['name'], cfg['estimator'], cfg['params'], x_train_scaled, y_train, x_val_scaled, y_val) for cfg in models]\n",
    "\n",
    "results_Decision_Tree = pd.DataFrame(results)\n",
    "print(results_Decision_Tree)"
   ]
  },
  {
   "cell_type": "markdown",
   "id": "354f91b4-89e0-4550-96f4-7c78829d645e",
   "metadata": {},
   "source": [
    "When the model is a Decision tree, the optimal parameter is max_depth=5, and the values of RMSE and R² are 2.933397 and 0.803052, respectively."
   ]
  },
  {
   "cell_type": "code",
   "execution_count": null,
   "id": "496ce522-1955-4fb3-95d9-f37e5b806f8e",
   "metadata": {},
   "outputs": [],
   "source": [
    "# Reconstructing the decision tree model(max_depth=5)\n",
    "dt_model = DecisionTreeRegressor(max_depth=5, random_state=42)\n",
    "model = MultiOutputRegressor(dt_model)\n",
    "model.fit(x_train_scaled, y_train)\n",
    "\n",
    "# Predict the results and generate the submission file for Decision tree\n",
    "y_pred = model.predict(x_test_scaled)\n",
    "submission_df = pd.DataFrame(y_pred, columns=y_cols)\n",
    "submission_df.insert(0, 'geology_id', test_df['geology_id'])\n",
    "submission_path = \"submission_decision_tree.csv\"\n",
    "submission_df.to_csv(submission_path, index=False)\n",
    "\n",
    "submission_path"
   ]
  },
  {
   "cell_type": "markdown",
   "id": "6335e9f6",
   "metadata": {},
   "source": [
    "# History and trend of Kaggle submission scores\n",
    "\n",
    "- try to plot your scores over time and discuss what experimental tweaks you performed at each step"
   ]
  },
  {
   "cell_type": "markdown",
   "id": "aec1d453-b5c6-4c04-a7fc-e8efa5f8236d",
   "metadata": {},
   "source": [
    "```\n",
    "After data cleaning, the performance of the model has decreased, even far less than before, and here are several reasons I guess:\n",
    "\n",
    "```\n",
    "\n",
    "1. During the data cleaning process, some data may be removed or interpolated to make the dataset smoother; however, this does not accurately reflect the changes in the specific geology, resulting in a lower prediction rate compared to before.\n",
    "2. After data cleaning, when studying the hyperparameters, the change in data structure also alters the values of the hyperparameters. The RMSE values and R-squared are smoother after data cleaning, resulting in the inability to identify the more obvious k-value as before, which leads to a decrease in the model's performance.\n",
    "3. The current data characteristics and sample size may limit the accuracy of the KNN model, or the problem may not be susceptible to KNN-type models."
   ]
  },
  {
   "cell_type": "markdown",
   "id": "8702304b",
   "metadata": {},
   "source": [
    "# Bonus Material\n",
    "\n",
    "### Cluster analysis\n",
    "\n",
    "### Description of how you extracted additional features"
   ]
  },
  {
   "cell_type": "code",
   "execution_count": null,
   "id": "f4f41dbf",
   "metadata": {},
   "outputs": [],
   "source": [
    "# Reload the data\n",
    "x = train_cleaned[priority_cols]\n",
    "\n",
    "# Preprocessing the training set and test set for further experiments\n",
    "imp = SimpleImputer()\n",
    "scaler = StandardScaler()\n",
    "x_scaled = scaler.fit_transform(imp.fit_transform(x))\n",
    "\n",
    "# PCA downgrading for visualization\n",
    "pca = PCA(n_components=2)\n",
    "x_pca = pca.fit_transform(x_scaled)\n",
    "\n",
    "# Applying KMeans clustering (3 clusters)\n",
    "kmeans = KMeans(n_clusters=3, random_state=42, n_init='auto')\n",
    "clusters = kmeans.fit_predict(x_scaled)\n",
    "\n",
    "# Building visualisation datasets\n",
    "plot_df = pd.DataFrame(x_pca, columns=['PC1', 'PC2'])\n",
    "plot_df['Cluster'] = clusters\n",
    "plot_df['geology_id'] = train_cleaned['geology_id']\n",
    "\n",
    "fig = px.scatter(\n",
    "    plot_df, x='PC1', y='PC2', color='Cluster',\n",
    "    hover_data=['geology_id'],\n",
    "    title='KMeans Clustering of test_cleaned.csv (based on -49 to 0)'\n",
    ")\n",
    "\n",
    "fig.show()"
   ]
  },
  {
   "cell_type": "markdown",
   "id": "46fcda90",
   "metadata": {},
   "source": [
    "# Conclusion\n",
    "\n",
    "This project addresses the problem of multi-output regression prediction of geological Z-values. It establishes a high-dimensional target prediction framework through systematic data cleaning, feature analysis, and model comparison. The study begins by targeting valid input features (-49 to 0 m drilling data) through exploratory data analysis (EDA) and validates the potential of the k-nearest neighbour algorithm (kNN) as a baseline model (Kaggle score -47.84), while support vector regression (SVR) performs the best under its ability to capture high-dimensional nonlinear relationships (score -47.02). Ridge regression strikes a balance between accuracy and speed, whereas decision trees are interpretable but prone to underfitting. The team employed cross-validation and grid search to ensure model generalization, complemented by cluster analysis and feature engineering to enhance data insights. This approach ultimately validated the core value of data preprocessing, controlled experimentation, and model interpretability in a practical machine learning process. Despite the good performance of existing models, further breakthroughs can be achieved in the future through integrated learning, deep feature extraction, or sequence modeling."
   ]
  }
 ],
 "metadata": {
  "kernelspec": {
   "display_name": "base",
   "language": "python",
   "name": "python3"
  },
  "language_info": {
   "codemirror_mode": {
    "name": "ipython",
    "version": 3
   },
   "file_extension": ".py",
   "mimetype": "text/x-python",
   "name": "python",
   "nbconvert_exporter": "python",
   "pygments_lexer": "ipython3",
   "version": "3.12.2"
  }
 },
 "nbformat": 4,
 "nbformat_minor": 5
}
